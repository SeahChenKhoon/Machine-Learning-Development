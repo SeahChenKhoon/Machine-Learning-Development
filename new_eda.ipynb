{
 "cells": [
  {
   "cell_type": "code",
   "execution_count": 40,
   "id": "0adedcaa",
   "metadata": {
    "scrolled": true
   },
   "outputs": [],
   "source": [
    "# !pip install pydotplus"
   ]
  },
  {
   "cell_type": "code",
   "execution_count": 41,
   "id": "a2ea04a8",
   "metadata": {
    "scrolled": true
   },
   "outputs": [],
   "source": [
    "from sklearn.model_selection import train_test_split\n",
    "from sklearn.linear_model import LogisticRegression\n",
    "from sklearn.ensemble import RandomForestClassifier\n",
    "from sklearn.metrics import confusion_matrix\n",
    "from sklearn.metrics import classification_report\n",
    "from sklearn.tree import DecisionTreeClassifier, export_graphviz\n",
    "import numpy as np\n",
    "import pandas as pd\n",
    "import yaml\n",
    "import pydotplus\n",
    "import ast"
   ]
  },
  {
   "cell_type": "code",
   "execution_count": 42,
   "id": "cae6a79e",
   "metadata": {
    "scrolled": true
   },
   "outputs": [],
   "source": [
    "%run ./src/database.py\n",
    "%run ./src/util.py\n",
    "%run ./src/data_preprocessing.py\n",
    "%run ./src/feature_engineering.py\n",
    "%run ./src/visualisation.py\n",
    "%run ./src/model_build.py"
   ]
  },
  {
   "cell_type": "code",
   "execution_count": 43,
   "id": "18d550f5",
   "metadata": {
    "scrolled": true
   },
   "outputs": [],
   "source": [
    "YAML_FILEPATHNAME = \"./config.yaml\"\n",
    "PRE_CRUISE_DB = 0\n",
    "POST_CRUISE_DB = 1\n",
    "IS_NOTEBOOK = True"
   ]
  },
  {
   "cell_type": "markdown",
   "id": "bd7be908",
   "metadata": {},
   "source": [
    "# Read yaml config and data"
   ]
  },
  {
   "cell_type": "code",
   "execution_count": 44,
   "id": "9c49f404",
   "metadata": {
    "scrolled": true
   },
   "outputs": [],
   "source": [
    "# Read YAML file\n",
    "yaml_data = read_yaml(YAML_FILEPATHNAME)\n",
    "DISPLAY_STUB = yaml_data['display_stub']\n",
    "DATA_PATH = yaml_data['data_path']\n",
    "TEST_SIZE = yaml_data['test_size']\n",
    "RANDOM_STATE = yaml_data['random_state']\n",
    "TARGET_VARIABLE = yaml_data['target_variable']\n",
    "DB_INFO = yaml_data['databases']\n",
    "COMPOSITE_FIELD_INFO = yaml_data['composite_fields_to_split']\n",
    "ID_FIELDS = ast.literal_eval(yaml_data['ID_columns'])\n",
    "DATETIME_FIELD_INFO = yaml_data['convert_obj_datetime']\n",
    "NUMERIC_FIELD_INFO = yaml_data['convert_obj_numeric']\n",
    "MISSING_VAL_THRESHOLD =  yaml_data['pct_missing_threshold']\n",
    "CONTINUOUS_VARIABLE = ast.literal_eval(yaml_data['continuous_variables'])\n",
    "DIRTY_DATA_INFO = yaml_data['dirty_data_setting']\n",
    "VALID_DATA_INFO = yaml_data['valid_data_setting']\n",
    "NON_NUMERIC_COL = yaml_data['non_numeric_cols']\n",
    "DATE_YYYY_INFO = yaml_data['convert_date_yyyy']\n",
    "IMPUTE_MISSING_VALUE_INFO = yaml_data['impute_missing_value']\n",
    "OHE_FIELDS = ast.literal_eval(yaml_data['one_hot_encode'])"
   ]
  },
  {
   "cell_type": "code",
   "execution_count": 45,
   "id": "a7145d81",
   "metadata": {
    "scrolled": true
   },
   "outputs": [],
   "source": [
    "# Read Pre_cruise data\n",
    "df_pre_cruise = db_read(DATA_PATH, DB_INFO[PRE_CRUISE_DB])"
   ]
  },
  {
   "cell_type": "code",
   "execution_count": 46,
   "id": "36ae8754",
   "metadata": {
    "scrolled": true
   },
   "outputs": [],
   "source": [
    "# Read Post_cruise data\n",
    "df_post_cruise = db_read(DATA_PATH, DB_INFO[POST_CRUISE_DB])"
   ]
  },
  {
   "cell_type": "code",
   "execution_count": 47,
   "id": "a019ce5e",
   "metadata": {
    "scrolled": true
   },
   "outputs": [],
   "source": [
    "# Merge Pre_cruise and Post_cruise to form df_cruise with Index as the key\n",
    "df_cruise = db_merge_db (df_pre_cruise, df_post_cruise)"
   ]
  },
  {
   "cell_type": "markdown",
   "id": "75a38112",
   "metadata": {},
   "source": [
    "# Preprocessing"
   ]
  },
  {
   "cell_type": "code",
   "execution_count": 48,
   "id": "435e6611",
   "metadata": {
    "scrolled": true
   },
   "outputs": [],
   "source": [
    "dp = DataProcessing(df_cruise, DISPLAY_STUB)"
   ]
  },
  {
   "cell_type": "code",
   "execution_count": 49,
   "id": "4e9185dc",
   "metadata": {
    "scrolled": true
   },
   "outputs": [],
   "source": [
    "# Replace all np.nan to None\n",
    "dp.replace_nan_none()"
   ]
  },
  {
   "cell_type": "code",
   "execution_count": 50,
   "id": "87af409d",
   "metadata": {
    "scrolled": true
   },
   "outputs": [],
   "source": [
    "# Split composite field\n",
    "dp.split_composite_field(COMPOSITE_FIELD_INFO)"
   ]
  },
  {
   "cell_type": "code",
   "execution_count": 51,
   "id": "b34e1617",
   "metadata": {
    "scrolled": true
   },
   "outputs": [],
   "source": [
    "# Remove IDs columns as in general they will have no predictive power\n",
    "dp.rm_id_cols(ID_FIELDS)"
   ]
  },
  {
   "cell_type": "code",
   "execution_count": 52,
   "id": "5508517d",
   "metadata": {
    "scrolled": true
   },
   "outputs": [],
   "source": [
    "# Column pruning due to high missing values.\n",
    "dp.rm_cols_high_missing(MISSING_VAL_THRESHOLD)"
   ]
  },
  {
   "cell_type": "code",
   "execution_count": 53,
   "id": "8229eaa0",
   "metadata": {
    "scrolled": true
   },
   "outputs": [],
   "source": [
    "# Convert fields from Object to Datetime\n",
    "dp.obj_to_datetime(DATETIME_FIELD_INFO)"
   ]
  },
  {
   "cell_type": "code",
   "execution_count": 54,
   "id": "8dc8475a",
   "metadata": {
    "scrolled": true
   },
   "outputs": [],
   "source": [
    "# Convert fields from Object to Numeric \n",
    "dp.numeric_conversion(NUMERIC_FIELD_INFO)"
   ]
  },
  {
   "cell_type": "code",
   "execution_count": 55,
   "id": "fadb00d4",
   "metadata": {
    "scrolled": true
   },
   "outputs": [],
   "source": [
    "# Remove of rows from Target Variable \n",
    "dp.rm_rows_target_var(TARGET_VARIABLE)"
   ]
  },
  {
   "cell_type": "code",
   "execution_count": 56,
   "id": "9a1a27a4",
   "metadata": {
    "scrolled": true
   },
   "outputs": [],
   "source": [
    "# Removal of rows from Continuous variable which has missing value \n",
    "dp.remove_missing(CONTINUOUS_VARIABLE)"
   ]
  },
  {
   "cell_type": "code",
   "execution_count": 57,
   "id": "5c0b6f4b",
   "metadata": {
    "scrolled": true
   },
   "outputs": [],
   "source": [
    "# Dirty Data Cleansing\n",
    "dp.dirty_data_processing(DIRTY_DATA_INFO)"
   ]
  },
  {
   "cell_type": "code",
   "execution_count": 58,
   "id": "c2c893f1",
   "metadata": {
    "scrolled": true
   },
   "outputs": [],
   "source": [
    "# Restriction of Column vales\n",
    "dp.valid_data_processing(VALID_DATA_INFO)"
   ]
  },
  {
   "cell_type": "code",
   "execution_count": 59,
   "id": "e8d5a838",
   "metadata": {
    "scrolled": true
   },
   "outputs": [],
   "source": [
    "# dp_data=dp.get_dataframe()\n",
    "# print(dp_data[var_name].unique())\n",
    "# vs_countplot(dp_data,[var_name], True)\n",
    "# print(dp_data[var_name].isnull().sum())"
   ]
  },
  {
   "cell_type": "code",
   "execution_count": 60,
   "id": "785c3cd8",
   "metadata": {
    "scrolled": true
   },
   "outputs": [],
   "source": [
    "dp.impute_missing_value_info(IMPUTE_MISSING_VALUE_INFO)"
   ]
  },
  {
   "cell_type": "code",
   "execution_count": 61,
   "id": "17084ebe",
   "metadata": {
    "scrolled": true
   },
   "outputs": [
    {
     "name": "stdout",
     "output_type": "stream",
     "text": [
      "Gender                                        0\n",
      "Date of Birth                                 0\n",
      "Onboard Wifi Service                          0\n",
      "Embarkation/Disembarkation time convenient    0\n",
      "Ease of Online booking                        0\n",
      "Gate location                                 0\n",
      "Logging                                       0\n",
      "Onboard Dining Service                        0\n",
      "Online Check-in                               0\n",
      "Cabin Comfort                                 0\n",
      "Onboard Entertainment                         0\n",
      "Cabin service                                 0\n",
      "Baggage handling                              0\n",
      "Port Check-in Service                         0\n",
      "Onboard Service                               0\n",
      "Cleanliness                                   0\n",
      "Cruise Name                                   0\n",
      "Ticket Type                                   0\n",
      "Dining                                        0\n",
      "Source                                        0\n",
      "Traffic                                       0\n",
      "Distance                                      0\n",
      "Dist_Metrics                                  0\n",
      "dtype: int64\n",
      "There are 92716 rows\n"
     ]
    }
   ],
   "source": [
    "dp_data=dp.get_dataframe()\n",
    "# print(dp_data[var_name].unique())\n",
    "# vs_countplot(dp_data,[var_name], True)\n",
    "print(dp_data.isnull().sum())\n",
    "print(\"There are {} rows\".format(dp_data.shape[0]))"
   ]
  },
  {
   "cell_type": "code",
   "execution_count": 62,
   "id": "3a99832b",
   "metadata": {
    "scrolled": true
   },
   "outputs": [],
   "source": [
    "# Label encode non-numeric categorical columns to get numeric values\n",
    "dp.label_encoder(NON_NUMERIC_COL)"
   ]
  },
  {
   "cell_type": "code",
   "execution_count": 63,
   "id": "1ed7150e",
   "metadata": {
    "scrolled": true
   },
   "outputs": [],
   "source": [
    "# Derive year from date column to enhance model efficiency, mitigate noise\n",
    "dp.yyyy_from_date(DATE_YYYY_INFO)"
   ]
  },
  {
   "cell_type": "markdown",
   "id": "94663609",
   "metadata": {},
   "source": [
    "# Feature Engineering"
   ]
  },
  {
   "cell_type": "code",
   "execution_count": 64,
   "id": "8b88055c",
   "metadata": {
    "scrolled": true
   },
   "outputs": [],
   "source": [
    "fe = feature_engineering(dp.get_dataframe())"
   ]
  },
  {
   "cell_type": "code",
   "execution_count": 65,
   "id": "8b5ddfab",
   "metadata": {
    "scrolled": true
   },
   "outputs": [],
   "source": [
    "temp1 = fe.get_dataframe()"
   ]
  },
  {
   "cell_type": "code",
   "execution_count": 66,
   "id": "3a072cb2",
   "metadata": {
    "scrolled": true
   },
   "outputs": [
    {
     "data": {
      "text/html": [
       "<div>\n",
       "<style scoped>\n",
       "    .dataframe tbody tr th:only-of-type {\n",
       "        vertical-align: middle;\n",
       "    }\n",
       "\n",
       "    .dataframe tbody tr th {\n",
       "        vertical-align: top;\n",
       "    }\n",
       "\n",
       "    .dataframe thead th {\n",
       "        text-align: right;\n",
       "    }\n",
       "</style>\n",
       "<table border=\"1\" class=\"dataframe\">\n",
       "  <thead>\n",
       "    <tr style=\"text-align: right;\">\n",
       "      <th></th>\n",
       "      <th>Gender</th>\n",
       "      <th>Onboard Wifi Service</th>\n",
       "      <th>Embarkation/Disembarkation time convenient</th>\n",
       "      <th>Ease of Online booking</th>\n",
       "      <th>Gate location</th>\n",
       "      <th>Onboard Dining Service</th>\n",
       "      <th>Online Check-in</th>\n",
       "      <th>Cabin Comfort</th>\n",
       "      <th>Onboard Entertainment</th>\n",
       "      <th>Cabin service</th>\n",
       "      <th>...</th>\n",
       "      <th>Cleanliness</th>\n",
       "      <th>Cruise Name</th>\n",
       "      <th>Ticket Type</th>\n",
       "      <th>Dining</th>\n",
       "      <th>Source</th>\n",
       "      <th>Traffic</th>\n",
       "      <th>Distance</th>\n",
       "      <th>Dist_Metrics</th>\n",
       "      <th>Year of Birth</th>\n",
       "      <th>Year of Logging</th>\n",
       "    </tr>\n",
       "    <tr>\n",
       "      <th>index</th>\n",
       "      <th></th>\n",
       "      <th></th>\n",
       "      <th></th>\n",
       "      <th></th>\n",
       "      <th></th>\n",
       "      <th></th>\n",
       "      <th></th>\n",
       "      <th></th>\n",
       "      <th></th>\n",
       "      <th></th>\n",
       "      <th></th>\n",
       "      <th></th>\n",
       "      <th></th>\n",
       "      <th></th>\n",
       "      <th></th>\n",
       "      <th></th>\n",
       "      <th></th>\n",
       "      <th></th>\n",
       "      <th></th>\n",
       "      <th></th>\n",
       "      <th></th>\n",
       "    </tr>\n",
       "  </thead>\n",
       "  <tbody>\n",
       "    <tr>\n",
       "      <th>3</th>\n",
       "      <td>0</td>\n",
       "      <td>4</td>\n",
       "      <td>4.0</td>\n",
       "      <td>4.0</td>\n",
       "      <td>4.0</td>\n",
       "      <td>3</td>\n",
       "      <td>4.0</td>\n",
       "      <td>4.0</td>\n",
       "      <td>4</td>\n",
       "      <td>4.0</td>\n",
       "      <td>...</td>\n",
       "      <td>4.0</td>\n",
       "      <td>1</td>\n",
       "      <td>0</td>\n",
       "      <td>0</td>\n",
       "      <td>0</td>\n",
       "      <td>0</td>\n",
       "      <td>280.0</td>\n",
       "      <td>0</td>\n",
       "      <td>1970</td>\n",
       "      <td>2023</td>\n",
       "    </tr>\n",
       "    <tr>\n",
       "      <th>4</th>\n",
       "      <td>1</td>\n",
       "      <td>3</td>\n",
       "      <td>4.0</td>\n",
       "      <td>2.0</td>\n",
       "      <td>3.0</td>\n",
       "      <td>2</td>\n",
       "      <td>2.0</td>\n",
       "      <td>4.0</td>\n",
       "      <td>2</td>\n",
       "      <td>3.0</td>\n",
       "      <td>...</td>\n",
       "      <td>3.0</td>\n",
       "      <td>1</td>\n",
       "      <td>2</td>\n",
       "      <td>1</td>\n",
       "      <td>0</td>\n",
       "      <td>0</td>\n",
       "      <td>1145.0</td>\n",
       "      <td>1</td>\n",
       "      <td>1960</td>\n",
       "      <td>2023</td>\n",
       "    </tr>\n",
       "    <tr>\n",
       "      <th>6</th>\n",
       "      <td>1</td>\n",
       "      <td>3</td>\n",
       "      <td>5.0</td>\n",
       "      <td>3.0</td>\n",
       "      <td>3.0</td>\n",
       "      <td>4</td>\n",
       "      <td>5.0</td>\n",
       "      <td>4.0</td>\n",
       "      <td>4</td>\n",
       "      <td>4.0</td>\n",
       "      <td>...</td>\n",
       "      <td>4.0</td>\n",
       "      <td>1</td>\n",
       "      <td>2</td>\n",
       "      <td>1</td>\n",
       "      <td>0</td>\n",
       "      <td>1</td>\n",
       "      <td>607.0</td>\n",
       "      <td>0</td>\n",
       "      <td>1986</td>\n",
       "      <td>2023</td>\n",
       "    </tr>\n",
       "    <tr>\n",
       "      <th>8</th>\n",
       "      <td>0</td>\n",
       "      <td>1</td>\n",
       "      <td>4.0</td>\n",
       "      <td>3.0</td>\n",
       "      <td>4.0</td>\n",
       "      <td>4</td>\n",
       "      <td>1.0</td>\n",
       "      <td>2.0</td>\n",
       "      <td>1</td>\n",
       "      <td>5.0</td>\n",
       "      <td>...</td>\n",
       "      <td>1.0</td>\n",
       "      <td>0</td>\n",
       "      <td>0</td>\n",
       "      <td>0</td>\n",
       "      <td>0</td>\n",
       "      <td>1</td>\n",
       "      <td>1014.2984</td>\n",
       "      <td>0</td>\n",
       "      <td>1981</td>\n",
       "      <td>2023</td>\n",
       "    </tr>\n",
       "    <tr>\n",
       "      <th>9</th>\n",
       "      <td>0</td>\n",
       "      <td>2</td>\n",
       "      <td>4.0</td>\n",
       "      <td>3.0</td>\n",
       "      <td>1.0</td>\n",
       "      <td>3</td>\n",
       "      <td>5.0</td>\n",
       "      <td>3.0</td>\n",
       "      <td>4</td>\n",
       "      <td>4.0</td>\n",
       "      <td>...</td>\n",
       "      <td>3.0</td>\n",
       "      <td>0</td>\n",
       "      <td>1</td>\n",
       "      <td>0</td>\n",
       "      <td>0</td>\n",
       "      <td>0</td>\n",
       "      <td>1014.2984</td>\n",
       "      <td>0</td>\n",
       "      <td>1980</td>\n",
       "      <td>2023</td>\n",
       "    </tr>\n",
       "  </tbody>\n",
       "</table>\n",
       "<p>5 rows × 23 columns</p>\n",
       "</div>"
      ],
      "text/plain": [
       "       Gender  Onboard Wifi Service  \\\n",
       "index                                 \n",
       "3           0                     4   \n",
       "4           1                     3   \n",
       "6           1                     3   \n",
       "8           0                     1   \n",
       "9           0                     2   \n",
       "\n",
       "       Embarkation/Disembarkation time convenient  Ease of Online booking  \\\n",
       "index                                                                       \n",
       "3                                             4.0                     4.0   \n",
       "4                                             4.0                     2.0   \n",
       "6                                             5.0                     3.0   \n",
       "8                                             4.0                     3.0   \n",
       "9                                             4.0                     3.0   \n",
       "\n",
       "       Gate location  Onboard Dining Service  Online Check-in  Cabin Comfort  \\\n",
       "index                                                                          \n",
       "3                4.0                       3              4.0            4.0   \n",
       "4                3.0                       2              2.0            4.0   \n",
       "6                3.0                       4              5.0            4.0   \n",
       "8                4.0                       4              1.0            2.0   \n",
       "9                1.0                       3              5.0            3.0   \n",
       "\n",
       "       Onboard Entertainment  Cabin service  ...  Cleanliness  Cruise Name  \\\n",
       "index                                        ...                             \n",
       "3                          4            4.0  ...          4.0            1   \n",
       "4                          2            3.0  ...          3.0            1   \n",
       "6                          4            4.0  ...          4.0            1   \n",
       "8                          1            5.0  ...          1.0            0   \n",
       "9                          4            4.0  ...          3.0            0   \n",
       "\n",
       "       Ticket Type  Dining  Source  Traffic   Distance  Dist_Metrics  \\\n",
       "index                                                                  \n",
       "3                0       0       0        0      280.0             0   \n",
       "4                2       1       0        0     1145.0             1   \n",
       "6                2       1       0        1      607.0             0   \n",
       "8                0       0       0        1  1014.2984             0   \n",
       "9                1       0       0        0  1014.2984             0   \n",
       "\n",
       "       Year of Birth  Year of Logging  \n",
       "index                                  \n",
       "3               1970             2023  \n",
       "4               1960             2023  \n",
       "6               1986             2023  \n",
       "8               1981             2023  \n",
       "9               1980             2023  \n",
       "\n",
       "[5 rows x 23 columns]"
      ]
     },
     "execution_count": 66,
     "metadata": {},
     "output_type": "execute_result"
    }
   ],
   "source": [
    "temp1.head(5)"
   ]
  },
  {
   "cell_type": "code",
   "execution_count": 67,
   "id": "4b497e43",
   "metadata": {
    "scrolled": true
   },
   "outputs": [],
   "source": [
    "fe.one_hot_key_encode(OHE_FIELDS)"
   ]
  },
  {
   "cell_type": "code",
   "execution_count": 68,
   "id": "fed46c9d",
   "metadata": {
    "scrolled": true
   },
   "outputs": [
    {
     "data": {
      "text/html": [
       "<div>\n",
       "<style scoped>\n",
       "    .dataframe tbody tr th:only-of-type {\n",
       "        vertical-align: middle;\n",
       "    }\n",
       "\n",
       "    .dataframe tbody tr th {\n",
       "        vertical-align: top;\n",
       "    }\n",
       "\n",
       "    .dataframe thead th {\n",
       "        text-align: right;\n",
       "    }\n",
       "</style>\n",
       "<table border=\"1\" class=\"dataframe\">\n",
       "  <thead>\n",
       "    <tr style=\"text-align: right;\">\n",
       "      <th></th>\n",
       "      <th>Gender</th>\n",
       "      <th>Onboard Wifi Service</th>\n",
       "      <th>Embarkation/Disembarkation time convenient</th>\n",
       "      <th>Ease of Online booking</th>\n",
       "      <th>Gate location</th>\n",
       "      <th>Onboard Dining Service</th>\n",
       "      <th>Online Check-in</th>\n",
       "      <th>Cabin Comfort</th>\n",
       "      <th>Onboard Entertainment</th>\n",
       "      <th>Cabin service</th>\n",
       "      <th>...</th>\n",
       "      <th>Cleanliness</th>\n",
       "      <th>Cruise Name</th>\n",
       "      <th>Ticket Type</th>\n",
       "      <th>Dining</th>\n",
       "      <th>Source</th>\n",
       "      <th>Traffic</th>\n",
       "      <th>Distance</th>\n",
       "      <th>Dist_Metrics</th>\n",
       "      <th>Year of Birth</th>\n",
       "      <th>Year of Logging</th>\n",
       "    </tr>\n",
       "    <tr>\n",
       "      <th>index</th>\n",
       "      <th></th>\n",
       "      <th></th>\n",
       "      <th></th>\n",
       "      <th></th>\n",
       "      <th></th>\n",
       "      <th></th>\n",
       "      <th></th>\n",
       "      <th></th>\n",
       "      <th></th>\n",
       "      <th></th>\n",
       "      <th></th>\n",
       "      <th></th>\n",
       "      <th></th>\n",
       "      <th></th>\n",
       "      <th></th>\n",
       "      <th></th>\n",
       "      <th></th>\n",
       "      <th></th>\n",
       "      <th></th>\n",
       "      <th></th>\n",
       "      <th></th>\n",
       "    </tr>\n",
       "  </thead>\n",
       "  <tbody>\n",
       "    <tr>\n",
       "      <th>3</th>\n",
       "      <td>0</td>\n",
       "      <td>4</td>\n",
       "      <td>4.0</td>\n",
       "      <td>4.0</td>\n",
       "      <td>4.0</td>\n",
       "      <td>3</td>\n",
       "      <td>4.0</td>\n",
       "      <td>4.0</td>\n",
       "      <td>4</td>\n",
       "      <td>4.0</td>\n",
       "      <td>...</td>\n",
       "      <td>4.0</td>\n",
       "      <td>1</td>\n",
       "      <td>0</td>\n",
       "      <td>0</td>\n",
       "      <td>0</td>\n",
       "      <td>0</td>\n",
       "      <td>280.0</td>\n",
       "      <td>0</td>\n",
       "      <td>1970</td>\n",
       "      <td>2023</td>\n",
       "    </tr>\n",
       "    <tr>\n",
       "      <th>4</th>\n",
       "      <td>1</td>\n",
       "      <td>3</td>\n",
       "      <td>4.0</td>\n",
       "      <td>2.0</td>\n",
       "      <td>3.0</td>\n",
       "      <td>2</td>\n",
       "      <td>2.0</td>\n",
       "      <td>4.0</td>\n",
       "      <td>2</td>\n",
       "      <td>3.0</td>\n",
       "      <td>...</td>\n",
       "      <td>3.0</td>\n",
       "      <td>1</td>\n",
       "      <td>2</td>\n",
       "      <td>1</td>\n",
       "      <td>0</td>\n",
       "      <td>0</td>\n",
       "      <td>1145.0</td>\n",
       "      <td>1</td>\n",
       "      <td>1960</td>\n",
       "      <td>2023</td>\n",
       "    </tr>\n",
       "    <tr>\n",
       "      <th>6</th>\n",
       "      <td>1</td>\n",
       "      <td>3</td>\n",
       "      <td>5.0</td>\n",
       "      <td>3.0</td>\n",
       "      <td>3.0</td>\n",
       "      <td>4</td>\n",
       "      <td>5.0</td>\n",
       "      <td>4.0</td>\n",
       "      <td>4</td>\n",
       "      <td>4.0</td>\n",
       "      <td>...</td>\n",
       "      <td>4.0</td>\n",
       "      <td>1</td>\n",
       "      <td>2</td>\n",
       "      <td>1</td>\n",
       "      <td>0</td>\n",
       "      <td>1</td>\n",
       "      <td>607.0</td>\n",
       "      <td>0</td>\n",
       "      <td>1986</td>\n",
       "      <td>2023</td>\n",
       "    </tr>\n",
       "    <tr>\n",
       "      <th>8</th>\n",
       "      <td>0</td>\n",
       "      <td>1</td>\n",
       "      <td>4.0</td>\n",
       "      <td>3.0</td>\n",
       "      <td>4.0</td>\n",
       "      <td>4</td>\n",
       "      <td>1.0</td>\n",
       "      <td>2.0</td>\n",
       "      <td>1</td>\n",
       "      <td>5.0</td>\n",
       "      <td>...</td>\n",
       "      <td>1.0</td>\n",
       "      <td>0</td>\n",
       "      <td>0</td>\n",
       "      <td>0</td>\n",
       "      <td>0</td>\n",
       "      <td>1</td>\n",
       "      <td>1014.2984</td>\n",
       "      <td>0</td>\n",
       "      <td>1981</td>\n",
       "      <td>2023</td>\n",
       "    </tr>\n",
       "    <tr>\n",
       "      <th>9</th>\n",
       "      <td>0</td>\n",
       "      <td>2</td>\n",
       "      <td>4.0</td>\n",
       "      <td>3.0</td>\n",
       "      <td>1.0</td>\n",
       "      <td>3</td>\n",
       "      <td>5.0</td>\n",
       "      <td>3.0</td>\n",
       "      <td>4</td>\n",
       "      <td>4.0</td>\n",
       "      <td>...</td>\n",
       "      <td>3.0</td>\n",
       "      <td>0</td>\n",
       "      <td>1</td>\n",
       "      <td>0</td>\n",
       "      <td>0</td>\n",
       "      <td>0</td>\n",
       "      <td>1014.2984</td>\n",
       "      <td>0</td>\n",
       "      <td>1980</td>\n",
       "      <td>2023</td>\n",
       "    </tr>\n",
       "    <tr>\n",
       "      <th>...</th>\n",
       "      <td>...</td>\n",
       "      <td>...</td>\n",
       "      <td>...</td>\n",
       "      <td>...</td>\n",
       "      <td>...</td>\n",
       "      <td>...</td>\n",
       "      <td>...</td>\n",
       "      <td>...</td>\n",
       "      <td>...</td>\n",
       "      <td>...</td>\n",
       "      <td>...</td>\n",
       "      <td>...</td>\n",
       "      <td>...</td>\n",
       "      <td>...</td>\n",
       "      <td>...</td>\n",
       "      <td>...</td>\n",
       "      <td>...</td>\n",
       "      <td>...</td>\n",
       "      <td>...</td>\n",
       "      <td>...</td>\n",
       "      <td>...</td>\n",
       "    </tr>\n",
       "    <tr>\n",
       "      <th>133734</th>\n",
       "      <td>0</td>\n",
       "      <td>0</td>\n",
       "      <td>1.0</td>\n",
       "      <td>1.0</td>\n",
       "      <td>1.0</td>\n",
       "      <td>2</td>\n",
       "      <td>4.0</td>\n",
       "      <td>4.0</td>\n",
       "      <td>4</td>\n",
       "      <td>2.0</td>\n",
       "      <td>...</td>\n",
       "      <td>2.0</td>\n",
       "      <td>0</td>\n",
       "      <td>1</td>\n",
       "      <td>1</td>\n",
       "      <td>0</td>\n",
       "      <td>1</td>\n",
       "      <td>1900.0</td>\n",
       "      <td>0</td>\n",
       "      <td>1979</td>\n",
       "      <td>2023</td>\n",
       "    </tr>\n",
       "    <tr>\n",
       "      <th>133739</th>\n",
       "      <td>0</td>\n",
       "      <td>0</td>\n",
       "      <td>5.0</td>\n",
       "      <td>2.0</td>\n",
       "      <td>1.0</td>\n",
       "      <td>4</td>\n",
       "      <td>4.0</td>\n",
       "      <td>5.0</td>\n",
       "      <td>4</td>\n",
       "      <td>4.0</td>\n",
       "      <td>...</td>\n",
       "      <td>4.0</td>\n",
       "      <td>0</td>\n",
       "      <td>2</td>\n",
       "      <td>0</td>\n",
       "      <td>0</td>\n",
       "      <td>0</td>\n",
       "      <td>2717.0</td>\n",
       "      <td>0</td>\n",
       "      <td>1962</td>\n",
       "      <td>2023</td>\n",
       "    </tr>\n",
       "    <tr>\n",
       "      <th>133740</th>\n",
       "      <td>1</td>\n",
       "      <td>3</td>\n",
       "      <td>3.0</td>\n",
       "      <td>3.0</td>\n",
       "      <td>3.0</td>\n",
       "      <td>3</td>\n",
       "      <td>4.0</td>\n",
       "      <td>3.0</td>\n",
       "      <td>3</td>\n",
       "      <td>3.0</td>\n",
       "      <td>...</td>\n",
       "      <td>3.0</td>\n",
       "      <td>0</td>\n",
       "      <td>2</td>\n",
       "      <td>1</td>\n",
       "      <td>0</td>\n",
       "      <td>0</td>\n",
       "      <td>1014.2984</td>\n",
       "      <td>0</td>\n",
       "      <td>1987</td>\n",
       "      <td>2023</td>\n",
       "    </tr>\n",
       "    <tr>\n",
       "      <th>133743</th>\n",
       "      <td>1</td>\n",
       "      <td>1</td>\n",
       "      <td>5.0</td>\n",
       "      <td>5.0</td>\n",
       "      <td>5.0</td>\n",
       "      <td>1</td>\n",
       "      <td>5.0</td>\n",
       "      <td>5.0</td>\n",
       "      <td>1</td>\n",
       "      <td>4.0</td>\n",
       "      <td>...</td>\n",
       "      <td>5.0</td>\n",
       "      <td>0</td>\n",
       "      <td>1</td>\n",
       "      <td>0</td>\n",
       "      <td>0</td>\n",
       "      <td>1</td>\n",
       "      <td>-1947.0</td>\n",
       "      <td>0</td>\n",
       "      <td>2012</td>\n",
       "      <td>2023</td>\n",
       "    </tr>\n",
       "    <tr>\n",
       "      <th>133745</th>\n",
       "      <td>1</td>\n",
       "      <td>0</td>\n",
       "      <td>4.0</td>\n",
       "      <td>3.0</td>\n",
       "      <td>1.0</td>\n",
       "      <td>4</td>\n",
       "      <td>5.0</td>\n",
       "      <td>2.0</td>\n",
       "      <td>1</td>\n",
       "      <td>2.0</td>\n",
       "      <td>...</td>\n",
       "      <td>5.0</td>\n",
       "      <td>1</td>\n",
       "      <td>2</td>\n",
       "      <td>0</td>\n",
       "      <td>0</td>\n",
       "      <td>0</td>\n",
       "      <td>80.0</td>\n",
       "      <td>0</td>\n",
       "      <td>1996</td>\n",
       "      <td>2023</td>\n",
       "    </tr>\n",
       "  </tbody>\n",
       "</table>\n",
       "<p>92716 rows × 23 columns</p>\n",
       "</div>"
      ],
      "text/plain": [
       "        Gender  Onboard Wifi Service  \\\n",
       "index                                  \n",
       "3            0                     4   \n",
       "4            1                     3   \n",
       "6            1                     3   \n",
       "8            0                     1   \n",
       "9            0                     2   \n",
       "...        ...                   ...   \n",
       "133734       0                     0   \n",
       "133739       0                     0   \n",
       "133740       1                     3   \n",
       "133743       1                     1   \n",
       "133745       1                     0   \n",
       "\n",
       "        Embarkation/Disembarkation time convenient  Ease of Online booking  \\\n",
       "index                                                                        \n",
       "3                                              4.0                     4.0   \n",
       "4                                              4.0                     2.0   \n",
       "6                                              5.0                     3.0   \n",
       "8                                              4.0                     3.0   \n",
       "9                                              4.0                     3.0   \n",
       "...                                            ...                     ...   \n",
       "133734                                         1.0                     1.0   \n",
       "133739                                         5.0                     2.0   \n",
       "133740                                         3.0                     3.0   \n",
       "133743                                         5.0                     5.0   \n",
       "133745                                         4.0                     3.0   \n",
       "\n",
       "        Gate location  Onboard Dining Service  Online Check-in  Cabin Comfort  \\\n",
       "index                                                                           \n",
       "3                 4.0                       3              4.0            4.0   \n",
       "4                 3.0                       2              2.0            4.0   \n",
       "6                 3.0                       4              5.0            4.0   \n",
       "8                 4.0                       4              1.0            2.0   \n",
       "9                 1.0                       3              5.0            3.0   \n",
       "...               ...                     ...              ...            ...   \n",
       "133734            1.0                       2              4.0            4.0   \n",
       "133739            1.0                       4              4.0            5.0   \n",
       "133740            3.0                       3              4.0            3.0   \n",
       "133743            5.0                       1              5.0            5.0   \n",
       "133745            1.0                       4              5.0            2.0   \n",
       "\n",
       "        Onboard Entertainment  Cabin service  ...  Cleanliness  Cruise Name  \\\n",
       "index                                         ...                             \n",
       "3                           4            4.0  ...          4.0            1   \n",
       "4                           2            3.0  ...          3.0            1   \n",
       "6                           4            4.0  ...          4.0            1   \n",
       "8                           1            5.0  ...          1.0            0   \n",
       "9                           4            4.0  ...          3.0            0   \n",
       "...                       ...            ...  ...          ...          ...   \n",
       "133734                      4            2.0  ...          2.0            0   \n",
       "133739                      4            4.0  ...          4.0            0   \n",
       "133740                      3            3.0  ...          3.0            0   \n",
       "133743                      1            4.0  ...          5.0            0   \n",
       "133745                      1            2.0  ...          5.0            1   \n",
       "\n",
       "        Ticket Type  Dining  Source  Traffic   Distance  Dist_Metrics  \\\n",
       "index                                                                   \n",
       "3                 0       0       0        0      280.0             0   \n",
       "4                 2       1       0        0     1145.0             1   \n",
       "6                 2       1       0        1      607.0             0   \n",
       "8                 0       0       0        1  1014.2984             0   \n",
       "9                 1       0       0        0  1014.2984             0   \n",
       "...             ...     ...     ...      ...        ...           ...   \n",
       "133734            1       1       0        1     1900.0             0   \n",
       "133739            2       0       0        0     2717.0             0   \n",
       "133740            2       1       0        0  1014.2984             0   \n",
       "133743            1       0       0        1    -1947.0             0   \n",
       "133745            2       0       0        0       80.0             0   \n",
       "\n",
       "        Year of Birth  Year of Logging  \n",
       "index                                   \n",
       "3                1970             2023  \n",
       "4                1960             2023  \n",
       "6                1986             2023  \n",
       "8                1981             2023  \n",
       "9                1980             2023  \n",
       "...               ...              ...  \n",
       "133734           1979             2023  \n",
       "133739           1962             2023  \n",
       "133740           1987             2023  \n",
       "133743           2012             2023  \n",
       "133745           1996             2023  \n",
       "\n",
       "[92716 rows x 23 columns]"
      ]
     },
     "execution_count": 68,
     "metadata": {},
     "output_type": "execute_result"
    }
   ],
   "source": [
    "dp.get_dataframe()"
   ]
  },
  {
   "cell_type": "code",
   "execution_count": 69,
   "id": "8d494c24",
   "metadata": {
    "scrolled": true
   },
   "outputs": [],
   "source": [
    "# Standardise distance by converting Mile to KM\n",
    "fe.convert_miles_to_KM(\"Distance\")"
   ]
  },
  {
   "cell_type": "code",
   "execution_count": 70,
   "id": "0dc2ab00",
   "metadata": {
    "scrolled": true
   },
   "outputs": [],
   "source": [
    "# Derive Age from Year of Birth and Year of Logging\n",
    "fe.calc_year_diff('Year of Logging', 'Year of Birth', 'Age')"
   ]
  },
  {
   "cell_type": "markdown",
   "id": "13eff9bb",
   "metadata": {},
   "source": [
    "# Model Building"
   ]
  },
  {
   "cell_type": "markdown",
   "id": "3ace7506",
   "metadata": {},
   "source": [
    "## Logistic Regression"
   ]
  },
  {
   "cell_type": "markdown",
   "id": "7fa00692",
   "metadata": {},
   "source": [
    "### Model Train"
   ]
  },
  {
   "cell_type": "code",
   "execution_count": 71,
   "id": "2f8b955c",
   "metadata": {
    "scrolled": false
   },
   "outputs": [
    {
     "name": "stdout",
     "output_type": "stream",
     "text": [
      "\u001b[1mClassification Report \u001b[0m\n",
      "\u001b[1mTrain \u001b[0m\n",
      "              precision    recall  f1-score   support\n",
      "\n",
      "           0       0.65      0.70      0.67     35371\n",
      "           1       0.73      0.71      0.72     35371\n",
      "           2       0.65      0.62      0.63     35371\n",
      "\n",
      "    accuracy                           0.67    106113\n",
      "   macro avg       0.68      0.67      0.67    106113\n",
      "weighted avg       0.68      0.67      0.67    106113\n",
      "\n",
      "\u001b[1mTest \u001b[0m\n",
      "              precision    recall  f1-score   support\n",
      "\n",
      "           0       0.65      0.70      0.67      8843\n",
      "           1       0.74      0.71      0.72      8843\n",
      "           2       0.65      0.62      0.63      8843\n",
      "\n",
      "    accuracy                           0.68     26529\n",
      "   macro avg       0.68      0.68      0.68     26529\n",
      "weighted avg       0.68      0.68      0.68     26529\n",
      "\n",
      "\n",
      "\u001b[1mConfusion Metric\u001b[0m\n",
      "\u001b[1mTrain\u001b[0m\n"
     ]
    },
    {
     "data": {
      "image/png": "[encoded data removed]",
      "text/plain": [
       "<Figure size 700x500 with 2 Axes>"
      ]
     },
     "metadata": {},
     "output_type": "display_data"
    },
    {
     "name": "stdout",
     "output_type": "stream",
     "text": [
      "\u001b[1mTest\u001b[0m\n"
     ]
    },
    {
     "data": {
      "image/png": "[encoded data removed]",
      "text/plain": [
       "<Figure size 700x500 with 2 Axes>"
      ]
     },
     "metadata": {},
     "output_type": "display_data"
    },
    {
     "name": "stdout",
     "output_type": "stream",
     "text": [
      "\n",
      "\u001b[1mPerformance Metrics\u001b[0m\n",
      "\u001b[1mTrain \u001b[0m\n",
      "Test Accuracy: 0.6747\n",
      "Test Precision: 0.6747\n",
      "Test Recall: 0.6747\n",
      "\u001b[1mTest \u001b[0m\n",
      "Test Accuracy: 0.6761\n",
      "Test Precision: 0.6761\n",
      "Test Recall: 0.6761\n"
     ]
    }
   ],
   "source": [
    "hyperparameter_dict = {\n",
    "}\n",
    "lr = Logistic_Regression(fe.get_dataframe(), TARGET_VARIABLE, hyperparameter_dict, TEST_SIZE, RANDOM_STATE, IS_NOTEBOOK)\n",
    "lr.model_processing()"
   ]
  },
  {
   "cell_type": "markdown",
   "id": "2fa0a3ed",
   "metadata": {},
   "source": [
    "## Decision Tree Classifier"
   ]
  },
  {
   "cell_type": "markdown",
   "id": "f4084cd0",
   "metadata": {},
   "source": [
    "### RandomSearchCV"
   ]
  },
  {
   "cell_type": "code",
   "execution_count": 72,
   "id": "dbed6965",
   "metadata": {
    "scrolled": false
   },
   "outputs": [],
   "source": [
    "# hyperparameter_dict = {\n",
    "# }\n",
    "# dtc = Decision_Tree_Classifier(fe.get_dataframe(), TARGET_VARIABLE, hyperparameter_dict, TEST_SIZE, \n",
    "#                                RANDOM_STATE, IS_NOTEBOOK)\n",
    "# param_grid = {'max_depth':[9,10,12],\n",
    "#               'criterion':['gini','entropy'],\n",
    "#               'max_features': ['sqrt','log2'],\n",
    "#               'min_samples_split':[2,4,6]\n",
    "#              }\n",
    "# dtc.RandomizedSearchCV(param_grid, 4)\n"
   ]
  },
  {
   "cell_type": "markdown",
   "id": "33b9be17",
   "metadata": {},
   "source": [
    "### Model Train"
   ]
  },
  {
   "cell_type": "code",
   "execution_count": 73,
   "id": "c1098cb7",
   "metadata": {
    "scrolled": false
   },
   "outputs": [
    {
     "name": "stdout",
     "output_type": "stream",
     "text": [
      "\u001b[1mClassification Report \u001b[0m\n",
      "\u001b[1mTrain \u001b[0m\n",
      "              precision    recall  f1-score   support\n",
      "\n",
      "           0       0.79      0.77      0.78     35371\n",
      "           1       0.80      0.79      0.79     35371\n",
      "           2       0.70      0.73      0.71     35371\n",
      "\n",
      "    accuracy                           0.76    106113\n",
      "   macro avg       0.76      0.76      0.76    106113\n",
      "weighted avg       0.76      0.76      0.76    106113\n",
      "\n",
      "\u001b[1mTest \u001b[0m\n",
      "              precision    recall  f1-score   support\n",
      "\n",
      "           0       0.77      0.74      0.75      8843\n",
      "           1       0.77      0.76      0.77      8843\n",
      "           2       0.66      0.69      0.68      8843\n",
      "\n",
      "    accuracy                           0.73     26529\n",
      "   macro avg       0.73      0.73      0.73     26529\n",
      "weighted avg       0.73      0.73      0.73     26529\n",
      "\n",
      "\n",
      "\u001b[1mConfusion Metric\u001b[0m\n",
      "\u001b[1mTrain\u001b[0m\n"
     ]
    },
    {
     "data": {
      "image/png": "[encoded data removed]",
      "text/plain": [
       "<Figure size 700x500 with 2 Axes>"
      ]
     },
     "metadata": {},
     "output_type": "display_data"
    },
    {
     "name": "stdout",
     "output_type": "stream",
     "text": [
      "\u001b[1mTest\u001b[0m\n"
     ]
    },
    {
     "data": {
      "image/png": "[encoded data removed]",
      "text/plain": [
       "<Figure size 700x500 with 2 Axes>"
      ]
     },
     "metadata": {},
     "output_type": "display_data"
    },
    {
     "name": "stdout",
     "output_type": "stream",
     "text": [
      "\n",
      "\u001b[1mPerformance Metrics\u001b[0m\n",
      "\u001b[1mTrain \u001b[0m\n",
      "Test Accuracy: 0.7609\n",
      "Test Precision: 0.7609\n",
      "Test Recall: 0.7609\n",
      "\u001b[1mTest \u001b[0m\n",
      "Test Accuracy: 0.7323\n",
      "Test Precision: 0.7323\n",
      "Test Recall: 0.7323\n"
     ]
    }
   ],
   "source": [
    "hyperparameter_dict = {\n",
    "    'criterion':'gini', \n",
    "    'max_depth':12, \n",
    "    'min_samples_split':4, \n",
    "    'max_features':'sqrt'\n",
    "}\n",
    "DecisionTreeClassifier(criterion='entropy', max_depth=15, max_features='sqrt',\n",
    "                       min_samples_split=6)\n",
    "dtc = Decision_Tree_Classifier(fe.get_dataframe(), TARGET_VARIABLE, hyperparameter_dict, TEST_SIZE, RANDOM_STATE, IS_NOTEBOOK)\n",
    "dtc_train = dtc.model_processing()\n",
    "# X = dtc.return_X()\n",
    "# dot_data = export_graphviz(dtc_train, out_file=None, feature_names=list(X.columns.values), \n",
    "#                         class_names=['Delxue', 'Luxury', 'Standard'], rounded=True, filled=True)\n",
    "# from IPython.display import Image, display\n",
    "# graph = pydotplus.graph_from_dot_data(dot_data)\n",
    "# # Show graph\n",
    "# Image(graph.create_png()) "
   ]
  },
  {
   "cell_type": "markdown",
   "id": "a2bc5e45",
   "metadata": {},
   "source": [
    "## Random Forest Classifier"
   ]
  },
  {
   "cell_type": "markdown",
   "id": "6a36cdc5",
   "metadata": {},
   "source": [
    "### RandomSearchCV "
   ]
  },
  {
   "cell_type": "code",
   "execution_count": 74,
   "id": "5c2da81e",
   "metadata": {
    "scrolled": false
   },
   "outputs": [],
   "source": [
    "# hyperparameter_dict = {\n",
    "# }\n",
    "# rfc = Random_Forest_Classifier(fe.get_dataframe(), TARGET_VARIABLE, hyperparameter_dict, TEST_SIZE, RANDOM_STATE, \n",
    "#                                IS_NOTEBOOK)\n",
    "# # https://towardsdatascience.com/hyperparameter-tuning-the-random-forest-in-python-using-scikit-learn-28d2aa77dd74\n",
    "# param_grid = {\n",
    "#       \"n_estimators\": [50, 100, 150, 200],\n",
    "#         \"criterion\": [\"gini\", \"entropy\"],\n",
    "#         \"max_depth\": [3, 5, 8],\n",
    "#         \"min_samples_split\": [20, 24, 28],\n",
    "#         \"min_samples_leaf\": [20, 24, 28],\n",
    "#         \"max_features\": [\"sqrt\"],\n",
    "#         \"class_weight\": [\"balanced\"]\n",
    "#             }\n",
    "# rfc.RandomizedSearchCV(param_grid, 1)"
   ]
  },
  {
   "cell_type": "markdown",
   "id": "c9c60965",
   "metadata": {},
   "source": [
    "### Model Train"
   ]
  },
  {
   "cell_type": "code",
   "execution_count": 75,
   "id": "7d4bf9d7",
   "metadata": {
    "scrolled": false
   },
   "outputs": [
    {
     "name": "stdout",
     "output_type": "stream",
     "text": [
      "\u001b[1mClassification Report \u001b[0m\n",
      "\u001b[1mTrain \u001b[0m\n",
      "              precision    recall  f1-score   support\n",
      "\n",
      "           0       0.76      0.84      0.80     35371\n",
      "           1       0.84      0.79      0.82     35371\n",
      "           2       0.75      0.71      0.73     35371\n",
      "\n",
      "    accuracy                           0.78    106113\n",
      "   macro avg       0.78      0.78      0.78    106113\n",
      "weighted avg       0.78      0.78      0.78    106113\n",
      "\n",
      "\u001b[1mTest \u001b[0m\n",
      "              precision    recall  f1-score   support\n",
      "\n",
      "           0       0.76      0.83      0.79      8843\n",
      "           1       0.83      0.78      0.81      8843\n",
      "           2       0.73      0.70      0.72      8843\n",
      "\n",
      "    accuracy                           0.77     26529\n",
      "   macro avg       0.77      0.77      0.77     26529\n",
      "weighted avg       0.77      0.77      0.77     26529\n",
      "\n",
      "\n",
      "\u001b[1mConfusion Metric\u001b[0m\n",
      "\u001b[1mTrain\u001b[0m\n"
     ]
    },
    {
     "data": {
      "image/png": "[encoded data removed]",
      "text/plain": [
       "<Figure size 700x500 with 2 Axes>"
      ]
     },
     "metadata": {},
     "output_type": "display_data"
    },
    {
     "name": "stdout",
     "output_type": "stream",
     "text": [
      "\u001b[1mTest\u001b[0m\n"
     ]
    },
    {
     "data": {
      "image/png": "[encoded data removed]",
      "text/plain": [
       "<Figure size 700x500 with 2 Axes>"
      ]
     },
     "metadata": {},
     "output_type": "display_data"
    },
    {
     "name": "stdout",
     "output_type": "stream",
     "text": [
      "\n",
      "\u001b[1mPerformance Metrics\u001b[0m\n",
      "\u001b[1mTrain \u001b[0m\n",
      "Test Accuracy: 0.7822\n",
      "Test Precision: 0.7822\n",
      "Test Recall: 0.7822\n",
      "\u001b[1mTest \u001b[0m\n",
      "Test Accuracy: 0.7732\n",
      "Test Precision: 0.7732\n",
      "Test Recall: 0.7732\n"
     ]
    }
   ],
   "source": [
    "hyperparameter_dict = {\n",
    "    'n_estimators':150, \n",
    "    'min_samples_split':20,\n",
    "    'min_samples_leaf': 28,\n",
    "    'max_features': 'sqrt',\n",
    "    'max_depth': 8,\n",
    "    'criterion': 'gini',\n",
    "    'class_weight': 'balanced'\n",
    "}\n",
    "\n",
    "rfc = Random_Forest_Classifier(fe.get_dataframe(), TARGET_VARIABLE, hyperparameter_dict, TEST_SIZE, RANDOM_STATE, \n",
    "                               IS_NOTEBOOK)\n",
    "rfc.model_processing()"
   ]
  },
  {
   "cell_type": "markdown",
   "id": "4742ff65",
   "metadata": {},
   "source": [
    "## Gradient Boosting Classifier"
   ]
  },
  {
   "cell_type": "markdown",
   "id": "a3b4144c",
   "metadata": {},
   "source": [
    "### RandomSearchCV"
   ]
  },
  {
   "cell_type": "code",
   "execution_count": 76,
   "id": "ad90cab3",
   "metadata": {
    "scrolled": false
   },
   "outputs": [
    {
     "name": "stdout",
     "output_type": "stream",
     "text": [
      "Fitting 3 folds for each of 50 candidates, totalling 150 fits\n",
      "[CV 1/3] END criterion=friedman_mse, max_depth=8, min_samples_leaf=20, min_samples_split=24, n_estimators=150;, score=0.599 total time=  52.4s\n",
      "[CV 2/3] END criterion=friedman_mse, max_depth=8, min_samples_leaf=20, min_samples_split=24, n_estimators=150;, score=0.598 total time=  52.7s\n",
      "[CV 3/3] END criterion=friedman_mse, max_depth=8, min_samples_leaf=20, min_samples_split=24, n_estimators=150;, score=0.603 total time=  52.1s\n",
      "[CV 1/3] END criterion=friedman_mse, max_depth=3, min_samples_leaf=28, min_samples_split=28, n_estimators=100;, score=0.568 total time=  14.1s\n",
      "[CV 2/3] END criterion=friedman_mse, max_depth=3, min_samples_leaf=28, min_samples_split=28, n_estimators=100;, score=0.567 total time=  14.0s\n",
      "[CV 3/3] END criterion=friedman_mse, max_depth=3, min_samples_leaf=28, min_samples_split=28, n_estimators=100;, score=0.566 total time=  14.0s\n",
      "[CV 1/3] END criterion=friedman_mse, max_depth=3, min_samples_leaf=28, min_samples_split=28, n_estimators=150;, score=0.573 total time=  21.1s\n",
      "[CV 2/3] END criterion=friedman_mse, max_depth=3, min_samples_leaf=28, min_samples_split=28, n_estimators=150;, score=0.573 total time=  21.0s\n",
      "[CV 3/3] END criterion=friedman_mse, max_depth=3, min_samples_leaf=28, min_samples_split=28, n_estimators=150;, score=0.573 total time=  21.0s\n",
      "[CV 1/3] END criterion=friedman_mse, max_depth=5, min_samples_leaf=28, min_samples_split=20, n_estimators=150;, score=0.590 total time=  33.6s\n",
      "[CV 2/3] END criterion=friedman_mse, max_depth=5, min_samples_leaf=28, min_samples_split=20, n_estimators=150;, score=0.589 total time=  33.5s\n",
      "[CV 3/3] END criterion=friedman_mse, max_depth=5, min_samples_leaf=28, min_samples_split=20, n_estimators=150;, score=0.591 total time=  33.2s\n",
      "[CV 1/3] END criterion=friedman_mse, max_depth=8, min_samples_leaf=28, min_samples_split=20, n_estimators=100;, score=0.597 total time=  34.6s\n",
      "[CV 2/3] END criterion=friedman_mse, max_depth=8, min_samples_leaf=28, min_samples_split=20, n_estimators=100;, score=0.597 total time=  34.9s\n",
      "[CV 3/3] END criterion=friedman_mse, max_depth=8, min_samples_leaf=28, min_samples_split=20, n_estimators=100;, score=0.601 total time=  34.7s\n",
      "[CV 1/3] END criterion=friedman_mse, max_depth=8, min_samples_leaf=24, min_samples_split=28, n_estimators=200;, score=0.602 total time= 1.2min\n",
      "[CV 2/3] END criterion=friedman_mse, max_depth=8, min_samples_leaf=24, min_samples_split=28, n_estimators=200;, score=0.600 total time= 1.2min\n",
      "[CV 3/3] END criterion=friedman_mse, max_depth=8, min_samples_leaf=24, min_samples_split=28, n_estimators=200;, score=0.604 total time= 1.2min\n",
      "[CV 1/3] END criterion=squared_error, max_depth=3, min_samples_leaf=20, min_samples_split=28, n_estimators=150;, score=0.573 total time=  21.0s\n",
      "[CV 2/3] END criterion=squared_error, max_depth=3, min_samples_leaf=20, min_samples_split=28, n_estimators=150;, score=0.572 total time=  21.0s\n",
      "[CV 3/3] END criterion=squared_error, max_depth=3, min_samples_leaf=20, min_samples_split=28, n_estimators=150;, score=0.573 total time=  21.3s\n",
      "[CV 1/3] END criterion=squared_error, max_depth=8, min_samples_leaf=24, min_samples_split=20, n_estimators=100;, score=0.598 total time=  34.9s\n",
      "[CV 2/3] END criterion=squared_error, max_depth=8, min_samples_leaf=24, min_samples_split=20, n_estimators=100;, score=0.596 total time=  34.9s\n",
      "[CV 3/3] END criterion=squared_error, max_depth=8, min_samples_leaf=24, min_samples_split=20, n_estimators=100;, score=0.602 total time=  34.7s\n",
      "[CV 1/3] END criterion=friedman_mse, max_depth=8, min_samples_leaf=24, min_samples_split=20, n_estimators=50;, score=0.589 total time=  17.4s\n",
      "[CV 2/3] END criterion=friedman_mse, max_depth=8, min_samples_leaf=24, min_samples_split=20, n_estimators=50;, score=0.589 total time=  17.4s\n",
      "[CV 3/3] END criterion=friedman_mse, max_depth=8, min_samples_leaf=24, min_samples_split=20, n_estimators=50;, score=0.593 total time=  17.6s\n",
      "[CV 1/3] END criterion=friedman_mse, max_depth=3, min_samples_leaf=20, min_samples_split=24, n_estimators=50;, score=0.558 total time=   7.0s\n",
      "[CV 2/3] END criterion=friedman_mse, max_depth=3, min_samples_leaf=20, min_samples_split=24, n_estimators=50;, score=0.556 total time=   7.0s\n",
      "[CV 3/3] END criterion=friedman_mse, max_depth=3, min_samples_leaf=20, min_samples_split=24, n_estimators=50;, score=0.556 total time=   7.0s\n",
      "[CV 1/3] END criterion=friedman_mse, max_depth=5, min_samples_leaf=24, min_samples_split=28, n_estimators=150;, score=0.591 total time=  34.0s\n",
      "[CV 2/3] END criterion=friedman_mse, max_depth=5, min_samples_leaf=24, min_samples_split=28, n_estimators=150;, score=0.590 total time=  35.5s\n",
      "[CV 3/3] END criterion=friedman_mse, max_depth=5, min_samples_leaf=24, min_samples_split=28, n_estimators=150;, score=0.592 total time=  34.1s\n",
      "[CV 1/3] END criterion=squared_error, max_depth=8, min_samples_leaf=20, min_samples_split=20, n_estimators=150;, score=0.600 total time=  52.5s\n",
      "[CV 2/3] END criterion=squared_error, max_depth=8, min_samples_leaf=20, min_samples_split=20, n_estimators=150;, score=0.597 total time=  52.4s\n",
      "[CV 3/3] END criterion=squared_error, max_depth=8, min_samples_leaf=20, min_samples_split=20, n_estimators=150;, score=0.601 total time=  52.7s\n",
      "[CV 1/3] END criterion=squared_error, max_depth=8, min_samples_leaf=28, min_samples_split=24, n_estimators=150;, score=0.600 total time=  52.0s\n",
      "[CV 2/3] END criterion=squared_error, max_depth=8, min_samples_leaf=28, min_samples_split=24, n_estimators=150;, score=0.599 total time=  52.4s\n",
      "[CV 3/3] END criterion=squared_error, max_depth=8, min_samples_leaf=28, min_samples_split=24, n_estimators=150;, score=0.602 total time=  52.2s\n",
      "[CV 1/3] END criterion=squared_error, max_depth=5, min_samples_leaf=28, min_samples_split=20, n_estimators=150;, score=0.590 total time=  34.7s\n",
      "[CV 2/3] END criterion=squared_error, max_depth=5, min_samples_leaf=28, min_samples_split=20, n_estimators=150;, score=0.589 total time=  35.2s\n",
      "[CV 3/3] END criterion=squared_error, max_depth=5, min_samples_leaf=28, min_samples_split=20, n_estimators=150;, score=0.591 total time=  34.3s\n",
      "[CV 1/3] END criterion=friedman_mse, max_depth=8, min_samples_leaf=24, min_samples_split=28, n_estimators=150;, score=0.600 total time=  52.9s\n",
      "[CV 2/3] END criterion=friedman_mse, max_depth=8, min_samples_leaf=24, min_samples_split=28, n_estimators=150;, score=0.598 total time=  52.1s\n",
      "[CV 3/3] END criterion=friedman_mse, max_depth=8, min_samples_leaf=24, min_samples_split=28, n_estimators=150;, score=0.605 total time=  52.0s\n",
      "[CV 1/3] END criterion=friedman_mse, max_depth=3, min_samples_leaf=28, min_samples_split=24, n_estimators=200;, score=0.576 total time=  28.1s\n",
      "[CV 2/3] END criterion=friedman_mse, max_depth=3, min_samples_leaf=28, min_samples_split=24, n_estimators=200;, score=0.576 total time=  28.1s\n",
      "[CV 3/3] END criterion=friedman_mse, max_depth=3, min_samples_leaf=28, min_samples_split=24, n_estimators=200;, score=0.577 total time=  28.1s\n",
      "[CV 1/3] END criterion=squared_error, max_depth=3, min_samples_leaf=24, min_samples_split=24, n_estimators=200;, score=0.576 total time=  28.2s\n",
      "[CV 2/3] END criterion=squared_error, max_depth=3, min_samples_leaf=24, min_samples_split=24, n_estimators=200;, score=0.577 total time=  28.5s\n",
      "[CV 3/3] END criterion=squared_error, max_depth=3, min_samples_leaf=24, min_samples_split=24, n_estimators=200;, score=0.576 total time=  28.4s\n",
      "[CV 1/3] END criterion=friedman_mse, max_depth=8, min_samples_leaf=28, min_samples_split=28, n_estimators=200;, score=0.601 total time= 1.2min\n",
      "[CV 2/3] END criterion=friedman_mse, max_depth=8, min_samples_leaf=28, min_samples_split=28, n_estimators=200;, score=0.599 total time= 1.1min\n",
      "[CV 3/3] END criterion=friedman_mse, max_depth=8, min_samples_leaf=28, min_samples_split=28, n_estimators=200;, score=0.604 total time= 1.2min\n",
      "[CV 1/3] END criterion=friedman_mse, max_depth=5, min_samples_leaf=20, min_samples_split=28, n_estimators=50;, score=0.574 total time=  11.1s\n",
      "[CV 2/3] END criterion=friedman_mse, max_depth=5, min_samples_leaf=20, min_samples_split=28, n_estimators=50;, score=0.572 total time=  11.1s\n",
      "[CV 3/3] END criterion=friedman_mse, max_depth=5, min_samples_leaf=20, min_samples_split=28, n_estimators=50;, score=0.575 total time=  11.0s\n"
     ]
    },
    {
     "name": "stdout",
     "output_type": "stream",
     "text": [
      "[CV 1/3] END criterion=squared_error, max_depth=5, min_samples_leaf=20, min_samples_split=28, n_estimators=100;, score=0.585 total time=  22.1s\n",
      "[CV 2/3] END criterion=squared_error, max_depth=5, min_samples_leaf=20, min_samples_split=28, n_estimators=100;, score=0.584 total time=  21.9s\n",
      "[CV 3/3] END criterion=squared_error, max_depth=5, min_samples_leaf=20, min_samples_split=28, n_estimators=100;, score=0.587 total time=  21.9s\n",
      "[CV 1/3] END criterion=squared_error, max_depth=5, min_samples_leaf=20, min_samples_split=28, n_estimators=150;, score=0.592 total time=  33.2s\n",
      "[CV 2/3] END criterion=squared_error, max_depth=5, min_samples_leaf=20, min_samples_split=28, n_estimators=150;, score=0.589 total time=  32.9s\n",
      "[CV 3/3] END criterion=squared_error, max_depth=5, min_samples_leaf=20, min_samples_split=28, n_estimators=150;, score=0.590 total time=  32.7s\n",
      "[CV 1/3] END criterion=friedman_mse, max_depth=5, min_samples_leaf=20, min_samples_split=20, n_estimators=200;, score=0.593 total time=  44.0s\n",
      "[CV 2/3] END criterion=friedman_mse, max_depth=5, min_samples_leaf=20, min_samples_split=20, n_estimators=200;, score=0.592 total time=  44.2s\n",
      "[CV 3/3] END criterion=friedman_mse, max_depth=5, min_samples_leaf=20, min_samples_split=20, n_estimators=200;, score=0.593 total time=  43.6s\n",
      "[CV 1/3] END criterion=squared_error, max_depth=5, min_samples_leaf=24, min_samples_split=24, n_estimators=100;, score=0.585 total time=  22.0s\n",
      "[CV 2/3] END criterion=squared_error, max_depth=5, min_samples_leaf=24, min_samples_split=24, n_estimators=100;, score=0.584 total time=  21.9s\n",
      "[CV 3/3] END criterion=squared_error, max_depth=5, min_samples_leaf=24, min_samples_split=24, n_estimators=100;, score=0.587 total time=  22.0s\n",
      "[CV 1/3] END criterion=squared_error, max_depth=5, min_samples_leaf=28, min_samples_split=28, n_estimators=200;, score=0.592 total time=  43.7s\n",
      "[CV 2/3] END criterion=squared_error, max_depth=5, min_samples_leaf=28, min_samples_split=28, n_estimators=200;, score=0.592 total time=  44.0s\n",
      "[CV 3/3] END criterion=squared_error, max_depth=5, min_samples_leaf=28, min_samples_split=28, n_estimators=200;, score=0.596 total time=  44.0s\n",
      "[CV 1/3] END criterion=squared_error, max_depth=8, min_samples_leaf=28, min_samples_split=20, n_estimators=200;, score=0.601 total time= 1.1min\n",
      "[CV 2/3] END criterion=squared_error, max_depth=8, min_samples_leaf=28, min_samples_split=20, n_estimators=200;, score=0.600 total time= 1.1min\n",
      "[CV 3/3] END criterion=squared_error, max_depth=8, min_samples_leaf=28, min_samples_split=20, n_estimators=200;, score=0.603 total time= 1.2min\n",
      "[CV 1/3] END criterion=friedman_mse, max_depth=3, min_samples_leaf=24, min_samples_split=24, n_estimators=150;, score=0.573 total time=  21.0s\n",
      "[CV 2/3] END criterion=friedman_mse, max_depth=3, min_samples_leaf=24, min_samples_split=24, n_estimators=150;, score=0.572 total time=  20.9s\n",
      "[CV 3/3] END criterion=friedman_mse, max_depth=3, min_samples_leaf=24, min_samples_split=24, n_estimators=150;, score=0.572 total time=  20.7s\n",
      "[CV 1/3] END criterion=squared_error, max_depth=3, min_samples_leaf=20, min_samples_split=28, n_estimators=200;, score=0.576 total time=  27.8s\n",
      "[CV 2/3] END criterion=squared_error, max_depth=3, min_samples_leaf=20, min_samples_split=28, n_estimators=200;, score=0.576 total time=  27.8s\n",
      "[CV 3/3] END criterion=squared_error, max_depth=3, min_samples_leaf=20, min_samples_split=28, n_estimators=200;, score=0.577 total time=  27.8s\n",
      "[CV 1/3] END criterion=friedman_mse, max_depth=5, min_samples_leaf=24, min_samples_split=20, n_estimators=200;, score=0.595 total time=  43.9s\n",
      "[CV 2/3] END criterion=friedman_mse, max_depth=5, min_samples_leaf=24, min_samples_split=20, n_estimators=200;, score=0.592 total time=  44.3s\n",
      "[CV 3/3] END criterion=friedman_mse, max_depth=5, min_samples_leaf=24, min_samples_split=20, n_estimators=200;, score=0.596 total time=  43.7s\n",
      "[CV 1/3] END criterion=friedman_mse, max_depth=8, min_samples_leaf=28, min_samples_split=20, n_estimators=150;, score=0.601 total time=  51.6s\n",
      "[CV 2/3] END criterion=friedman_mse, max_depth=8, min_samples_leaf=28, min_samples_split=20, n_estimators=150;, score=0.599 total time=  51.6s\n",
      "[CV 3/3] END criterion=friedman_mse, max_depth=8, min_samples_leaf=28, min_samples_split=20, n_estimators=150;, score=0.604 total time=  51.5s\n",
      "[CV 1/3] END criterion=squared_error, max_depth=5, min_samples_leaf=24, min_samples_split=20, n_estimators=200;, score=0.595 total time=  44.5s\n",
      "[CV 2/3] END criterion=squared_error, max_depth=5, min_samples_leaf=24, min_samples_split=20, n_estimators=200;, score=0.592 total time=  44.0s\n",
      "[CV 3/3] END criterion=squared_error, max_depth=5, min_samples_leaf=24, min_samples_split=20, n_estimators=200;, score=0.596 total time=  43.8s\n",
      "[CV 1/3] END criterion=friedman_mse, max_depth=3, min_samples_leaf=24, min_samples_split=24, n_estimators=200;, score=0.576 total time=  27.9s\n",
      "[CV 2/3] END criterion=friedman_mse, max_depth=3, min_samples_leaf=24, min_samples_split=24, n_estimators=200;, score=0.577 total time=  28.0s\n",
      "[CV 3/3] END criterion=friedman_mse, max_depth=3, min_samples_leaf=24, min_samples_split=24, n_estimators=200;, score=0.576 total time=  28.0s\n",
      "[CV 1/3] END criterion=squared_error, max_depth=8, min_samples_leaf=20, min_samples_split=24, n_estimators=150;, score=0.601 total time=  52.3s\n",
      "[CV 2/3] END criterion=squared_error, max_depth=8, min_samples_leaf=20, min_samples_split=24, n_estimators=150;, score=0.598 total time=  52.1s\n",
      "[CV 3/3] END criterion=squared_error, max_depth=8, min_samples_leaf=20, min_samples_split=24, n_estimators=150;, score=0.601 total time=  51.6s\n",
      "[CV 1/3] END criterion=friedman_mse, max_depth=5, min_samples_leaf=20, min_samples_split=20, n_estimators=150;, score=0.592 total time=  32.8s\n",
      "[CV 2/3] END criterion=friedman_mse, max_depth=5, min_samples_leaf=20, min_samples_split=20, n_estimators=150;, score=0.589 total time=  32.9s\n",
      "[CV 3/3] END criterion=friedman_mse, max_depth=5, min_samples_leaf=20, min_samples_split=20, n_estimators=150;, score=0.590 total time=  32.9s\n",
      "[CV 1/3] END criterion=friedman_mse, max_depth=3, min_samples_leaf=28, min_samples_split=28, n_estimators=200;, score=0.576 total time=  28.1s\n",
      "[CV 2/3] END criterion=friedman_mse, max_depth=3, min_samples_leaf=28, min_samples_split=28, n_estimators=200;, score=0.576 total time=  28.1s\n",
      "[CV 3/3] END criterion=friedman_mse, max_depth=3, min_samples_leaf=28, min_samples_split=28, n_estimators=200;, score=0.577 total time=  28.0s\n",
      "[CV 1/3] END criterion=friedman_mse, max_depth=3, min_samples_leaf=20, min_samples_split=28, n_estimators=200;, score=0.576 total time=  27.7s\n",
      "[CV 2/3] END criterion=friedman_mse, max_depth=3, min_samples_leaf=20, min_samples_split=28, n_estimators=200;, score=0.576 total time=  27.7s\n",
      "[CV 3/3] END criterion=friedman_mse, max_depth=3, min_samples_leaf=20, min_samples_split=28, n_estimators=200;, score=0.577 total time=  28.0s\n",
      "[CV 1/3] END criterion=friedman_mse, max_depth=3, min_samples_leaf=28, min_samples_split=24, n_estimators=100;, score=0.568 total time=  14.0s\n",
      "[CV 2/3] END criterion=friedman_mse, max_depth=3, min_samples_leaf=28, min_samples_split=24, n_estimators=100;, score=0.567 total time=  13.9s\n",
      "[CV 3/3] END criterion=friedman_mse, max_depth=3, min_samples_leaf=28, min_samples_split=24, n_estimators=100;, score=0.566 total time=  13.9s\n",
      "[CV 1/3] END criterion=friedman_mse, max_depth=3, min_samples_leaf=20, min_samples_split=20, n_estimators=50;, score=0.558 total time=   6.9s\n",
      "[CV 2/3] END criterion=friedman_mse, max_depth=3, min_samples_leaf=20, min_samples_split=20, n_estimators=50;, score=0.556 total time=   6.9s\n",
      "[CV 3/3] END criterion=friedman_mse, max_depth=3, min_samples_leaf=20, min_samples_split=20, n_estimators=50;, score=0.556 total time=   6.9s\n",
      "[CV 1/3] END criterion=friedman_mse, max_depth=5, min_samples_leaf=28, min_samples_split=28, n_estimators=100;, score=0.586 total time=  22.2s\n",
      "[CV 2/3] END criterion=friedman_mse, max_depth=5, min_samples_leaf=28, min_samples_split=28, n_estimators=100;, score=0.585 total time=  22.4s\n",
      "[CV 3/3] END criterion=friedman_mse, max_depth=5, min_samples_leaf=28, min_samples_split=28, n_estimators=100;, score=0.586 total time=  22.3s\n",
      "[CV 1/3] END criterion=squared_error, max_depth=8, min_samples_leaf=24, min_samples_split=24, n_estimators=200;, score=0.601 total time= 1.1min\n"
     ]
    },
    {
     "name": "stdout",
     "output_type": "stream",
     "text": [
      "[CV 2/3] END criterion=squared_error, max_depth=8, min_samples_leaf=24, min_samples_split=24, n_estimators=200;, score=0.599 total time= 1.1min\n",
      "[CV 3/3] END criterion=squared_error, max_depth=8, min_samples_leaf=24, min_samples_split=24, n_estimators=200;, score=0.602 total time= 1.2min\n",
      "[CV 1/3] END criterion=squared_error, max_depth=5, min_samples_leaf=28, min_samples_split=24, n_estimators=50;, score=0.574 total time=  11.0s\n",
      "[CV 2/3] END criterion=squared_error, max_depth=5, min_samples_leaf=28, min_samples_split=24, n_estimators=50;, score=0.573 total time=  10.9s\n",
      "[CV 3/3] END criterion=squared_error, max_depth=5, min_samples_leaf=28, min_samples_split=24, n_estimators=50;, score=0.575 total time=  10.9s\n",
      "[CV 1/3] END criterion=friedman_mse, max_depth=3, min_samples_leaf=28, min_samples_split=24, n_estimators=50;, score=0.558 total time=   6.9s\n",
      "[CV 2/3] END criterion=friedman_mse, max_depth=3, min_samples_leaf=28, min_samples_split=24, n_estimators=50;, score=0.556 total time=   6.9s\n",
      "[CV 3/3] END criterion=friedman_mse, max_depth=3, min_samples_leaf=28, min_samples_split=24, n_estimators=50;, score=0.556 total time=   6.9s\n",
      "[CV 1/3] END criterion=friedman_mse, max_depth=3, min_samples_leaf=24, min_samples_split=24, n_estimators=50;, score=0.558 total time=   6.9s\n",
      "[CV 2/3] END criterion=friedman_mse, max_depth=3, min_samples_leaf=24, min_samples_split=24, n_estimators=50;, score=0.556 total time=   6.9s\n",
      "[CV 3/3] END criterion=friedman_mse, max_depth=3, min_samples_leaf=24, min_samples_split=24, n_estimators=50;, score=0.556 total time=   6.9s\n",
      "[CV 1/3] END criterion=friedman_mse, max_depth=8, min_samples_leaf=28, min_samples_split=24, n_estimators=150;, score=0.600 total time=  51.6s\n",
      "[CV 2/3] END criterion=friedman_mse, max_depth=8, min_samples_leaf=28, min_samples_split=24, n_estimators=150;, score=0.599 total time=  51.6s\n",
      "[CV 3/3] END criterion=friedman_mse, max_depth=8, min_samples_leaf=28, min_samples_split=24, n_estimators=150;, score=0.602 total time=  51.9s\n",
      "[CV 1/3] END criterion=friedman_mse, max_depth=8, min_samples_leaf=24, min_samples_split=28, n_estimators=100;, score=0.599 total time=  34.9s\n",
      "[CV 2/3] END criterion=friedman_mse, max_depth=8, min_samples_leaf=24, min_samples_split=28, n_estimators=100;, score=0.596 total time=  35.0s\n",
      "[CV 3/3] END criterion=friedman_mse, max_depth=8, min_samples_leaf=24, min_samples_split=28, n_estimators=100;, score=0.600 total time=  34.7s\n",
      "[CV 1/3] END criterion=squared_error, max_depth=3, min_samples_leaf=20, min_samples_split=28, n_estimators=100;, score=0.568 total time=  13.9s\n",
      "[CV 2/3] END criterion=squared_error, max_depth=3, min_samples_leaf=20, min_samples_split=28, n_estimators=100;, score=0.566 total time=  13.9s\n",
      "[CV 3/3] END criterion=squared_error, max_depth=3, min_samples_leaf=20, min_samples_split=28, n_estimators=100;, score=0.566 total time=  13.9s\n",
      "[CV 1/3] END criterion=friedman_mse, max_depth=5, min_samples_leaf=20, min_samples_split=28, n_estimators=200;, score=0.593 total time=  44.3s\n",
      "[CV 2/3] END criterion=friedman_mse, max_depth=5, min_samples_leaf=20, min_samples_split=28, n_estimators=200;, score=0.592 total time=  44.2s\n",
      "[CV 3/3] END criterion=friedman_mse, max_depth=5, min_samples_leaf=20, min_samples_split=28, n_estimators=200;, score=0.593 total time=  44.4s\n",
      "[CV 1/3] END criterion=friedman_mse, max_depth=3, min_samples_leaf=28, min_samples_split=20, n_estimators=200;, score=0.576 total time=  27.9s\n",
      "[CV 2/3] END criterion=friedman_mse, max_depth=3, min_samples_leaf=28, min_samples_split=20, n_estimators=200;, score=0.576 total time=  27.8s\n",
      "[CV 3/3] END criterion=friedman_mse, max_depth=3, min_samples_leaf=28, min_samples_split=20, n_estimators=200;, score=0.577 total time=  27.9s\n",
      "[CV 1/3] END criterion=friedman_mse, max_depth=5, min_samples_leaf=24, min_samples_split=28, n_estimators=200;, score=0.595 total time=  44.2s\n",
      "[CV 2/3] END criterion=friedman_mse, max_depth=5, min_samples_leaf=24, min_samples_split=28, n_estimators=200;, score=0.592 total time=  44.1s\n",
      "[CV 3/3] END criterion=friedman_mse, max_depth=5, min_samples_leaf=24, min_samples_split=28, n_estimators=200;, score=0.596 total time=  44.3s\n",
      "[CV 1/3] END criterion=friedman_mse, max_depth=5, min_samples_leaf=20, min_samples_split=24, n_estimators=50;, score=0.574 total time=  11.0s\n",
      "[CV 2/3] END criterion=friedman_mse, max_depth=5, min_samples_leaf=20, min_samples_split=24, n_estimators=50;, score=0.572 total time=  11.1s\n",
      "[CV 3/3] END criterion=friedman_mse, max_depth=5, min_samples_leaf=20, min_samples_split=24, n_estimators=50;, score=0.575 total time=  11.0s\n",
      "[CV 1/3] END criterion=friedman_mse, max_depth=5, min_samples_leaf=28, min_samples_split=24, n_estimators=200;, score=0.592 total time=  44.0s\n",
      "[CV 2/3] END criterion=friedman_mse, max_depth=5, min_samples_leaf=28, min_samples_split=24, n_estimators=200;, score=0.592 total time=  44.1s\n",
      "[CV 3/3] END criterion=friedman_mse, max_depth=5, min_samples_leaf=28, min_samples_split=24, n_estimators=200;, score=0.596 total time=  44.1s\n",
      "Random Search Best Params\n",
      "{'n_estimators': 200, 'min_samples_split': 28, 'min_samples_leaf': 24, 'max_depth': 8, 'criterion': 'friedman_mse'}\n",
      "Random Search Best Estimators\n",
      "GradientBoostingClassifier(max_depth=8, min_samples_leaf=24,\n",
      "                           min_samples_split=28, n_estimators=200)\n"
     ]
    }
   ],
   "source": [
    "# hyperparameter_dict = {\n",
    "# }\n",
    "# gbc = Gradient_Boosting_Classifier(fe.get_dataframe(), TARGET_VARIABLE, hyperparameter_dict, TEST_SIZE, RANDOM_STATE, \n",
    "#                                    IS_NOTEBOOK)\n",
    "# param_grid = {\n",
    "#     \"n_estimators\": [50, 100, 150, 200],\n",
    "#     \"criterion\": [\"friedman_mse\", \"squared_error\"],\n",
    "#     \"min_samples_split\": [20, 24, 28],\n",
    "#     \"min_samples_leaf\": [20, 24, 28],\n",
    "#     \"max_depth\": [3, 5, 8]\n",
    "#     }\n",
    "# gbc.RandomizedSearchCV(param_grid, 4)"
   ]
  },
  {
   "cell_type": "markdown",
   "id": "9c57d306",
   "metadata": {},
   "source": [
    "### Model Train"
   ]
  },
  {
   "cell_type": "code",
   "execution_count": null,
   "id": "607dcd29",
   "metadata": {
    "scrolled": true
   },
   "outputs": [],
   "source": [
    "hyperparameter_dict = {\n",
    "    'n_estimators': 200, \n",
    "    'min_samples_split': 28, \n",
    "    'min_samples_leaf': 24, \n",
    "    'max_depth': 8, \n",
    "    'criterion': 'friedman_mse'\n",
    "}\n",
    "gbc = Gradient_Boosting_Classifier(fe.get_dataframe(), TARGET_VARIABLE, hyperparameter_dict, TEST_SIZE, RANDOM_STATE, IS_NOTEBOOK)\n",
    "gbc.model_processing()"
   ]
  },
  {
   "cell_type": "markdown",
   "id": "477378f8",
   "metadata": {},
   "source": [
    "# Model Evaluation"
   ]
  },
  {
   "cell_type": "code",
   "execution_count": null,
   "id": "f975eb64",
   "metadata": {
    "scrolled": true
   },
   "outputs": [],
   "source": []
  },
  {
   "cell_type": "code",
   "execution_count": null,
   "id": "da0b1dd7",
   "metadata": {
    "scrolled": true
   },
   "outputs": [],
   "source": []
  },
  {
   "cell_type": "code",
   "execution_count": null,
   "id": "40d91e7f",
   "metadata": {
    "scrolled": true
   },
   "outputs": [],
   "source": []
  },
  {
   "cell_type": "code",
   "execution_count": null,
   "id": "88533f77",
   "metadata": {
    "scrolled": true
   },
   "outputs": [],
   "source": []
  },
  {
   "cell_type": "code",
   "execution_count": null,
   "id": "63c7cc70",
   "metadata": {
    "scrolled": true
   },
   "outputs": [],
   "source": []
  },
  {
   "cell_type": "code",
   "execution_count": null,
   "id": "bd19b4a2",
   "metadata": {
    "scrolled": true
   },
   "outputs": [],
   "source": []
  }
 ],
 "metadata": {
  "kernelspec": {
   "display_name": "Python 3 (ipykernel)",
   "language": "python",
   "name": "python3"
  },
  "language_info": {
   "codemirror_mode": {
    "name": "ipython",
    "version": 3
   },
   "file_extension": ".py",
   "mimetype": "text/x-python",
   "name": "python",
   "nbconvert_exporter": "python",
   "pygments_lexer": "ipython3",
   "version": "3.10.9"
  }
 },
 "nbformat": 4,
 "nbformat_minor": 5
}
