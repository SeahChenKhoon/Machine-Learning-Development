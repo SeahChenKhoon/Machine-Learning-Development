{
 "cells": [
  {
   "cell_type": "code",
   "execution_count": 1,
   "id": "3eaa73bf",
   "metadata": {},
   "outputs": [],
   "source": [
    "from sklearn.preprocessing import FunctionTransformer\n",
    "import numpy as np\n",
    "import pandas as pd\n",
    "import yaml"
   ]
  },
  {
   "cell_type": "code",
   "execution_count": 2,
   "id": "4adff723",
   "metadata": {},
   "outputs": [],
   "source": [
    "%run ./src/database.py\n",
    "\n",
    "# %run ./src/data_preprocessing.py"
   ]
  },
  {
   "cell_type": "code",
   "execution_count": 28,
   "id": "9fe1065c",
   "metadata": {},
   "outputs": [],
   "source": [
    "YAML_FILEPATHNAME = \"./config.yaml\"\n",
    "PRE_CRUISE_DB = 0\n",
    "POST_CRUISE_DB = 1"
   ]
  },
  {
   "cell_type": "markdown",
   "id": "8c816b6b",
   "metadata": {},
   "source": [
    "# Preprocessing"
   ]
  },
  {
   "cell_type": "code",
   "execution_count": 29,
   "id": "cb5cd88f",
   "metadata": {},
   "outputs": [],
   "source": [
    "# Read YAML file\n",
    "data_path = read_yaml(YAML_FILEPATHNAME)"
   ]
  },
  {
   "cell_type": "code",
   "execution_count": 34,
   "id": "4b85d7db",
   "metadata": {},
   "outputs": [],
   "source": [
    "# Read Pre_cruise Data\n",
    "ds_pre_cruise = Database(DATA_PATH)\n",
    "df_pre_cruise = ds_pre_cruise.db_read(yaml_data['databases'][PRE_CRUISE_DB])"
   ]
  },
  {
   "cell_type": "code",
   "execution_count": 35,
   "id": "b6c14356",
   "metadata": {},
   "outputs": [],
   "source": [
    "# Read Post_cruise Data\n",
    "ds_post_cruise = Database(DATA_PATH)\n",
    "df_post_cruise = ds_post_cruise.db_read(yaml_data['databases'][POST_CRUISE_DB])"
   ]
  },
  {
   "cell_type": "code",
   "execution_count": 38,
   "id": "6740e4f6",
   "metadata": {},
   "outputs": [],
   "source": [
    "%run ./src/database.py\n",
    "%run ./src/util.py\n",
    "\n",
    "# Merge Pre_cruise and Post_cruise data\n",
    "df_cruise = merge_dataframe (df_pre_cruise, df_post_cruise)"
   ]
  },
  {
   "cell_type": "code",
   "execution_count": 39,
   "id": "094ab75f",
   "metadata": {},
   "outputs": [
    {
     "data": {
      "text/plain": [
       "(130875, 25)"
      ]
     },
     "execution_count": 39,
     "metadata": {},
     "output_type": "execute_result"
    }
   ],
   "source": [
    "df_cruise.shape"
   ]
  },
  {
   "cell_type": "code",
   "execution_count": null,
   "id": "61fdd8b2",
   "metadata": {},
   "outputs": [],
   "source": []
  },
  {
   "cell_type": "code",
   "execution_count": null,
   "id": "4e286451",
   "metadata": {},
   "outputs": [],
   "source": []
  },
  {
   "cell_type": "code",
   "execution_count": null,
   "id": "a5abdafe",
   "metadata": {},
   "outputs": [],
   "source": [
    "def read_pre_cruise_data(data_path, file_name, table_name, index_name):\n",
    "    return read_db(data_path, file_name, table_name,index_name)"
   ]
  },
  {
   "cell_type": "code",
   "execution_count": null,
   "id": "f48328f7",
   "metadata": {},
   "outputs": [],
   "source": [
    "def read_post_cruise_data(DATA_PATH, \"cruise_pre.db\", \"cruise_pre\",\"index\"):\n",
    "    return read_db(DATA_PATH, \"cruise_pre.db\", \"cruise_pre\",\"index\")"
   ]
  },
  {
   "cell_type": "code",
   "execution_count": 60,
   "id": "43cb613f",
   "metadata": {},
   "outputs": [],
   "source": [
    "# Read df_cruise_pre data file\n",
    "df_cruise_pre = "
   ]
  },
  {
   "cell_type": "code",
   "execution_count": 27,
   "id": "4971dc1b",
   "metadata": {},
   "outputs": [],
   "source": [
    "# Sort df_cruise_pre by index\n",
    "df_cruise_pre = df_cruise_pre.sort_index()"
   ]
  },
  {
   "cell_type": "code",
   "execution_count": 28,
   "id": "d3977a80",
   "metadata": {},
   "outputs": [
    {
     "data": {
      "text/plain": [
       "(133746, 18)"
      ]
     },
     "execution_count": 28,
     "metadata": {},
     "output_type": "execute_result"
    }
   ],
   "source": [
    "# Under df_cruise_pre data\n",
    "df_cruise_pre.shape"
   ]
  },
  {
   "cell_type": "code",
   "execution_count": 29,
   "id": "91b41062",
   "metadata": {},
   "outputs": [],
   "source": [
    "### There are 133746 rows with 18 columns"
   ]
  },
  {
   "cell_type": "code",
   "execution_count": 24,
   "id": "fa1bfe52",
   "metadata": {},
   "outputs": [],
   "source": [
    "df_cruise_post = read_db(DATA_PATH, \"cruise_post.db\", \"cruise_post\",\"index\")\n",
    "df_cruise_post = df_cruise_post.sort_index()"
   ]
  },
  {
   "cell_type": "code",
   "execution_count": 26,
   "id": "0487513e",
   "metadata": {},
   "outputs": [
    {
     "data": {
      "text/html": [
       "<div>\n",
       "<style scoped>\n",
       "    .dataframe tbody tr th:only-of-type {\n",
       "        vertical-align: middle;\n",
       "    }\n",
       "\n",
       "    .dataframe tbody tr th {\n",
       "        vertical-align: top;\n",
       "    }\n",
       "\n",
       "    .dataframe thead th {\n",
       "        text-align: right;\n",
       "    }\n",
       "</style>\n",
       "<table border=\"1\" class=\"dataframe\">\n",
       "  <thead>\n",
       "    <tr style=\"text-align: right;\">\n",
       "      <th></th>\n",
       "      <th>Cruise Name</th>\n",
       "      <th>Ticket Type</th>\n",
       "      <th>Cruise Distance</th>\n",
       "      <th>Ext_Intcode</th>\n",
       "      <th>WiFi</th>\n",
       "      <th>Dining</th>\n",
       "      <th>Entertainment</th>\n",
       "    </tr>\n",
       "    <tr>\n",
       "      <th>index</th>\n",
       "      <th></th>\n",
       "      <th></th>\n",
       "      <th></th>\n",
       "      <th></th>\n",
       "      <th></th>\n",
       "      <th></th>\n",
       "      <th></th>\n",
       "    </tr>\n",
       "  </thead>\n",
       "  <tbody>\n",
       "    <tr>\n",
       "      <th>0</th>\n",
       "      <td>Blastoise</td>\n",
       "      <td>None</td>\n",
       "      <td>3567 KM</td>\n",
       "      <td>LB446RWOOZI</td>\n",
       "      <td>1.0</td>\n",
       "      <td>1</td>\n",
       "      <td>1.0</td>\n",
       "    </tr>\n",
       "    <tr>\n",
       "      <th>0</th>\n",
       "      <td>Blastoise</td>\n",
       "      <td>None</td>\n",
       "      <td>3567 KM</td>\n",
       "      <td>LB446RWOOZI</td>\n",
       "      <td>1.0</td>\n",
       "      <td>1</td>\n",
       "      <td>1.0</td>\n",
       "    </tr>\n",
       "    <tr>\n",
       "      <th>0</th>\n",
       "      <td>Blastoise</td>\n",
       "      <td>None</td>\n",
       "      <td>3567 KM</td>\n",
       "      <td>LB446RWOOZI</td>\n",
       "      <td>1.0</td>\n",
       "      <td>1</td>\n",
       "      <td>1.0</td>\n",
       "    </tr>\n",
       "    <tr>\n",
       "      <th>0</th>\n",
       "      <td>Blastoise</td>\n",
       "      <td>None</td>\n",
       "      <td>3567 KM</td>\n",
       "      <td>LB446RWOOZI</td>\n",
       "      <td>1.0</td>\n",
       "      <td>1</td>\n",
       "      <td>1.0</td>\n",
       "    </tr>\n",
       "    <tr>\n",
       "      <th>1</th>\n",
       "      <td>Blastoise</td>\n",
       "      <td>Deluxe</td>\n",
       "      <td>672 KM</td>\n",
       "      <td>LB138HKBECM</td>\n",
       "      <td>NaN</td>\n",
       "      <td>0</td>\n",
       "      <td>1.0</td>\n",
       "    </tr>\n",
       "  </tbody>\n",
       "</table>\n",
       "</div>"
      ],
      "text/plain": [
       "      Cruise Name Ticket Type Cruise Distance  Ext_Intcode  WiFi  Dining  \\\n",
       "index                                                                      \n",
       "0       Blastoise        None         3567 KM  LB446RWOOZI   1.0       1   \n",
       "0       Blastoise        None         3567 KM  LB446RWOOZI   1.0       1   \n",
       "0       Blastoise        None         3567 KM  LB446RWOOZI   1.0       1   \n",
       "0       Blastoise        None         3567 KM  LB446RWOOZI   1.0       1   \n",
       "1       Blastoise      Deluxe          672 KM  LB138HKBECM   NaN       0   \n",
       "\n",
       "       Entertainment  \n",
       "index                 \n",
       "0                1.0  \n",
       "0                1.0  \n",
       "0                1.0  \n",
       "0                1.0  \n",
       "1                1.0  "
      ]
     },
     "execution_count": 26,
     "metadata": {},
     "output_type": "execute_result"
    }
   ],
   "source": [
    "df_cruise_post.head(5)"
   ]
  },
  {
   "cell_type": "code",
   "execution_count": 41,
   "id": "c0a252d7",
   "metadata": {},
   "outputs": [
    {
     "data": {
      "text/plain": [
       "(401261, 7)"
      ]
     },
     "execution_count": 41,
     "metadata": {},
     "output_type": "execute_result"
    }
   ],
   "source": [
    "df_cruise_post.shape"
   ]
  },
  {
   "cell_type": "code",
   "execution_count": 42,
   "id": "f5d36392",
   "metadata": {},
   "outputs": [],
   "source": [
    "### There are 401261 with 7 columns"
   ]
  },
  {
   "cell_type": "code",
   "execution_count": 43,
   "id": "c3ea9585",
   "metadata": {},
   "outputs": [],
   "source": [
    "df_cruise_post = df_cruise_post.drop_duplicates()"
   ]
  },
  {
   "cell_type": "code",
   "execution_count": 44,
   "id": "132468da",
   "metadata": {},
   "outputs": [
    {
     "data": {
      "text/plain": [
       "(130875, 7)"
      ]
     },
     "execution_count": 44,
     "metadata": {},
     "output_type": "execute_result"
    }
   ],
   "source": [
    "df_cruise_post.shape"
   ]
  },
  {
   "cell_type": "code",
   "execution_count": 45,
   "id": "8575c234",
   "metadata": {},
   "outputs": [],
   "source": [
    "### After removing duplicates there are 130875 rows and 7 columns"
   ]
  },
  {
   "cell_type": "code",
   "execution_count": 47,
   "id": "c922bab3",
   "metadata": {},
   "outputs": [],
   "source": [
    "df_cruise = pd.merge(df_cruise_pre, df_cruise_post, left_index=True, right_index=True, how='inner')"
   ]
  },
  {
   "cell_type": "code",
   "execution_count": 49,
   "id": "41699142",
   "metadata": {},
   "outputs": [
    {
     "name": "stdout",
     "output_type": "stream",
     "text": [
      "<class 'pandas.core.frame.DataFrame'>\n",
      "Index: 130875 entries, 0 to 133745\n",
      "Data columns (total 25 columns):\n",
      " #   Column                                      Non-Null Count   Dtype  \n",
      "---  ------                                      --------------   -----  \n",
      " 0   Gender                                      117691 non-null  object \n",
      " 1   Date of Birth                               116495 non-null  object \n",
      " 2   Source of Traffic                           130875 non-null  object \n",
      " 3   Onboard Wifi Service                        111800 non-null  object \n",
      " 4   Embarkation/Disembarkation time convenient  115568 non-null  float64\n",
      " 5   Ease of Online booking                      112945 non-null  float64\n",
      " 6   Gate location                               114087 non-null  float64\n",
      " 7   Logging                                     130875 non-null  object \n",
      " 8   Onboard Dining Service                      114404 non-null  object \n",
      " 9   Online Check-in                             115529 non-null  float64\n",
      " 10  Cabin Comfort                               110971 non-null  float64\n",
      " 11  Onboard Entertainment                       115295 non-null  object \n",
      " 12  Cabin service                               117316 non-null  float64\n",
      " 13  Baggage handling                            110930 non-null  float64\n",
      " 14  Port Check-in Service                       116824 non-null  float64\n",
      " 15  Onboard Service                             112969 non-null  float64\n",
      " 16  Cleanliness                                 112781 non-null  float64\n",
      " 17  Ext_Intcode_x                               130875 non-null  object \n",
      " 18  Cruise Name                                 115300 non-null  object \n",
      " 19  Ticket Type                                 110899 non-null  object \n",
      " 20  Cruise Distance                             116688 non-null  object \n",
      " 21  Ext_Intcode_y                               130875 non-null  object \n",
      " 22  WiFi                                        62643 non-null   float64\n",
      " 23  Dining                                      130875 non-null  int64  \n",
      " 24  Entertainment                               72114 non-null   float64\n",
      "dtypes: float64(12), int64(1), object(12)\n",
      "memory usage: 26.0+ MB\n"
     ]
    }
   ],
   "source": [
    "df_cruise.info()"
   ]
  },
  {
   "cell_type": "code",
   "execution_count": null,
   "id": "1370b807",
   "metadata": {},
   "outputs": [],
   "source": []
  },
  {
   "cell_type": "code",
   "execution_count": null,
   "id": "8e701d40",
   "metadata": {},
   "outputs": [],
   "source": []
  },
  {
   "cell_type": "code",
   "execution_count": null,
   "id": "235ec718",
   "metadata": {},
   "outputs": [],
   "source": []
  },
  {
   "cell_type": "code",
   "execution_count": null,
   "id": "01135635",
   "metadata": {},
   "outputs": [],
   "source": []
  },
  {
   "cell_type": "code",
   "execution_count": null,
   "id": "badc7ff7",
   "metadata": {},
   "outputs": [],
   "source": []
  },
  {
   "cell_type": "code",
   "execution_count": null,
   "id": "6e5437fa",
   "metadata": {},
   "outputs": [],
   "source": []
  },
  {
   "cell_type": "code",
   "execution_count": null,
   "id": "b5fd5b3e",
   "metadata": {},
   "outputs": [],
   "source": []
  },
  {
   "cell_type": "code",
   "execution_count": null,
   "id": "39ccff51",
   "metadata": {},
   "outputs": [],
   "source": []
  },
  {
   "cell_type": "code",
   "execution_count": null,
   "id": "bb7c5dac",
   "metadata": {},
   "outputs": [],
   "source": []
  },
  {
   "cell_type": "code",
   "execution_count": null,
   "id": "0c8107fd",
   "metadata": {},
   "outputs": [],
   "source": []
  },
  {
   "cell_type": "code",
   "execution_count": null,
   "id": "167447ab",
   "metadata": {},
   "outputs": [],
   "source": []
  },
  {
   "cell_type": "markdown",
   "id": "6d0620e2",
   "metadata": {},
   "source": [
    "# Feature Engineering"
   ]
  },
  {
   "cell_type": "code",
   "execution_count": null,
   "id": "0a627ec1",
   "metadata": {},
   "outputs": [],
   "source": []
  },
  {
   "cell_type": "markdown",
   "id": "94b5fbc0",
   "metadata": {},
   "source": [
    "# Model Building"
   ]
  },
  {
   "cell_type": "code",
   "execution_count": null,
   "id": "86fbf88b",
   "metadata": {},
   "outputs": [],
   "source": []
  },
  {
   "cell_type": "markdown",
   "id": "e28d0abf",
   "metadata": {},
   "source": [
    "# Model Evaluation"
   ]
  },
  {
   "cell_type": "code",
   "execution_count": null,
   "id": "b975c158",
   "metadata": {},
   "outputs": [],
   "source": []
  }
 ],
 "metadata": {
  "kernelspec": {
   "display_name": "Python 3 (ipykernel)",
   "language": "python",
   "name": "python3"
  },
  "language_info": {
   "codemirror_mode": {
    "name": "ipython",
    "version": 3
   },
   "file_extension": ".py",
   "mimetype": "text/x-python",
   "name": "python",
   "nbconvert_exporter": "python",
   "pygments_lexer": "ipython3",
   "version": "3.11.5"
  }
 },
 "nbformat": 4,
 "nbformat_minor": 5
}
