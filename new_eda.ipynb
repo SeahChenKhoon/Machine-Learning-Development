{
 "cells": [
  {
   "cell_type": "code",
   "execution_count": 1,
   "id": "a2ea04a8",
   "metadata": {},
   "outputs": [],
   "source": [
    "from sklearn.model_selection import train_test_split\n",
    "from sklearn.linear_model import LogisticRegression\n",
    "from sklearn.ensemble import RandomForestClassifier\n",
    "from sklearn.metrics import confusion_matrix\n",
    "from sklearn.metrics import classification_report\n",
    "import numpy as np\n",
    "import pandas as pd\n",
    "import yaml\n",
    "import ast"
   ]
  },
  {
   "cell_type": "code",
   "execution_count": 2,
   "id": "cae6a79e",
   "metadata": {},
   "outputs": [],
   "source": [
    "%run ./src/database.py\n",
    "%run ./src/util.py\n",
    "%run ./src/data_preprocessing.py\n",
    "%run ./src/feature_engineering.py\n",
    "%run ./src/visualisation.py\n",
    "%run ./src/model_build.py"
   ]
  },
  {
   "cell_type": "code",
   "execution_count": 3,
   "id": "18d550f5",
   "metadata": {},
   "outputs": [],
   "source": [
    "YAML_FILEPATHNAME = \"./config.yaml\"\n",
    "PRE_CRUISE_DB = 0\n",
    "POST_CRUISE_DB = 1\n",
    "IS_NOTEBOOK = True"
   ]
  },
  {
   "cell_type": "markdown",
   "id": "bd7be908",
   "metadata": {},
   "source": [
    "# Read yaml config and data"
   ]
  },
  {
   "cell_type": "code",
   "execution_count": 4,
   "id": "9c49f404",
   "metadata": {},
   "outputs": [],
   "source": [
    "# Read YAML file\n",
    "yaml_data = read_yaml(YAML_FILEPATHNAME)\n",
    "DISPLAY_STUB = yaml_data['display_stub']\n",
    "DATA_PATH = yaml_data['data_path']\n",
    "TEST_SIZE = yaml_data['test_size']\n",
    "RANDOM_STATE = yaml_data['random_state']\n",
    "TARGET_VARIABLE = yaml_data['target_variable']\n",
    "DB_INFO = yaml_data['databases']\n",
    "COMPOSITE_FIELD_INFO = yaml_data['composite_fields_to_split']\n",
    "ID_FIELDS = ast.literal_eval(yaml_data['ID_columns'])\n",
    "DATETIME_FIELD_INFO = yaml_data['convert_obj_datetime']\n",
    "NUMERIC_FIELD_INFO = yaml_data['convert_obj_numeric']\n",
    "MISSING_VAL_THRESHOLD =  yaml_data['pct_missing_threshold']\n",
    "CONTINUOUS_VARIABLE = ast.literal_eval(yaml_data['continuous_variables'])\n",
    "DIRTY_DATA_INFO = yaml_data['dirty_data_setting']\n",
    "VALID_DATA_INFO = yaml_data['valid_data_setting']\n",
    "NON_NUMERIC_COL = yaml_data['non_numeric_cols']\n",
    "DATE_YYYY_INFO = yaml_data['convert_date_yyyy']"
   ]
  },
  {
   "cell_type": "code",
   "execution_count": 5,
   "id": "a7145d81",
   "metadata": {},
   "outputs": [],
   "source": [
    "# Read Pre_cruise data\n",
    "df_pre_cruise = db_read(DATA_PATH, DB_INFO[PRE_CRUISE_DB])"
   ]
  },
  {
   "cell_type": "code",
   "execution_count": 6,
   "id": "36ae8754",
   "metadata": {},
   "outputs": [],
   "source": [
    "# Read Post_cruise data\n",
    "df_post_cruise = db_read(DATA_PATH, DB_INFO[POST_CRUISE_DB])"
   ]
  },
  {
   "cell_type": "markdown",
   "id": "75a38112",
   "metadata": {},
   "source": [
    "# Preprocessing"
   ]
  },
  {
   "cell_type": "code",
   "execution_count": 7,
   "id": "a019ce5e",
   "metadata": {},
   "outputs": [],
   "source": [
    "# Merge Pre_cruise and Post_cruise to form df_cruise with Index as the key\n",
    "df_cruise = db_merge_db (df_pre_cruise, df_post_cruise)"
   ]
  },
  {
   "cell_type": "code",
   "execution_count": 8,
   "id": "c5b1ea73",
   "metadata": {},
   "outputs": [],
   "source": [
    "dp = DataProcessing(df_cruise, DISPLAY_STUB)"
   ]
  },
  {
   "cell_type": "code",
   "execution_count": 9,
   "id": "4e9185dc",
   "metadata": {},
   "outputs": [],
   "source": [
    "# Replace all np.nan to None\n",
    "dp.replace_nan_none()"
   ]
  },
  {
   "cell_type": "code",
   "execution_count": 10,
   "id": "87af409d",
   "metadata": {},
   "outputs": [],
   "source": [
    "# Split composite field\n",
    "dp.split_composite_field(COMPOSITE_FIELD_INFO)"
   ]
  },
  {
   "cell_type": "code",
   "execution_count": 11,
   "id": "b34e1617",
   "metadata": {},
   "outputs": [],
   "source": [
    "# Remove IDs columns as in general they will have no predictive power\n",
    "dp.rm_id_cols(ID_FIELDS)"
   ]
  },
  {
   "cell_type": "code",
   "execution_count": 12,
   "id": "5508517d",
   "metadata": {},
   "outputs": [],
   "source": [
    "# Column pruning due to high missing values.\n",
    "dp.rm_cols_high_missing(MISSING_VAL_THRESHOLD)"
   ]
  },
  {
   "cell_type": "code",
   "execution_count": 13,
   "id": "8229eaa0",
   "metadata": {},
   "outputs": [],
   "source": [
    "# Convert fields from Object to Datetime\n",
    "dp.obj_to_datetime(DATETIME_FIELD_INFO)"
   ]
  },
  {
   "cell_type": "code",
   "execution_count": 14,
   "id": "a7c081bc",
   "metadata": {},
   "outputs": [],
   "source": [
    "# Convert fields from Object to Numeric \n",
    "dp.numeric_conversion(NUMERIC_FIELD_INFO)"
   ]
  },
  {
   "cell_type": "code",
   "execution_count": 15,
   "id": "fadb00d4",
   "metadata": {},
   "outputs": [],
   "source": [
    "# Remove of rows from Target Variable \n",
    "dp.rm_rows_target_var(TARGET_VARIABLE)"
   ]
  },
  {
   "cell_type": "code",
   "execution_count": 16,
   "id": "9a1a27a4",
   "metadata": {},
   "outputs": [],
   "source": [
    "# Removal of rows from Continuous variable which has missing value \n",
    "dp.remove_missing(CONTINUOUS_VARIABLE)"
   ]
  },
  {
   "cell_type": "code",
   "execution_count": 17,
   "id": "5c0b6f4b",
   "metadata": {
    "scrolled": false
   },
   "outputs": [],
   "source": [
    "# Dirty Data Cleansing\n",
    "dp.dirty_data_processing(DIRTY_DATA_INFO)"
   ]
  },
  {
   "cell_type": "code",
   "execution_count": 18,
   "id": "c2c893f1",
   "metadata": {
    "scrolled": false
   },
   "outputs": [],
   "source": [
    "# Restriction of Column vales\n",
    "dp.valid_data_processing(VALID_DATA_INFO)"
   ]
  },
  {
   "cell_type": "code",
   "execution_count": 19,
   "id": "3a99832b",
   "metadata": {},
   "outputs": [],
   "source": [
    "# Label encode non-numeric categorical columns to get numeric values\n",
    "dp.label_encoder(NON_NUMERIC_COL)"
   ]
  },
  {
   "cell_type": "code",
   "execution_count": 20,
   "id": "1ed7150e",
   "metadata": {},
   "outputs": [],
   "source": [
    "# Derive year from date column to enhance model efficiency, mitigate noise\n",
    "dp.yyyy_from_date(DATE_YYYY_INFO)"
   ]
  },
  {
   "cell_type": "markdown",
   "id": "94663609",
   "metadata": {},
   "source": [
    "# Feature Engineering"
   ]
  },
  {
   "cell_type": "code",
   "execution_count": 21,
   "id": "7caf0787",
   "metadata": {},
   "outputs": [],
   "source": [
    "fe = feature_engineering(dp.get_dataframe())"
   ]
  },
  {
   "cell_type": "code",
   "execution_count": 22,
   "id": "8d494c24",
   "metadata": {},
   "outputs": [],
   "source": [
    "# Standardise distance by converting Mile to KM\n",
    "fe.convert_miles_to_KM(\"Distance\")"
   ]
  },
  {
   "cell_type": "code",
   "execution_count": 23,
   "id": "0dc2ab00",
   "metadata": {},
   "outputs": [],
   "source": [
    "# Derive Age from Year of Birth and Year of Logging\n",
    "fe.calc_year_diff('Year of Logging', 'Year of Birth', 'Age')"
   ]
  },
  {
   "cell_type": "code",
   "execution_count": 24,
   "id": "01580603",
   "metadata": {},
   "outputs": [],
   "source": [
    "# Compute number of column\n",
    "# fe.denote_missing_col()"
   ]
  },
  {
   "cell_type": "markdown",
   "id": "cec43961",
   "metadata": {},
   "source": [
    "#### Gender"
   ]
  },
  {
   "cell_type": "code",
   "execution_count": 25,
   "id": "db7c5079",
   "metadata": {},
   "outputs": [],
   "source": [
    "# fe.impute_missing_value(impute_type=\"random\", col_list=['Gender'], none_val=2)"
   ]
  },
  {
   "cell_type": "code",
   "execution_count": 26,
   "id": "053b4b4b",
   "metadata": {},
   "outputs": [],
   "source": [
    "fe.impute_missing_value(impute_type=\"mean\")"
   ]
  },
  {
   "cell_type": "markdown",
   "id": "13eff9bb",
   "metadata": {},
   "source": [
    "# Model Building"
   ]
  },
  {
   "cell_type": "code",
   "execution_count": 27,
   "id": "e72e728b",
   "metadata": {},
   "outputs": [],
   "source": [
    "lr = Logistic_Regression(fe.get_dataframe())\n"
   ]
  },
  {
   "cell_type": "code",
   "execution_count": 28,
   "id": "7ff65f76",
   "metadata": {},
   "outputs": [],
   "source": [
    "X, y = lr.prepare_data(TARGET_VARIABLE)"
   ]
  },
  {
   "cell_type": "code",
   "execution_count": 29,
   "id": "560842fb",
   "metadata": {},
   "outputs": [],
   "source": [
    "\n",
    "# columns = X_train.columns\n",
    "# os_data_X,os_data_y=os.fit_resample(X_train, y_train)\n",
    "# os_data_X = pd.DataFrame(data=os_data_X,columns=columns )\n",
    "# os_data_y= pd.DataFrame(data=os_data_y,columns=['y'])\n"
   ]
  },
  {
   "cell_type": "code",
   "execution_count": 30,
   "id": "1a433e66",
   "metadata": {
    "scrolled": false
   },
   "outputs": [
    {
     "name": "stdout",
     "output_type": "stream",
     "text": [
      "\u001b[1mClassification Report \u001b[0m\n",
      "\u001b[1mTrain \u001b[0m\n",
      "              precision    recall  f1-score   support\n",
      "\n",
      "           0       0.62      0.71      0.66     31625\n",
      "           1       0.73      0.68      0.70     31625\n",
      "           2       0.61      0.56      0.58     31625\n",
      "\n",
      "    accuracy                           0.65     94875\n",
      "   macro avg       0.65      0.65      0.65     94875\n",
      "weighted avg       0.65      0.65      0.65     94875\n",
      "\n",
      "\u001b[1mTest \u001b[0m\n",
      "              precision    recall  f1-score   support\n",
      "\n",
      "           0       0.13      0.36      0.19      1279\n",
      "           1       0.80      0.69      0.74      7844\n",
      "           2       0.69      0.57      0.63      7404\n",
      "\n",
      "    accuracy                           0.61     16527\n",
      "   macro avg       0.54      0.54      0.52     16527\n",
      "weighted avg       0.70      0.61      0.65     16527\n",
      "\n",
      "\n",
      "\u001b[1mConfusion Metric\u001b[0m\n",
      "(94875,)\n",
      "(94875,)\n",
      "\u001b[1mTrain\u001b[0m\n"
     ]
    },
    {
     "data": {
      "image/png": "[encoded data removed]",
      "text/plain": [
       "<Figure size 700x500 with 2 Axes>"
      ]
     },
     "metadata": {},
     "output_type": "display_data"
    },
    {
     "name": "stdout",
     "output_type": "stream",
     "text": [
      "\u001b[1mTest\u001b[0m\n"
     ]
    },
    {
     "data": {
      "image/png": "[encoded data removed]",
      "text/plain": [
       "<Figure size 700x500 with 2 Axes>"
      ]
     },
     "metadata": {},
     "output_type": "display_data"
    },
    {
     "name": "stdout",
     "output_type": "stream",
     "text": [
      "\n",
      "\u001b[1mPerformance Metrics\u001b[0m\n",
      "\u001b[1mTrain \u001b[0m\n",
      "Test Accuracy: 0.6487\n",
      "Test Precision: 0.6487\n",
      "Test Recall: 0.6487\n",
      "\u001b[1mTest \u001b[0m\n",
      "Test Accuracy: 0.6117\n",
      "Test Precision: 0.6117\n",
      "Test Recall: 0.6117\n"
     ]
    }
   ],
   "source": [
    "hyperparameter_dict = {\n",
    "    'random_state': RANDOM_STATE,\n",
    "    'max_iter': 10000\n",
    "}\n",
    "\n",
    "lr.model_processing(X, y, TEST_SIZE, RANDOM_STATE, hyperparameter_dict, IS_NOTEBOOK)"
   ]
  },
  {
   "cell_type": "markdown",
   "id": "477378f8",
   "metadata": {},
   "source": [
    "# Model Evaluation"
   ]
  },
  {
   "cell_type": "code",
   "execution_count": 31,
   "id": "bb59a3b5",
   "metadata": {},
   "outputs": [],
   "source": [
    "# from sklearn import metrics\n",
    "# print(\"Classification report - Train\")\n",
    "# print(classification_report(y_train, y_train_pred_log))\n",
    "# print(\"Classification report - Test\")\n",
    "# print(classification_report(y_test, y_test_pred_log))\n",
    "# print(\" \")\n",
    "# print(\"Classification report - Test\")\n",
    "# print(confusion_matrix(y_train, y_train_pred_log))\n",
    "# print(\"Confusion Matrix - Test\")\n",
    "# print(confusion_matrix(y_test, y_test_pred_log))\n",
    "# print(\" \")\n",
    "# print(\"Train Accuracy: \",format(metrics.accuracy_score(y_train, y_train_pred_log), '.4f'))\n",
    "# # print(\"Train Precision: \",format(metrics.precision_score(y_train, y_train_pred_log, average='micro'), '.4f'))\n",
    "# # print(\"Train Recall:\",format(metrics.recall_score(y_train, y_train_pred_log,average='micro'), '.4f'))\n",
    "# # print(\" \")\n",
    "# print(\"Test Accuracy:\",format(metrics.accuracy_score(y_test, y_test_pred_log), '.4f'))\n",
    "# # print(\"Test Precision:\",format(metrics.precision_score(y_test, y_test_pred_log,average='micro'), '.4f'))\n",
    "# # print(\"Test Recall:\",format(metrics.recall_score(y_test, y_test_pred_log,average='micro'), '.4f'))\n",
    "\n",
    "# print(\"\")\n"
   ]
  },
  {
   "cell_type": "code",
   "execution_count": 32,
   "id": "34f65d98",
   "metadata": {
    "scrolled": false
   },
   "outputs": [],
   "source": [
    "# from sklearn import metrics\n",
    "# print(\"Classification report - Train\")\n",
    "# print(classification_report(y_train, y_train_pred_rf))\n",
    "# print(\"Classification report - Test\")\n",
    "# print(classification_report(y_test, y_test_pred_rf))\n",
    "# print(\" \")\n",
    "# print(\"Classification report - Test\")\n",
    "# print(confusion_matrix(y_train, y_train_pred_rf))\n",
    "# print(\"Confusion Matrix - Test\")\n",
    "# print(confusion_matrix(y_test, y_test_pred_rf))\n",
    "# print(\" \")\n",
    "# print(\"Train Accuracy: \",format(metrics.accuracy_score(y_train, y_train_pred_rf), '.4f'))\n",
    "# # print(\"Train Precision: \",format(metrics.precision_score(y_train, y_train_pred_log, average='micro'), '.4f'))\n",
    "# # print(\"Train Recall:\",format(metrics.recall_score(y_train, y_train_pred_log,average='micro'), '.4f'))\n",
    "# # print(\" \")\n",
    "# print(\"Test Accuracy:\",format(metrics.accuracy_score(y_test, y_test_pred_rf), '.4f'))\n",
    "# # print(\"Test Precision:\",format(metrics.precision_score(y_test, y_test_pred_log,average='micro'), '.4f'))\n",
    "# # print(\"Test Recall:\",format(metrics.recall_score(y_test, y_test_pred_log,average='micro'), '.4f'))\n",
    "\n",
    "# print(\"\")\n"
   ]
  }
 ],
 "metadata": {
  "kernelspec": {
   "display_name": "Python 3 (ipykernel)",
   "language": "python",
   "name": "python3"
  },
  "language_info": {
   "codemirror_mode": {
    "name": "ipython",
    "version": 3
   },
   "file_extension": ".py",
   "mimetype": "text/x-python",
   "name": "python",
   "nbconvert_exporter": "python",
   "pygments_lexer": "ipython3",
   "version": "3.11.5"
  }
 },
 "nbformat": 4,
 "nbformat_minor": 5
}
