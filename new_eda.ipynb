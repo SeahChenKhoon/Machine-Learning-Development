{
 "cells": [
  {
   "cell_type": "code",
   "execution_count": 1,
   "id": "e7206b4b",
   "metadata": {},
   "outputs": [],
   "source": [
    "from sklearn.preprocessing import FunctionTransformer\n",
    "import numpy as np\n",
    "import pandas as pd\n",
    "import yaml"
   ]
  },
  {
   "cell_type": "code",
   "execution_count": 2,
   "id": "4fde2f65",
   "metadata": {},
   "outputs": [],
   "source": [
    "%run ./src/database.py\n",
    "%run ./src/util.py\n",
    "# %run ./src/data_preprocessing.py"
   ]
  },
  {
   "cell_type": "code",
   "execution_count": 28,
   "id": "b57e8989",
   "metadata": {},
   "outputs": [],
   "source": [
    "YAML_FILEPATHNAME = \"./config.yaml\"\n",
    "PRE_CRUISE_DB = 0\n",
    "POST_CRUISE_DB = 1"
   ]
  },
  {
   "cell_type": "markdown",
   "id": "62b974cd",
   "metadata": {},
   "source": [
    "# Preprocessing"
   ]
  },
  {
   "cell_type": "code",
   "execution_count": 29,
   "id": "ce6f3af9",
   "metadata": {},
   "outputs": [],
   "source": [
    "# Read YAML file\n",
    "data_path = read_yaml(YAML_FILEPATHNAME)"
   ]
  },
  {
   "cell_type": "code",
   "execution_count": 34,
   "id": "5ccc9537",
   "metadata": {},
   "outputs": [],
   "source": [
    "# Read Pre_cruise Data\n",
    "ds_pre_cruise = Database(DATA_PATH)\n",
    "df_pre_cruise = ds_pre_cruise.db_read(yaml_data['databases'][PRE_CRUISE_DB])"
   ]
  },
  {
   "cell_type": "code",
   "execution_count": 35,
   "id": "65f20028",
   "metadata": {},
   "outputs": [],
   "source": [
    "# Read Post_cruise Data\n",
    "ds_post_cruise = Database(DATA_PATH)\n",
    "df_post_cruise = ds_post_cruise.db_read(yaml_data['databases'][POST_CRUISE_DB])"
   ]
  },
  {
   "cell_type": "code",
   "execution_count": 52,
   "id": "75b7c3cd",
   "metadata": {},
   "outputs": [],
   "source": [
    "\n",
    "\n",
    "# Merge Pre_cruise and Post_cruise data\n",
    "df_cruise = merge_dataframe (df_pre_cruise, df_post_cruise)"
   ]
  },
  {
   "cell_type": "code",
   "execution_count": 39,
   "id": "df61ecbb",
   "metadata": {},
   "outputs": [
    {
     "data": {
      "text/plain": [
       "(130875, 25)"
      ]
     },
     "execution_count": 39,
     "metadata": {},
     "output_type": "execute_result"
    }
   ],
   "source": [
    "df_cruise.shape"
   ]
  },
  {
   "cell_type": "code",
   "execution_count": null,
   "id": "e07fcbe4",
   "metadata": {},
   "outputs": [],
   "source": [
    "### There are 130875 rows and 25 columns"
   ]
  },
  {
   "cell_type": "code",
   "execution_count": 48,
   "id": "66e4cabe",
   "metadata": {},
   "outputs": [
    {
     "data": {
      "text/html": [
       "<div>\n",
       "<style scoped>\n",
       "    .dataframe tbody tr th:only-of-type {\n",
       "        vertical-align: middle;\n",
       "    }\n",
       "\n",
       "    .dataframe tbody tr th {\n",
       "        vertical-align: top;\n",
       "    }\n",
       "\n",
       "    .dataframe thead th {\n",
       "        text-align: right;\n",
       "    }\n",
       "</style>\n",
       "<table border=\"1\" class=\"dataframe\">\n",
       "  <thead>\n",
       "    <tr style=\"text-align: right;\">\n",
       "      <th></th>\n",
       "      <th>Gender</th>\n",
       "      <th>Date of Birth</th>\n",
       "      <th>Source of Traffic</th>\n",
       "      <th>Onboard Wifi Service</th>\n",
       "      <th>Embarkation/Disembarkation time convenient</th>\n",
       "      <th>Ease of Online booking</th>\n",
       "      <th>Gate location</th>\n",
       "      <th>Logging</th>\n",
       "      <th>Onboard Dining Service</th>\n",
       "      <th>Online Check-in</th>\n",
       "      <th>...</th>\n",
       "      <th>Onboard Service</th>\n",
       "      <th>Cleanliness</th>\n",
       "      <th>Ext_Intcode_x</th>\n",
       "      <th>Cruise Name</th>\n",
       "      <th>Ticket Type</th>\n",
       "      <th>Cruise Distance</th>\n",
       "      <th>Ext_Intcode_y</th>\n",
       "      <th>WiFi</th>\n",
       "      <th>Dining</th>\n",
       "      <th>Entertainment</th>\n",
       "    </tr>\n",
       "    <tr>\n",
       "      <th>index</th>\n",
       "      <th></th>\n",
       "      <th></th>\n",
       "      <th></th>\n",
       "      <th></th>\n",
       "      <th></th>\n",
       "      <th></th>\n",
       "      <th></th>\n",
       "      <th></th>\n",
       "      <th></th>\n",
       "      <th></th>\n",
       "      <th></th>\n",
       "      <th></th>\n",
       "      <th></th>\n",
       "      <th></th>\n",
       "      <th></th>\n",
       "      <th></th>\n",
       "      <th></th>\n",
       "      <th></th>\n",
       "      <th></th>\n",
       "      <th></th>\n",
       "      <th></th>\n",
       "    </tr>\n",
       "  </thead>\n",
       "  <tbody>\n",
       "    <tr>\n",
       "      <th>0</th>\n",
       "      <td>None</td>\n",
       "      <td>05/10/1973</td>\n",
       "      <td>Direct - Company Website</td>\n",
       "      <td>A little important</td>\n",
       "      <td>3.0</td>\n",
       "      <td>5.0</td>\n",
       "      <td>3.0</td>\n",
       "      <td>01/01/2023 0:00</td>\n",
       "      <td>Very important</td>\n",
       "      <td>2.0</td>\n",
       "      <td>...</td>\n",
       "      <td>2.0</td>\n",
       "      <td>3.0</td>\n",
       "      <td>LB446RWOOZI</td>\n",
       "      <td>Blastoise</td>\n",
       "      <td>None</td>\n",
       "      <td>3567 KM</td>\n",
       "      <td>LB446RWOOZI</td>\n",
       "      <td>1.0</td>\n",
       "      <td>1</td>\n",
       "      <td>1.0</td>\n",
       "    </tr>\n",
       "    <tr>\n",
       "      <th>1</th>\n",
       "      <td>Female</td>\n",
       "      <td>None</td>\n",
       "      <td>Indirect - Social Media</td>\n",
       "      <td>Not at all important</td>\n",
       "      <td>4.0</td>\n",
       "      <td>1.0</td>\n",
       "      <td>NaN</td>\n",
       "      <td>01/01/2023 0:01</td>\n",
       "      <td>Very important</td>\n",
       "      <td>NaN</td>\n",
       "      <td>...</td>\n",
       "      <td>4.0</td>\n",
       "      <td>4.0</td>\n",
       "      <td>LB138HKBECM</td>\n",
       "      <td>Blastoise</td>\n",
       "      <td>Deluxe</td>\n",
       "      <td>672 KM</td>\n",
       "      <td>LB138HKBECM</td>\n",
       "      <td>NaN</td>\n",
       "      <td>0</td>\n",
       "      <td>1.0</td>\n",
       "    </tr>\n",
       "    <tr>\n",
       "      <th>2</th>\n",
       "      <td>Female</td>\n",
       "      <td>22/07/1998</td>\n",
       "      <td>Indirect - Search Engine</td>\n",
       "      <td>None</td>\n",
       "      <td>3.0</td>\n",
       "      <td>0.0</td>\n",
       "      <td>5.0</td>\n",
       "      <td>01/01/2023 0:02</td>\n",
       "      <td>None</td>\n",
       "      <td>NaN</td>\n",
       "      <td>...</td>\n",
       "      <td>3.0</td>\n",
       "      <td>NaN</td>\n",
       "      <td>BL713UHBAAN</td>\n",
       "      <td>IAPRAS</td>\n",
       "      <td>Deluxe</td>\n",
       "      <td>1167 KM</td>\n",
       "      <td>BL713UHBAAN</td>\n",
       "      <td>NaN</td>\n",
       "      <td>0</td>\n",
       "      <td>0.0</td>\n",
       "    </tr>\n",
       "    <tr>\n",
       "      <th>3</th>\n",
       "      <td>Female</td>\n",
       "      <td>01/05/1970</td>\n",
       "      <td>Direct - Company Website</td>\n",
       "      <td>Very important</td>\n",
       "      <td>4.0</td>\n",
       "      <td>4.0</td>\n",
       "      <td>4.0</td>\n",
       "      <td>01/01/2023 0:05</td>\n",
       "      <td>Somewhat important</td>\n",
       "      <td>4.0</td>\n",
       "      <td>...</td>\n",
       "      <td>2.0</td>\n",
       "      <td>4.0</td>\n",
       "      <td>LB243DMKCFL</td>\n",
       "      <td>Lapras</td>\n",
       "      <td>Deluxe</td>\n",
       "      <td>280 KM</td>\n",
       "      <td>LB243DMKCFL</td>\n",
       "      <td>NaN</td>\n",
       "      <td>0</td>\n",
       "      <td>1.0</td>\n",
       "    </tr>\n",
       "    <tr>\n",
       "      <th>4</th>\n",
       "      <td>Male</td>\n",
       "      <td>07/01/1960</td>\n",
       "      <td>Direct - Company Website</td>\n",
       "      <td>Somewhat important</td>\n",
       "      <td>4.0</td>\n",
       "      <td>2.0</td>\n",
       "      <td>NaN</td>\n",
       "      <td>01/01/2023 0:06</td>\n",
       "      <td>Not at all important</td>\n",
       "      <td>2.0</td>\n",
       "      <td>...</td>\n",
       "      <td>2.0</td>\n",
       "      <td>NaN</td>\n",
       "      <td>LB218CFLOBS</td>\n",
       "      <td>Lapras</td>\n",
       "      <td>Standard</td>\n",
       "      <td>1145 Miles</td>\n",
       "      <td>LB218CFLOBS</td>\n",
       "      <td>NaN</td>\n",
       "      <td>1</td>\n",
       "      <td>NaN</td>\n",
       "    </tr>\n",
       "  </tbody>\n",
       "</table>\n",
       "<p>5 rows × 25 columns</p>\n",
       "</div>"
      ],
      "text/plain": [
       "       Gender Date of Birth         Source of Traffic  Onboard Wifi Service  \\\n",
       "index                                                                         \n",
       "0        None    05/10/1973  Direct - Company Website    A little important   \n",
       "1      Female          None   Indirect - Social Media  Not at all important   \n",
       "2      Female    22/07/1998  Indirect - Search Engine                  None   \n",
       "3      Female    01/05/1970  Direct - Company Website        Very important   \n",
       "4        Male    07/01/1960  Direct - Company Website    Somewhat important   \n",
       "\n",
       "       Embarkation/Disembarkation time convenient  Ease of Online booking  \\\n",
       "index                                                                       \n",
       "0                                             3.0                     5.0   \n",
       "1                                             4.0                     1.0   \n",
       "2                                             3.0                     0.0   \n",
       "3                                             4.0                     4.0   \n",
       "4                                             4.0                     2.0   \n",
       "\n",
       "       Gate location          Logging Onboard Dining Service  Online Check-in  \\\n",
       "index                                                                           \n",
       "0                3.0  01/01/2023 0:00         Very important              2.0   \n",
       "1                NaN  01/01/2023 0:01         Very important              NaN   \n",
       "2                5.0  01/01/2023 0:02                   None              NaN   \n",
       "3                4.0  01/01/2023 0:05     Somewhat important              4.0   \n",
       "4                NaN  01/01/2023 0:06   Not at all important              2.0   \n",
       "\n",
       "       ...  Onboard Service Cleanliness  Ext_Intcode_x  Cruise Name  \\\n",
       "index  ...                                                            \n",
       "0      ...              2.0         3.0    LB446RWOOZI    Blastoise   \n",
       "1      ...              4.0         4.0    LB138HKBECM    Blastoise   \n",
       "2      ...              3.0         NaN    BL713UHBAAN       IAPRAS   \n",
       "3      ...              2.0         4.0    LB243DMKCFL       Lapras   \n",
       "4      ...              2.0         NaN    LB218CFLOBS       Lapras   \n",
       "\n",
       "       Ticket Type  Cruise Distance  Ext_Intcode_y WiFi Dining Entertainment  \n",
       "index                                                                         \n",
       "0             None          3567 KM    LB446RWOOZI  1.0      1           1.0  \n",
       "1           Deluxe           672 KM    LB138HKBECM  NaN      0           1.0  \n",
       "2           Deluxe          1167 KM    BL713UHBAAN  NaN      0           0.0  \n",
       "3           Deluxe           280 KM    LB243DMKCFL  NaN      0           1.0  \n",
       "4         Standard       1145 Miles    LB218CFLOBS  NaN      1           NaN  \n",
       "\n",
       "[5 rows x 25 columns]"
      ]
     },
     "execution_count": 48,
     "metadata": {},
     "output_type": "execute_result"
    }
   ],
   "source": [
    "df_cruise.head(5)"
   ]
  },
  {
   "cell_type": "code",
   "execution_count": 53,
   "id": "8af37fab",
   "metadata": {},
   "outputs": [],
   "source": [
    "# Split Source of Traffic into Source and Traffic\n",
    "split_column(df_cruise, 'Source of Traffic', ['Source', 'Traffic'], ' - ')"
   ]
  },
  {
   "cell_type": "code",
   "execution_count": 55,
   "id": "f5bac07c",
   "metadata": {},
   "outputs": [],
   "source": [
    "# Split Source of Traffic into Source and Traffic\n",
    "split_column(df_cruise, 'Cruise Distance', ['Distance', 'Dist_Matrix'], ' ')"
   ]
  },
  {
   "cell_type": "code",
   "execution_count": 58,
   "id": "f580aa28",
   "metadata": {},
   "outputs": [
    {
     "name": "stdout",
     "output_type": "stream",
     "text": [
      "(130875, 27)\n",
      "(5846, 27)\n"
     ]
    }
   ],
   "source": [
    "%run ./src/util.py\n",
    "# Impute Missing Value in dataframe\n",
    "print(df_cruise.shape)\n",
    "impute_missing_value(df_cruise)\n",
    "print(df_cruise.shape)"
   ]
  },
  {
   "cell_type": "code",
   "execution_count": null,
   "id": "797ce133",
   "metadata": {},
   "outputs": [],
   "source": []
  },
  {
   "cell_type": "code",
   "execution_count": null,
   "id": "f22b439c",
   "metadata": {},
   "outputs": [],
   "source": []
  },
  {
   "cell_type": "code",
   "execution_count": null,
   "id": "0221474d",
   "metadata": {},
   "outputs": [],
   "source": []
  },
  {
   "cell_type": "code",
   "execution_count": null,
   "id": "b897ae18",
   "metadata": {},
   "outputs": [],
   "source": []
  },
  {
   "cell_type": "code",
   "execution_count": null,
   "id": "350ef651",
   "metadata": {},
   "outputs": [],
   "source": []
  },
  {
   "cell_type": "code",
   "execution_count": null,
   "id": "c4f40296",
   "metadata": {},
   "outputs": [],
   "source": []
  },
  {
   "cell_type": "code",
   "execution_count": null,
   "id": "e027bffe",
   "metadata": {},
   "outputs": [],
   "source": []
  },
  {
   "cell_type": "markdown",
   "id": "4255dc1f",
   "metadata": {},
   "source": [
    "# Feature Engineering"
   ]
  },
  {
   "cell_type": "code",
   "execution_count": null,
   "id": "2180dbda",
   "metadata": {},
   "outputs": [],
   "source": []
  },
  {
   "cell_type": "markdown",
   "id": "1878c3da",
   "metadata": {},
   "source": [
    "# Model Building"
   ]
  },
  {
   "cell_type": "code",
   "execution_count": null,
   "id": "5a0c4881",
   "metadata": {},
   "outputs": [],
   "source": []
  },
  {
   "cell_type": "markdown",
   "id": "e50acea2",
   "metadata": {},
   "source": [
    "# Model Evaluation"
   ]
  },
  {
   "cell_type": "code",
   "execution_count": null,
   "id": "b419ea5b",
   "metadata": {},
   "outputs": [],
   "source": []
  }
 ],
 "metadata": {
  "kernelspec": {
   "display_name": "Python 3 (ipykernel)",
   "language": "python",
   "name": "python3"
  },
  "language_info": {
   "codemirror_mode": {
    "name": "ipython",
    "version": 3
   },
   "file_extension": ".py",
   "mimetype": "text/x-python",
   "name": "python",
   "nbconvert_exporter": "python",
   "pygments_lexer": "ipython3",
   "version": "3.11.5"
  }
 },
 "nbformat": 4,
 "nbformat_minor": 5
}
