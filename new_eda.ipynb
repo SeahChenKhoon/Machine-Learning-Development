{
 "cells": [
  {
   "cell_type": "markdown",
   "id": "6fc0d785",
   "metadata": {},
   "source": []
  },
  {
   "cell_type": "code",
   "execution_count": 13,
   "id": "a2ea04a8",
   "metadata": {},
   "outputs": [],
   "source": [
    "from sklearn.model_selection import train_test_split\n",
    "from sklearn.linear_model import LogisticRegression\n",
    "from sklearn.ensemble import RandomForestClassifier\n",
    "from sklearn.metrics import confusion_matrix\n",
    "from sklearn.metrics import classification_report\n",
    "import numpy as np\n",
    "import pandas as pd\n",
    "import yaml\n",
    "import ast"
   ]
  },
  {
   "cell_type": "code",
   "execution_count": 14,
   "id": "cae6a79e",
   "metadata": {},
   "outputs": [],
   "source": [
    "%run ./src/database.py\n",
    "%run ./src/util.py\n",
    "%run ./src/data_preprocessing.py\n",
    "%run ./src/feature_engineering.py\n",
    "%run ./src/visualisation.py"
   ]
  },
  {
   "cell_type": "code",
   "execution_count": 15,
   "id": "18d550f5",
   "metadata": {},
   "outputs": [],
   "source": [
    "YAML_FILEPATHNAME = \"./config.yaml\"\n",
    "PRE_CRUISE_DB = 0\n",
    "POST_CRUISE_DB = 1"
   ]
  },
  {
   "cell_type": "code",
   "execution_count": 16,
   "id": "a2ef75e8",
   "metadata": {},
   "outputs": [],
   "source": [
    "# Read YAML file\n",
    "yaml_data = read_yaml(YAML_FILEPATHNAME)"
   ]
  },
  {
   "cell_type": "markdown",
   "id": "75a38112",
   "metadata": {},
   "source": [
    "# Preprocessing"
   ]
  },
  {
   "cell_type": "code",
   "execution_count": 17,
   "id": "9c49f404",
   "metadata": {},
   "outputs": [],
   "source": [
    "DATA_PATH = yaml_data['data_path']\n",
    "TEST_SIZE = yaml_data['test_size']\n",
    "RANDOM_STATE = yaml_data['random_state']\n",
    "TARGET_VARIABLE = yaml_data['target_variable']"
   ]
  },
  {
   "cell_type": "code",
   "execution_count": 18,
   "id": "36ae8754",
   "metadata": {},
   "outputs": [],
   "source": [
    "# Read source data (Pre_cruise, Post_cruise) with removal of duplicates\n",
    "ds_pre_cruise = Database(DATA_PATH)\n",
    "df_pre_cruise = ds_pre_cruise.db_read(yaml_data['databases'][PRE_CRUISE_DB])\n",
    "\n",
    "ds_post_cruise = Database(DATA_PATH)\n",
    "df_post_cruise = ds_post_cruise.db_read(yaml_data['databases'][POST_CRUISE_DB])"
   ]
  },
  {
   "cell_type": "code",
   "execution_count": 19,
   "id": "a019ce5e",
   "metadata": {},
   "outputs": [],
   "source": [
    "# Merge Pre_cruise and Post_cruise to form df_cruise with Index as the key\n",
    "df_cruise = merge_dataframe (df_pre_cruise, df_post_cruise)"
   ]
  },
  {
   "cell_type": "code",
   "execution_count": 20,
   "id": "cec42eca",
   "metadata": {},
   "outputs": [],
   "source": [
    "# Split composite field to increase interpretability\n",
    "if yaml_data['composite_fields_to_split']:\n",
    "    for composite_field in yaml_data['composite_fields_to_split']:\n",
    "        dp_split_column(df_cruise, composite_field['composite_field'], ast.literal_eval(composite_field['new_column_list']), \n",
    "                     composite_field['delimiter'])"
   ]
  },
  {
   "cell_type": "code",
   "execution_count": 21,
   "id": "3eced3ae",
   "metadata": {},
   "outputs": [],
   "source": [
    "# Remove IDs columns as in general they will have no predictive power\n",
    "dp_remove_id_columns(df_cruise,ast.literal_eval(yaml_data['ID_columns']))\n",
    "# util_remove_col(df_cruise,ast.literal_eval(yaml_data['ID_columns']))"
   ]
  },
  {
   "cell_type": "code",
   "execution_count": 25,
   "id": "4ff71f3e",
   "metadata": {},
   "outputs": [],
   "source": [
    "# Split composite field to increase interpretability\n",
    "if yaml_data['convert_object_to_datetime']:\n",
    "    for field in yaml_data['convert_object_to_datetime']:\n",
    "        dp_convert_object_to_datetime (df_cruise, ast.literal_eval(field['column_list']), field['format'])"
   ]
  },
  {
   "cell_type": "code",
   "execution_count": null,
   "id": "c26a7be4",
   "metadata": {},
   "outputs": [],
   "source": [
    "# Removal of columns with high missing values\n",
    "dp_remove_columns_with_high_missing(df_cruise, 0.4)"
   ]
  },
  {
   "cell_type": "code",
   "execution_count": null,
   "id": "ffc6975d",
   "metadata": {},
   "outputs": [],
   "source": [
    "# Removal of rows from Continuous variable which has missing value \n",
    "remove_missing_value(df_cruise,['Date of Birth', TARGET_VARIABLE, 'Distance','Logging'])"
   ]
  },
  {
   "cell_type": "code",
   "execution_count": null,
   "id": "0f8c9c3a",
   "metadata": {},
   "outputs": [],
   "source": [
    "dp_replace_value(df_cruise, [\"Gender\"], 'F', 'Female', True)\n",
    "dp_replace_value(df_cruise, [\"Gender\"], 'm', 'Male', True)"
   ]
  },
  {
   "cell_type": "code",
   "execution_count": null,
   "id": "59c4bd8e",
   "metadata": {},
   "outputs": [],
   "source": [
    "numeric_ordinal_list =['Embarkation/Disembarkation time convenient', 'Ease of Online booking', 'Gate location', \n",
    "    'Online Check-in', 'Cabin Comfort', 'Cabin service', 'Baggage handling', 'Port Check-in Service', \n",
    "    'Onboard Service', 'Cleanliness']\n",
    "dp_replace_value(df_cruise, numeric_ordinal_list, 0, None)"
   ]
  },
  {
   "cell_type": "code",
   "execution_count": null,
   "id": "c0ff0829",
   "metadata": {},
   "outputs": [],
   "source": [
    "dp_replace_value(df_cruise, [\"Cruise Name\"], 'L', 'Lapras', True)\n",
    "dp_replace_value(df_cruise, [\"Cruise Name\"], 'b', 'Blastoise', True)"
   ]
  },
  {
   "cell_type": "code",
   "execution_count": null,
   "id": "0fcbe91a",
   "metadata": {},
   "outputs": [],
   "source": [
    "categorical_ordinal_list  = ['Onboard Wifi Service', 'Onboard Dining Service','Onboard Entertainment']\n",
    "dp_restrict_val(df_cruise, numeric_ordinal_list, [1, 2, 3, 4, 5])\n",
    "\n",
    "dp_restrict_val(df_cruise, [\"Gender\"], ['Female','Male'])\n",
    "dp_restrict_val(df_cruise, categorical_ordinal_list, ['Not at all important', 'A little important', \n",
    "                                                                       'Somewhat important', 'Very important', \n",
    "                                                                       'Extremely important'])\n",
    "dp_restrict_val(df_cruise, [\"Cruise Name\"], ['Lapras','Blastoise'])\n",
    "dp_restrict_val(df_cruise, [\"Ticket Type\"], ['Deluxe','Luxury', 'Standard'])\n",
    "dp_restrict_val(df_cruise, [\"Source\"], ['Indirect','Direct'])\n",
    "dp_restrict_val(df_cruise, [\"Dining\"], [0.0, 0.1])\n",
    "dp_restrict_val(df_cruise, [\"Traffic\"], ['Search Engine','Company Website','Email Marketing','Social Media'])\n",
    "dp_restrict_val(df_cruise, [\"Dist_Metrics\"], ['KM','Miles'])"
   ]
  },
  {
   "cell_type": "code",
   "execution_count": null,
   "id": "79b1d418",
   "metadata": {},
   "outputs": [],
   "source": [
    "# Label encode non-numeric categorical columns to get numeric values\n",
    "list_non_numeric_col = ['Gender','Onboard Wifi Service','Onboard Dining Service','Onboard Entertainment','Cruise Name',\n",
    "                            'Ticket Type','Source','Traffic','Dist_Metrics']\n",
    "label_encoder(df_cruise,list_non_numeric_col)"
   ]
  },
  {
   "cell_type": "code",
   "execution_count": null,
   "id": "7aa5f7cb",
   "metadata": {},
   "outputs": [],
   "source": [
    "# Derive year from date column to enhance model efficiency, mitigate noise\n",
    "convert_datetime_to_year(df_cruise, ['Date of Birth','Logging'],['Year of Birth','Year of Logging'])"
   ]
  },
  {
   "cell_type": "code",
   "execution_count": null,
   "id": "8d1076ac",
   "metadata": {},
   "outputs": [],
   "source": []
  },
  {
   "cell_type": "markdown",
   "id": "94663609",
   "metadata": {},
   "source": [
    "# Feature Engineering"
   ]
  },
  {
   "cell_type": "code",
   "execution_count": null,
   "id": "053830a8",
   "metadata": {},
   "outputs": [],
   "source": [
    "%run ./src/visualisation.py\n",
    "vs_plot_corr_chart(df_cruise)"
   ]
  },
  {
   "cell_type": "code",
   "execution_count": null,
   "id": "66b21003",
   "metadata": {},
   "outputs": [],
   "source": [
    "df_cruise.info()"
   ]
  },
  {
   "cell_type": "code",
   "execution_count": null,
   "id": "140b2b06",
   "metadata": {},
   "outputs": [],
   "source": [
    "# Standardise distance by converting Mile to KM\n",
    "convert_miles_to_KM(df_cruise, \"Distance\")\n",
    "df_cruise[\"Distance\"] = abs(df_cruise[\"Distance\"])"
   ]
  },
  {
   "cell_type": "code",
   "execution_count": null,
   "id": "4f9ffa54",
   "metadata": {},
   "outputs": [],
   "source": [
    "# Derive Age from Year of Birth and Year of Logging\n",
    "calc_year_diff(df_cruise, 'Year of Logging', 'Year of Birth', 'Age')"
   ]
  },
  {
   "cell_type": "code",
   "execution_count": null,
   "id": "39e37383",
   "metadata": {},
   "outputs": [],
   "source": [
    "df_cruise.info()"
   ]
  },
  {
   "cell_type": "code",
   "execution_count": null,
   "id": "2fdadf45",
   "metadata": {},
   "outputs": [],
   "source": [
    "%run ./src/feature_engineering.py\n",
    "#### Denote Missing column\n",
    "denote_missing_col(df_cruise)"
   ]
  },
  {
   "cell_type": "code",
   "execution_count": null,
   "id": "1bc87efe",
   "metadata": {},
   "outputs": [],
   "source": [
    "%run ./src/visualisation.py\n",
    "\n",
    "missing_list = ['tot_missing_col']\n",
    "\n",
    "df_cruise[missing_list]\n",
    "\n",
    "vs_countplot_both(df_cruise, 'tot_missing_col')"
   ]
  },
  {
   "cell_type": "code",
   "execution_count": null,
   "id": "0f4526ad",
   "metadata": {},
   "outputs": [],
   "source": [
    "df_cruise['tot_missing_col'].describe()"
   ]
  },
  {
   "cell_type": "markdown",
   "id": "ae4a7c29",
   "metadata": {},
   "source": [
    "#### Gender"
   ]
  },
  {
   "cell_type": "code",
   "execution_count": null,
   "id": "e900a94a",
   "metadata": {},
   "outputs": [],
   "source": [
    "# impute_missing_value(df_cruise,  impute_type=\"random\", col_list=['Gender'], none_val=2)"
   ]
  },
  {
   "cell_type": "markdown",
   "id": "bc4c1395",
   "metadata": {},
   "source": [
    "#### Embarkation/Disembarkation time convenient"
   ]
  },
  {
   "cell_type": "code",
   "execution_count": null,
   "id": "171f5935",
   "metadata": {},
   "outputs": [],
   "source": [
    "# vs_countplot_both(df_cruise, 'Embarkation/Disembarkation time convenient')"
   ]
  },
  {
   "cell_type": "code",
   "execution_count": null,
   "id": "dee130e9",
   "metadata": {},
   "outputs": [],
   "source": []
  },
  {
   "cell_type": "code",
   "execution_count": null,
   "id": "426f47f5",
   "metadata": {},
   "outputs": [],
   "source": []
  },
  {
   "cell_type": "code",
   "execution_count": null,
   "id": "7eadada5",
   "metadata": {},
   "outputs": [],
   "source": []
  },
  {
   "cell_type": "code",
   "execution_count": null,
   "id": "4bfd3b77",
   "metadata": {},
   "outputs": [],
   "source": []
  },
  {
   "cell_type": "code",
   "execution_count": null,
   "id": "804ace5e",
   "metadata": {},
   "outputs": [],
   "source": [
    "df_cruise.info()"
   ]
  },
  {
   "cell_type": "code",
   "execution_count": null,
   "id": "79895869",
   "metadata": {},
   "outputs": [],
   "source": [
    "impute_missing_value(df_cruise, impute_type=\"mean\")"
   ]
  },
  {
   "cell_type": "code",
   "execution_count": null,
   "id": "60df3c75",
   "metadata": {},
   "outputs": [],
   "source": [
    "vs_plot_corr_chart(df_cruise)"
   ]
  },
  {
   "cell_type": "markdown",
   "id": "13eff9bb",
   "metadata": {},
   "source": [
    "# Model Building"
   ]
  },
  {
   "cell_type": "code",
   "execution_count": null,
   "id": "513711a1",
   "metadata": {},
   "outputs": [],
   "source": [
    "df_cruise.info()"
   ]
  },
  {
   "cell_type": "code",
   "execution_count": null,
   "id": "f391d0d5",
   "metadata": {},
   "outputs": [],
   "source": [
    "X = df_cruise.drop([TARGET_VARIABLE],axis=1)\n",
    "y = df_cruise[TARGET_VARIABLE]"
   ]
  },
  {
   "cell_type": "code",
   "execution_count": null,
   "id": "4a510139",
   "metadata": {},
   "outputs": [],
   "source": [
    "y = pd.DataFrame(y)\n",
    "vs_pieplot(y, TARGET_VARIABLE)"
   ]
  },
  {
   "cell_type": "code",
   "execution_count": null,
   "id": "f2ed56af",
   "metadata": {},
   "outputs": [],
   "source": [
    "# Perform SMOTE\n",
    "X, y = fe_SMOTE(X, y, RANDOM_STATE)"
   ]
  },
  {
   "cell_type": "code",
   "execution_count": null,
   "id": "bfd62da5",
   "metadata": {},
   "outputs": [],
   "source": [
    "y = pd.DataFrame(y)\n",
    "vs_pieplot(y, TARGET_VARIABLE)"
   ]
  },
  {
   "cell_type": "code",
   "execution_count": null,
   "id": "a607bfd7",
   "metadata": {},
   "outputs": [],
   "source": [
    "X_train, X_test, y_train, y_test = train_test_split(X, y, test_size=TEST_SIZE , random_state=RANDOM_STATE)\n",
    "y_train = y_train.values.ravel()"
   ]
  },
  {
   "cell_type": "code",
   "execution_count": null,
   "id": "3b174500",
   "metadata": {},
   "outputs": [],
   "source": [
    "log_regression = LogisticRegression(random_state=RANDOM_STATE, max_iter=10000)\n",
    "log_regression.fit(X_train, y_train)\n",
    "y_train_pred_log = log_regression.predict(X_train)\n",
    "y_test_pred_log = log_regression.predict(X_test)"
   ]
  },
  {
   "cell_type": "code",
   "execution_count": null,
   "id": "8c2aed6d",
   "metadata": {},
   "outputs": [],
   "source": [
    "# random_forest = RandomForestClassifier()\n",
    "# random_forest.fit(X_train, y_train)\n",
    "# y_train_pred_rf = random_forest.predict(X_train)\n",
    "# y_test_pred_rf = random_forest.predict(X_test)"
   ]
  },
  {
   "cell_type": "markdown",
   "id": "477378f8",
   "metadata": {},
   "source": [
    "# Model Evaluation"
   ]
  },
  {
   "cell_type": "code",
   "execution_count": null,
   "id": "3300005c",
   "metadata": {},
   "outputs": [],
   "source": [
    "from sklearn import metrics\n",
    "print(\"Classification report - Train\")\n",
    "print(classification_report(y_train, y_train_pred_log))\n",
    "print(\"Classification report - Test\")\n",
    "print(classification_report(y_test, y_test_pred_log))\n",
    "print(\" \")\n",
    "print(\"Classification report - Test\")\n",
    "print(confusion_matrix(y_train, y_train_pred_log))\n",
    "print(\"Confusion Matrix - Test\")\n",
    "print(confusion_matrix(y_test, y_test_pred_log))\n",
    "print(\" \")\n",
    "print(\"Train Accuracy: \",format(metrics.accuracy_score(y_train, y_train_pred_log), '.4f'))\n",
    "# print(\"Train Precision: \",format(metrics.precision_score(y_train, y_train_pred_log, average='micro'), '.4f'))\n",
    "# print(\"Train Recall:\",format(metrics.recall_score(y_train, y_train_pred_log,average='micro'), '.4f'))\n",
    "# print(\" \")\n",
    "print(\"Test Accuracy:\",format(metrics.accuracy_score(y_test, y_test_pred_log), '.4f'))\n",
    "# print(\"Test Precision:\",format(metrics.precision_score(y_test, y_test_pred_log,average='micro'), '.4f'))\n",
    "# print(\"Test Recall:\",format(metrics.recall_score(y_test, y_test_pred_log,average='micro'), '.4f'))\n",
    "\n",
    "print(\"\")\n"
   ]
  },
  {
   "cell_type": "code",
   "execution_count": null,
   "id": "4fdd9931",
   "metadata": {},
   "outputs": [],
   "source": [
    "# from sklearn import metrics\n",
    "# print(\"Classification report - Train\")\n",
    "# print(classification_report(y_train, y_train_pred_rf))\n",
    "# print(\"Classification report - Test\")\n",
    "# print(classification_report(y_test, y_test_pred_rf))\n",
    "# print(\" \")\n",
    "# print(\"Classification report - Test\")\n",
    "# print(confusion_matrix(y_train, y_train_pred_rf))\n",
    "# print(\"Confusion Matrix - Test\")\n",
    "# print(confusion_matrix(y_test, y_test_pred_rf))\n",
    "# print(\" \")\n",
    "# print(\"Train Accuracy: \",format(metrics.accuracy_score(y_train, y_train_pred_rf), '.4f'))\n",
    "# # print(\"Train Precision: \",format(metrics.precision_score(y_train, y_train_pred_log, average='micro'), '.4f'))\n",
    "# # print(\"Train Recall:\",format(metrics.recall_score(y_train, y_train_pred_log,average='micro'), '.4f'))\n",
    "# # print(\" \")\n",
    "# print(\"Test Accuracy:\",format(metrics.accuracy_score(y_test, y_test_pred_rf), '.4f'))\n",
    "# # print(\"Test Precision:\",format(metrics.precision_score(y_test, y_test_pred_log,average='micro'), '.4f'))\n",
    "# # print(\"Test Recall:\",format(metrics.recall_score(y_test, y_test_pred_log,average='micro'), '.4f'))\n",
    "\n",
    "# print(\"\")\n"
   ]
  }
 ],
 "metadata": {
  "kernelspec": {
   "display_name": "Python 3 (ipykernel)",
   "language": "python",
   "name": "python3"
  },
  "language_info": {
   "codemirror_mode": {
    "name": "ipython",
    "version": 3
   },
   "file_extension": ".py",
   "mimetype": "text/x-python",
   "name": "python",
   "nbconvert_exporter": "python",
   "pygments_lexer": "ipython3",
   "version": "3.11.5"
  }
 },
 "nbformat": 4,
 "nbformat_minor": 5
}
