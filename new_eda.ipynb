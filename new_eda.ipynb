{
 "cells": [
  {
   "cell_type": "code",
   "execution_count": 1,
   "id": "a2ea04a8",
   "metadata": {},
   "outputs": [],
   "source": [
    "from sklearn.model_selection import train_test_split\n",
    "from sklearn.linear_model import LogisticRegression\n",
    "from sklearn.ensemble import RandomForestClassifier\n",
    "from sklearn.metrics import confusion_matrix\n",
    "from sklearn.metrics import classification_report\n",
    "import numpy as np\n",
    "import pandas as pd\n",
    "import yaml\n",
    "import ast"
   ]
  },
  {
   "cell_type": "code",
   "execution_count": 2,
   "id": "cae6a79e",
   "metadata": {},
   "outputs": [],
   "source": [
    "%run ./src/database.py\n",
    "%run ./src/util.py\n",
    "%run ./src/data_preprocessing.py\n",
    "%run ./src/feature_engineering.py\n",
    "%run ./src/visualisation.py\n",
    "%run ./src/model_build.py"
   ]
  },
  {
   "cell_type": "code",
   "execution_count": 3,
   "id": "18d550f5",
   "metadata": {},
   "outputs": [],
   "source": [
    "YAML_FILEPATHNAME = \"./config.yaml\"\n",
    "PRE_CRUISE_DB = 0\n",
    "POST_CRUISE_DB = 1\n",
    "IS_NOTEBOOK = True"
   ]
  },
  {
   "cell_type": "markdown",
   "id": "bd7be908",
   "metadata": {},
   "source": [
    "# Read yaml config and data"
   ]
  },
  {
   "cell_type": "code",
   "execution_count": 4,
   "id": "9c49f404",
   "metadata": {},
   "outputs": [],
   "source": [
    "# Read YAML file\n",
    "yaml_data = read_yaml(YAML_FILEPATHNAME)\n",
    "DISPLAY_STUB = yaml_data['display_stub']\n",
    "DATA_PATH = yaml_data['data_path']\n",
    "TEST_SIZE = yaml_data['test_size']\n",
    "RANDOM_STATE = yaml_data['random_state']\n",
    "TARGET_VARIABLE = yaml_data['target_variable']\n",
    "DB_INFO = yaml_data['databases']\n",
    "COMPOSITE_FIELD_INFO = yaml_data['composite_fields_to_split']\n",
    "ID_FIELDS = ast.literal_eval(yaml_data['ID_columns'])\n",
    "DATETIME_FIELD_INFO = yaml_data['convert_obj_datetime']\n",
    "NUMERIC_FIELD_INFO = yaml_data['convert_obj_numeric']\n",
    "MISSING_VAL_THRESHOLD =  yaml_data['pct_missing_threshold']\n",
    "CONTINUOUS_VARIABLE = ast.literal_eval(yaml_data['continuous_variables'])\n",
    "DIRTY_DATA_INFO = yaml_data['dirty_data_setting']\n",
    "VALID_DATA_INFO = yaml_data['valid_data_setting']\n",
    "NON_NUMERIC_COL = yaml_data['non_numeric_cols']\n",
    "DATE_YYYY_INFO = yaml_data['convert_date_yyyy']"
   ]
  },
  {
   "cell_type": "code",
   "execution_count": 5,
   "id": "a7145d81",
   "metadata": {},
   "outputs": [],
   "source": [
    "# Read Pre_cruise data\n",
    "df_pre_cruise = db_read(DATA_PATH, DB_INFO[PRE_CRUISE_DB])"
   ]
  },
  {
   "cell_type": "code",
   "execution_count": 6,
   "id": "36ae8754",
   "metadata": {},
   "outputs": [],
   "source": [
    "# Read Post_cruise data\n",
    "df_post_cruise = db_read(DATA_PATH, DB_INFO[POST_CRUISE_DB])"
   ]
  },
  {
   "cell_type": "markdown",
   "id": "75a38112",
   "metadata": {},
   "source": [
    "# Preprocessing"
   ]
  },
  {
   "cell_type": "code",
   "execution_count": 7,
   "id": "a019ce5e",
   "metadata": {},
   "outputs": [],
   "source": [
    "# Merge Pre_cruise and Post_cruise to form df_cruise with Index as the key\n",
    "df_cruise = db_merge_db (df_pre_cruise, df_post_cruise)"
   ]
  },
  {
   "cell_type": "code",
   "execution_count": 8,
   "id": "bcceff2b",
   "metadata": {},
   "outputs": [],
   "source": [
    "dp = DataProcessing(df_cruise, DISPLAY_STUB)"
   ]
  },
  {
   "cell_type": "code",
   "execution_count": 9,
   "id": "4e9185dc",
   "metadata": {},
   "outputs": [],
   "source": [
    "# Replace all np.nan to None\n",
    "dp.replace_nan_none()"
   ]
  },
  {
   "cell_type": "code",
   "execution_count": 10,
   "id": "87af409d",
   "metadata": {},
   "outputs": [],
   "source": [
    "# Split composite field\n",
    "dp.split_composite_field(COMPOSITE_FIELD_INFO)"
   ]
  },
  {
   "cell_type": "code",
   "execution_count": 11,
   "id": "b34e1617",
   "metadata": {},
   "outputs": [],
   "source": [
    "# Remove IDs columns as in general they will have no predictive power\n",
    "dp.rm_id_cols(ID_FIELDS)"
   ]
  },
  {
   "cell_type": "code",
   "execution_count": 12,
   "id": "5508517d",
   "metadata": {},
   "outputs": [],
   "source": [
    "# Column pruning due to high missing values.\n",
    "dp.rm_cols_high_missing(MISSING_VAL_THRESHOLD)"
   ]
  },
  {
   "cell_type": "code",
   "execution_count": 13,
   "id": "8229eaa0",
   "metadata": {},
   "outputs": [],
   "source": [
    "# Convert fields from Object to Datetime\n",
    "dp.obj_to_datetime(DATETIME_FIELD_INFO)"
   ]
  },
  {
   "cell_type": "code",
   "execution_count": 14,
   "id": "ca423aee",
   "metadata": {},
   "outputs": [],
   "source": [
    "# Convert fields from Object to Numeric \n",
    "dp.numeric_conversion(NUMERIC_FIELD_INFO)"
   ]
  },
  {
   "cell_type": "code",
   "execution_count": 15,
   "id": "fadb00d4",
   "metadata": {},
   "outputs": [],
   "source": [
    "# Remove of rows from Target Variable \n",
    "dp.rm_rows_target_var(TARGET_VARIABLE)"
   ]
  },
  {
   "cell_type": "code",
   "execution_count": 16,
   "id": "9a1a27a4",
   "metadata": {},
   "outputs": [],
   "source": [
    "# Removal of rows from Continuous variable which has missing value \n",
    "dp.remove_missing(CONTINUOUS_VARIABLE)"
   ]
  },
  {
   "cell_type": "code",
   "execution_count": 17,
   "id": "5c0b6f4b",
   "metadata": {
    "scrolled": false
   },
   "outputs": [],
   "source": [
    "# Dirty Data Cleansing\n",
    "dp.dirty_data_processing(DIRTY_DATA_INFO)"
   ]
  },
  {
   "cell_type": "code",
   "execution_count": 18,
   "id": "c2c893f1",
   "metadata": {
    "scrolled": false
   },
   "outputs": [],
   "source": [
    "# Restriction of Column vales\n",
    "dp.valid_data_processing(VALID_DATA_INFO)"
   ]
  },
  {
   "cell_type": "code",
   "execution_count": 19,
   "id": "3a99832b",
   "metadata": {},
   "outputs": [],
   "source": [
    "# Label encode non-numeric categorical columns to get numeric values\n",
    "dp.label_encoder(NON_NUMERIC_COL)"
   ]
  },
  {
   "cell_type": "code",
   "execution_count": 20,
   "id": "1ed7150e",
   "metadata": {},
   "outputs": [],
   "source": [
    "# Derive year from date column to enhance model efficiency, mitigate noise\n",
    "dp.yyyy_from_date(DATE_YYYY_INFO)"
   ]
  },
  {
   "cell_type": "markdown",
   "id": "94663609",
   "metadata": {},
   "source": [
    "# Feature Engineering"
   ]
  },
  {
   "cell_type": "code",
   "execution_count": 21,
   "id": "f46dc291",
   "metadata": {},
   "outputs": [],
   "source": [
    "fe = feature_engineering(dp.get_dataframe())"
   ]
  },
  {
   "cell_type": "code",
   "execution_count": 29,
   "id": "5e7c11cf",
   "metadata": {},
   "outputs": [
    {
     "data": {
      "text/html": [
       "<div>\n",
       "<style scoped>\n",
       "    .dataframe tbody tr th:only-of-type {\n",
       "        vertical-align: middle;\n",
       "    }\n",
       "\n",
       "    .dataframe tbody tr th {\n",
       "        vertical-align: top;\n",
       "    }\n",
       "\n",
       "    .dataframe thead th {\n",
       "        text-align: right;\n",
       "    }\n",
       "</style>\n",
       "<table border=\"1\" class=\"dataframe\">\n",
       "  <thead>\n",
       "    <tr style=\"text-align: right;\">\n",
       "      <th></th>\n",
       "      <th>Gender</th>\n",
       "      <th>Onboard Wifi Service</th>\n",
       "      <th>Embarkation/Disembarkation time convenient</th>\n",
       "      <th>Ease of Online booking</th>\n",
       "      <th>Gate location</th>\n",
       "      <th>Onboard Dining Service</th>\n",
       "      <th>Online Check-in</th>\n",
       "      <th>Cabin Comfort</th>\n",
       "      <th>Onboard Entertainment</th>\n",
       "      <th>Cabin service</th>\n",
       "      <th>...</th>\n",
       "      <th>Onboard Service</th>\n",
       "      <th>Cleanliness</th>\n",
       "      <th>Cruise Name</th>\n",
       "      <th>Ticket Type</th>\n",
       "      <th>Dining</th>\n",
       "      <th>Source</th>\n",
       "      <th>Traffic</th>\n",
       "      <th>Distance</th>\n",
       "      <th>Dist_Metrics</th>\n",
       "      <th>Age</th>\n",
       "    </tr>\n",
       "    <tr>\n",
       "      <th>index</th>\n",
       "      <th></th>\n",
       "      <th></th>\n",
       "      <th></th>\n",
       "      <th></th>\n",
       "      <th></th>\n",
       "      <th></th>\n",
       "      <th></th>\n",
       "      <th></th>\n",
       "      <th></th>\n",
       "      <th></th>\n",
       "      <th></th>\n",
       "      <th></th>\n",
       "      <th></th>\n",
       "      <th></th>\n",
       "      <th></th>\n",
       "      <th></th>\n",
       "      <th></th>\n",
       "      <th></th>\n",
       "      <th></th>\n",
       "      <th></th>\n",
       "      <th></th>\n",
       "    </tr>\n",
       "  </thead>\n",
       "  <tbody>\n",
       "    <tr>\n",
       "      <th>3</th>\n",
       "      <td>0</td>\n",
       "      <td>5</td>\n",
       "      <td>4.0</td>\n",
       "      <td>4.0</td>\n",
       "      <td>4.0</td>\n",
       "      <td>4</td>\n",
       "      <td>4.0</td>\n",
       "      <td>4.0</td>\n",
       "      <td>2</td>\n",
       "      <td>3.0</td>\n",
       "      <td>...</td>\n",
       "      <td>2.0</td>\n",
       "      <td>4.0</td>\n",
       "      <td>1</td>\n",
       "      <td>0</td>\n",
       "      <td>0</td>\n",
       "      <td>0</td>\n",
       "      <td>0</td>\n",
       "      <td>450.61632</td>\n",
       "      <td>0</td>\n",
       "      <td>53</td>\n",
       "    </tr>\n",
       "    <tr>\n",
       "      <th>4</th>\n",
       "      <td>1</td>\n",
       "      <td>4</td>\n",
       "      <td>4.0</td>\n",
       "      <td>2.0</td>\n",
       "      <td>3.0</td>\n",
       "      <td>3</td>\n",
       "      <td>2.0</td>\n",
       "      <td>3.0</td>\n",
       "      <td>3</td>\n",
       "      <td>3.0</td>\n",
       "      <td>...</td>\n",
       "      <td>2.0</td>\n",
       "      <td>3.0</td>\n",
       "      <td>1</td>\n",
       "      <td>2</td>\n",
       "      <td>1</td>\n",
       "      <td>0</td>\n",
       "      <td>0</td>\n",
       "      <td>1842.69888</td>\n",
       "      <td>1</td>\n",
       "      <td>63</td>\n",
       "    </tr>\n",
       "    <tr>\n",
       "      <th>6</th>\n",
       "      <td>1</td>\n",
       "      <td>4</td>\n",
       "      <td>5.0</td>\n",
       "      <td>3.0</td>\n",
       "      <td>3.0</td>\n",
       "      <td>5</td>\n",
       "      <td>3.0</td>\n",
       "      <td>4.0</td>\n",
       "      <td>5</td>\n",
       "      <td>3.0</td>\n",
       "      <td>...</td>\n",
       "      <td>4.0</td>\n",
       "      <td>4.0</td>\n",
       "      <td>1</td>\n",
       "      <td>2</td>\n",
       "      <td>1</td>\n",
       "      <td>0</td>\n",
       "      <td>1</td>\n",
       "      <td>976.871808</td>\n",
       "      <td>0</td>\n",
       "      <td>37</td>\n",
       "    </tr>\n",
       "    <tr>\n",
       "      <th>10</th>\n",
       "      <td>1</td>\n",
       "      <td>0</td>\n",
       "      <td>3.0</td>\n",
       "      <td>3.0</td>\n",
       "      <td>1.0</td>\n",
       "      <td>1</td>\n",
       "      <td>2.0</td>\n",
       "      <td>3.0</td>\n",
       "      <td>1</td>\n",
       "      <td>3.0</td>\n",
       "      <td>...</td>\n",
       "      <td>1.0</td>\n",
       "      <td>5.0</td>\n",
       "      <td>1</td>\n",
       "      <td>2</td>\n",
       "      <td>0</td>\n",
       "      <td>0</td>\n",
       "      <td>1</td>\n",
       "      <td>955.950336</td>\n",
       "      <td>0</td>\n",
       "      <td>15</td>\n",
       "    </tr>\n",
       "    <tr>\n",
       "      <th>11</th>\n",
       "      <td>2</td>\n",
       "      <td>3</td>\n",
       "      <td>5.0</td>\n",
       "      <td>1.0</td>\n",
       "      <td>3.0</td>\n",
       "      <td>3</td>\n",
       "      <td>1.0</td>\n",
       "      <td>1.0</td>\n",
       "      <td>2</td>\n",
       "      <td>3.0</td>\n",
       "      <td>...</td>\n",
       "      <td>4.0</td>\n",
       "      <td>1.0</td>\n",
       "      <td>2</td>\n",
       "      <td>2</td>\n",
       "      <td>0</td>\n",
       "      <td>0</td>\n",
       "      <td>0</td>\n",
       "      <td>1290.693888</td>\n",
       "      <td>0</td>\n",
       "      <td>34</td>\n",
       "    </tr>\n",
       "    <tr>\n",
       "      <th>...</th>\n",
       "      <td>...</td>\n",
       "      <td>...</td>\n",
       "      <td>...</td>\n",
       "      <td>...</td>\n",
       "      <td>...</td>\n",
       "      <td>...</td>\n",
       "      <td>...</td>\n",
       "      <td>...</td>\n",
       "      <td>...</td>\n",
       "      <td>...</td>\n",
       "      <td>...</td>\n",
       "      <td>...</td>\n",
       "      <td>...</td>\n",
       "      <td>...</td>\n",
       "      <td>...</td>\n",
       "      <td>...</td>\n",
       "      <td>...</td>\n",
       "      <td>...</td>\n",
       "      <td>...</td>\n",
       "      <td>...</td>\n",
       "      <td>...</td>\n",
       "    </tr>\n",
       "    <tr>\n",
       "      <th>133731</th>\n",
       "      <td>1</td>\n",
       "      <td>5</td>\n",
       "      <td>5.0</td>\n",
       "      <td>4.0</td>\n",
       "      <td>5.0</td>\n",
       "      <td>3</td>\n",
       "      <td>4.0</td>\n",
       "      <td>3.0</td>\n",
       "      <td>3</td>\n",
       "      <td>5.0</td>\n",
       "      <td>...</td>\n",
       "      <td>4.0</td>\n",
       "      <td>3.0</td>\n",
       "      <td>1</td>\n",
       "      <td>0</td>\n",
       "      <td>0</td>\n",
       "      <td>0</td>\n",
       "      <td>0</td>\n",
       "      <td>1506.345984</td>\n",
       "      <td>0</td>\n",
       "      <td>65</td>\n",
       "    </tr>\n",
       "    <tr>\n",
       "      <th>133734</th>\n",
       "      <td>0</td>\n",
       "      <td>0</td>\n",
       "      <td>1.0</td>\n",
       "      <td>1.0</td>\n",
       "      <td>1.0</td>\n",
       "      <td>3</td>\n",
       "      <td>4.0</td>\n",
       "      <td>4.0</td>\n",
       "      <td>2</td>\n",
       "      <td>2.0</td>\n",
       "      <td>...</td>\n",
       "      <td>2.0</td>\n",
       "      <td>2.0</td>\n",
       "      <td>2</td>\n",
       "      <td>1</td>\n",
       "      <td>1</td>\n",
       "      <td>0</td>\n",
       "      <td>1</td>\n",
       "      <td>3057.7536</td>\n",
       "      <td>0</td>\n",
       "      <td>44</td>\n",
       "    </tr>\n",
       "    <tr>\n",
       "      <th>133739</th>\n",
       "      <td>0</td>\n",
       "      <td>2</td>\n",
       "      <td>5.0</td>\n",
       "      <td>2.0</td>\n",
       "      <td>1.0</td>\n",
       "      <td>2</td>\n",
       "      <td>4.0</td>\n",
       "      <td>5.0</td>\n",
       "      <td>5</td>\n",
       "      <td>4.0</td>\n",
       "      <td>...</td>\n",
       "      <td>4.0</td>\n",
       "      <td>4.0</td>\n",
       "      <td>0</td>\n",
       "      <td>2</td>\n",
       "      <td>0</td>\n",
       "      <td>0</td>\n",
       "      <td>0</td>\n",
       "      <td>4372.587648</td>\n",
       "      <td>0</td>\n",
       "      <td>61</td>\n",
       "    </tr>\n",
       "    <tr>\n",
       "      <th>133743</th>\n",
       "      <td>1</td>\n",
       "      <td>1</td>\n",
       "      <td>5.0</td>\n",
       "      <td>5.0</td>\n",
       "      <td>5.0</td>\n",
       "      <td>1</td>\n",
       "      <td>5.0</td>\n",
       "      <td>5.0</td>\n",
       "      <td>1</td>\n",
       "      <td>4.0</td>\n",
       "      <td>...</td>\n",
       "      <td>4.0</td>\n",
       "      <td>5.0</td>\n",
       "      <td>0</td>\n",
       "      <td>1</td>\n",
       "      <td>0</td>\n",
       "      <td>0</td>\n",
       "      <td>1</td>\n",
       "      <td>3133.392768</td>\n",
       "      <td>0</td>\n",
       "      <td>11</td>\n",
       "    </tr>\n",
       "    <tr>\n",
       "      <th>133745</th>\n",
       "      <td>1</td>\n",
       "      <td>2</td>\n",
       "      <td>3.0</td>\n",
       "      <td>3.0</td>\n",
       "      <td>1.0</td>\n",
       "      <td>2</td>\n",
       "      <td>3.0</td>\n",
       "      <td>2.0</td>\n",
       "      <td>1</td>\n",
       "      <td>2.0</td>\n",
       "      <td>...</td>\n",
       "      <td>1.0</td>\n",
       "      <td>5.0</td>\n",
       "      <td>1</td>\n",
       "      <td>2</td>\n",
       "      <td>0</td>\n",
       "      <td>0</td>\n",
       "      <td>0</td>\n",
       "      <td>128.74752</td>\n",
       "      <td>0</td>\n",
       "      <td>27</td>\n",
       "    </tr>\n",
       "  </tbody>\n",
       "</table>\n",
       "<p>82634 rows × 22 columns</p>\n",
       "</div>"
      ],
      "text/plain": [
       "        Gender  Onboard Wifi Service  \\\n",
       "index                                  \n",
       "3            0                     5   \n",
       "4            1                     4   \n",
       "6            1                     4   \n",
       "10           1                     0   \n",
       "11           2                     3   \n",
       "...        ...                   ...   \n",
       "133731       1                     5   \n",
       "133734       0                     0   \n",
       "133739       0                     2   \n",
       "133743       1                     1   \n",
       "133745       1                     2   \n",
       "\n",
       "        Embarkation/Disembarkation time convenient  Ease of Online booking  \\\n",
       "index                                                                        \n",
       "3                                              4.0                     4.0   \n",
       "4                                              4.0                     2.0   \n",
       "6                                              5.0                     3.0   \n",
       "10                                             3.0                     3.0   \n",
       "11                                             5.0                     1.0   \n",
       "...                                            ...                     ...   \n",
       "133731                                         5.0                     4.0   \n",
       "133734                                         1.0                     1.0   \n",
       "133739                                         5.0                     2.0   \n",
       "133743                                         5.0                     5.0   \n",
       "133745                                         3.0                     3.0   \n",
       "\n",
       "        Gate location  Onboard Dining Service  Online Check-in  Cabin Comfort  \\\n",
       "index                                                                           \n",
       "3                 4.0                       4              4.0            4.0   \n",
       "4                 3.0                       3              2.0            3.0   \n",
       "6                 3.0                       5              3.0            4.0   \n",
       "10                1.0                       1              2.0            3.0   \n",
       "11                3.0                       3              1.0            1.0   \n",
       "...               ...                     ...              ...            ...   \n",
       "133731            5.0                       3              4.0            3.0   \n",
       "133734            1.0                       3              4.0            4.0   \n",
       "133739            1.0                       2              4.0            5.0   \n",
       "133743            5.0                       1              5.0            5.0   \n",
       "133745            1.0                       2              3.0            2.0   \n",
       "\n",
       "        Onboard Entertainment  Cabin service  ...  Onboard Service  \\\n",
       "index                                         ...                    \n",
       "3                           2            3.0  ...              2.0   \n",
       "4                           3            3.0  ...              2.0   \n",
       "6                           5            3.0  ...              4.0   \n",
       "10                          1            3.0  ...              1.0   \n",
       "11                          2            3.0  ...              4.0   \n",
       "...                       ...            ...  ...              ...   \n",
       "133731                      3            5.0  ...              4.0   \n",
       "133734                      2            2.0  ...              2.0   \n",
       "133739                      5            4.0  ...              4.0   \n",
       "133743                      1            4.0  ...              4.0   \n",
       "133745                      1            2.0  ...              1.0   \n",
       "\n",
       "        Cleanliness  Cruise Name  Ticket Type  Dining  Source  Traffic  \\\n",
       "index                                                                    \n",
       "3               4.0            1            0       0       0        0   \n",
       "4               3.0            1            2       1       0        0   \n",
       "6               4.0            1            2       1       0        1   \n",
       "10              5.0            1            2       0       0        1   \n",
       "11              1.0            2            2       0       0        0   \n",
       "...             ...          ...          ...     ...     ...      ...   \n",
       "133731          3.0            1            0       0       0        0   \n",
       "133734          2.0            2            1       1       0        1   \n",
       "133739          4.0            0            2       0       0        0   \n",
       "133743          5.0            0            1       0       0        1   \n",
       "133745          5.0            1            2       0       0        0   \n",
       "\n",
       "           Distance  Dist_Metrics  Age  \n",
       "index                                   \n",
       "3         450.61632             0   53  \n",
       "4        1842.69888             1   63  \n",
       "6        976.871808             0   37  \n",
       "10       955.950336             0   15  \n",
       "11      1290.693888             0   34  \n",
       "...             ...           ...  ...  \n",
       "133731  1506.345984             0   65  \n",
       "133734    3057.7536             0   44  \n",
       "133739  4372.587648             0   61  \n",
       "133743  3133.392768             0   11  \n",
       "133745    128.74752             0   27  \n",
       "\n",
       "[82634 rows x 22 columns]"
      ]
     },
     "execution_count": 29,
     "metadata": {},
     "output_type": "execute_result"
    }
   ],
   "source": [
    "dp.get_dataframe()"
   ]
  },
  {
   "cell_type": "code",
   "execution_count": 22,
   "id": "8d494c24",
   "metadata": {},
   "outputs": [],
   "source": [
    "# Standardise distance by converting Mile to KM\n",
    "fe.convert_miles_to_KM(\"Distance\")"
   ]
  },
  {
   "cell_type": "code",
   "execution_count": 23,
   "id": "0dc2ab00",
   "metadata": {},
   "outputs": [],
   "source": [
    "# Derive Age from Year of Birth and Year of Logging\n",
    "fe.calc_year_diff('Year of Logging', 'Year of Birth', 'Age')"
   ]
  },
  {
   "cell_type": "code",
   "execution_count": 24,
   "id": "01580603",
   "metadata": {},
   "outputs": [],
   "source": [
    "# Compute number of column\n",
    "# fe.denote_missing_col()"
   ]
  },
  {
   "cell_type": "markdown",
   "id": "cec43961",
   "metadata": {},
   "source": [
    "#### Gender"
   ]
  },
  {
   "cell_type": "code",
   "execution_count": 25,
   "id": "db7c5079",
   "metadata": {},
   "outputs": [],
   "source": [
    "# fe.impute_missing_value(impute_type=\"random\", col_list=['Gender'], none_val=2)"
   ]
  },
  {
   "cell_type": "code",
   "execution_count": 26,
   "id": "053b4b4b",
   "metadata": {},
   "outputs": [],
   "source": [
    "fe.impute_missing_value(impute_type=\"mean\")"
   ]
  },
  {
   "cell_type": "markdown",
   "id": "13eff9bb",
   "metadata": {},
   "source": [
    "# Model Building"
   ]
  },
  {
   "cell_type": "code",
   "execution_count": 27,
   "id": "cc3b1697",
   "metadata": {},
   "outputs": [],
   "source": [
    "# lr = Logistic_Regression(fe.get_dataframe())\n",
    "# X, y = lr.prepare_data(TARGET_VARIABLE)\n",
    "# hyperparameter_dict = {\n",
    "#     'random_state': RANDOM_STATE,\n",
    "#     'max_iter': 10000\n",
    "# }\n",
    "\n",
    "# lr.model_processing(X, y, TEST_SIZE, RANDOM_STATE, hyperparameter_dict, IS_NOTEBOOK)"
   ]
  },
  {
   "cell_type": "code",
   "execution_count": 31,
   "id": "754f7e46",
   "metadata": {},
   "outputs": [],
   "source": [
    "output_csv(DATA_PATH, fe.get_dataframe(), \"df_temp\")"
   ]
  },
  {
   "cell_type": "code",
   "execution_count": 28,
   "id": "e9ed206e",
   "metadata": {},
   "outputs": [
    {
     "ename": "TypeError",
     "evalue": "       Gender  Onboard Wifi Service  \\\n0           1                     1   \n1           1                     1   \n2           1                     3   \n3           2                     5   \n4           2                     2   \n...       ...                   ...   \n94870       1                     0   \n94871       1                     1   \n94872       1                     0   \n94873       0                     0   \n94874       0                     3   \n\n       Embarkation/Disembarkation time convenient  Ease of Online booking  \\\n0                                        3.000000                 5.00000   \n1                                        3.000000                 5.00000   \n2                                        1.000000                 1.00000   \n3                                        3.000000                 4.00000   \n4                                        4.000000                 2.00000   \n...                                           ...                     ...   \n94870                                    5.000000                 2.78026   \n94871                                    1.218130                 1.21813   \n94872                                    2.000000                 2.00000   \n94873                                    4.780803                 2.00000   \n94874                                    1.000000                 1.00000   \n\n       Gate location  Onboard Dining Service  Online Check-in  Cabin Comfort  \\\n0           2.000000                       5         5.000000       3.000000   \n1           1.000000                       0         5.000000       2.000000   \n2           1.000000                       0         4.000000       3.000000   \n3           3.000000                       0         4.000000       3.000000   \n4           3.000000                       5         4.000000       4.000000   \n...              ...                     ...              ...            ...   \n94870       3.560519                       2         2.000000       1.878962   \n94871       1.218130                       0         2.000000       2.000000   \n94872       2.850503                       3         2.000000       1.000000   \n94873       4.000000                       3         2.109599       1.000000   \n94874       3.279792                       5         1.000000       4.000000   \n\n       Onboard Entertainment  Cabin service  ...  Port Check-in Service  \\\n0                          5       3.000000  ...               4.000000   \n1                          0       3.000000  ...               2.000000   \n2                          2       4.000000  ...               5.000000   \n3                          0       5.000000  ...               3.000000   \n4                          2       2.000000  ...               4.000000   \n...                      ...            ...  ...                    ...   \n94870                      2       4.780260  ...               3.439481   \n94871                      0       1.000000  ...               4.563740   \n94872                      3       4.149497  ...               3.000000   \n94873                      3       1.109599  ...               1.219197   \n94874                      5       1.279792  ...               3.160623   \n\n       Onboard Service  Cleanliness  Cruise Name  Dining  Source  Traffic  \\\n0             4.000000     4.000000            0       0       1        3   \n1             2.000000     2.000000            0       0       1        3   \n2             4.000000     3.000000            0       0       0        1   \n3             4.000000     2.000000            1       1       0        0   \n4             2.000000     5.000000            1       1       0        1   \n...                ...          ...          ...     ...     ...      ...   \n94870         4.780260     3.439481            1       0       0        1   \n94871         2.109065     2.109065            0       0       0        0   \n94872         4.000000     1.000000            0       0       1        3   \n94873         3.219197     2.780803            1       0       0        0   \n94874         2.000000     4.000000            0       0       1        2   \n\n          Distance  Dist_Metrics  Age  \n0      1813.730688             0   27  \n1       984.918528             0   23  \n2       593.847936             0   52  \n3        450.61632             0   53  \n4      1369.551744             0   61  \n...            ...           ...  ...  \n94870   2207.66633             0   45  \n94871   951.122304             0   41  \n94872  1824.755505             0   20  \n94873   593.671554             0   31  \n94874  2095.174104             0   29  \n\n[94875 rows x 21 columns] is not an estimator instance.",
     "output_type": "error",
     "traceback": [
      "\u001b[1;31m---------------------------------------------------------------------------\u001b[0m",
      "\u001b[1;31mTypeError\u001b[0m                                 Traceback (most recent call last)",
      "Cell \u001b[1;32mIn[28], line 5\u001b[0m\n\u001b[0;32m      2\u001b[0m X, y \u001b[38;5;241m=\u001b[39m dtc\u001b[38;5;241m.\u001b[39mprepare_data(TARGET_VARIABLE)\n\u001b[0;32m      3\u001b[0m hyperparameter_dict \u001b[38;5;241m=\u001b[39m {\n\u001b[0;32m      4\u001b[0m }\n\u001b[1;32m----> 5\u001b[0m dtc\u001b[38;5;241m.\u001b[39mmodel_processing(X, y, TEST_SIZE, RANDOM_STATE, hyperparameter_dict, IS_NOTEBOOK)\n",
      "File \u001b[1;32m~\\JupyterNotebook\\Machine-Learning-Development\\src\\model_build.py:81\u001b[0m, in \u001b[0;36mDecision_Tree.model_processing\u001b[1;34m(self, X, y, test_size, random_state, hyperparameters, is_notebook)\u001b[0m\n\u001b[0;32m     79\u001b[0m y_train \u001b[38;5;241m=\u001b[39m y_train_smote\n\u001b[0;32m     80\u001b[0m dtc\u001b[38;5;241m.\u001b[39mfit(X_train, y_train)\n\u001b[1;32m---> 81\u001b[0m dot_data \u001b[38;5;241m=\u001b[39m export_graphviz(X_train, out_file\u001b[38;5;241m=\u001b[39m\u001b[38;5;28;01mNone\u001b[39;00m, feature_names\u001b[38;5;241m=\u001b[39m\u001b[38;5;28mlist\u001b[39m(X_train\u001b[38;5;241m.\u001b[39mcolumns\u001b[38;5;241m.\u001b[39mvalues), \n\u001b[0;32m     82\u001b[0m                         class_names\u001b[38;5;241m=\u001b[39m[\u001b[38;5;241m0\u001b[39m, \u001b[38;5;241m1\u001b[39m, \u001b[38;5;241m2\u001b[39m], rounded\u001b[38;5;241m=\u001b[39m\u001b[38;5;28;01mTrue\u001b[39;00m, filled\u001b[38;5;241m=\u001b[39m\u001b[38;5;28;01mTrue\u001b[39;00m)\n\u001b[0;32m     83\u001b[0m y_train_pred \u001b[38;5;241m=\u001b[39m dtc\u001b[38;5;241m.\u001b[39mpredict(X_train)\n\u001b[0;32m     84\u001b[0m y_test_pred \u001b[38;5;241m=\u001b[39m dtc\u001b[38;5;241m.\u001b[39mpredict(X_test)\n",
      "File \u001b[1;32m~\\anaconda3\\Lib\\site-packages\\sklearn\\tree\\_export.py:859\u001b[0m, in \u001b[0;36mexport_graphviz\u001b[1;34m(decision_tree, out_file, max_depth, feature_names, class_names, label, filled, leaves_parallel, impurity, node_ids, proportion, rotate, rounded, special_characters, precision, fontname)\u001b[0m\n\u001b[0;32m    740\u001b[0m \u001b[38;5;28;01mdef\u001b[39;00m \u001b[38;5;21mexport_graphviz\u001b[39m(\n\u001b[0;32m    741\u001b[0m     decision_tree,\n\u001b[0;32m    742\u001b[0m     out_file\u001b[38;5;241m=\u001b[39m\u001b[38;5;28;01mNone\u001b[39;00m,\n\u001b[1;32m   (...)\u001b[0m\n\u001b[0;32m    757\u001b[0m     fontname\u001b[38;5;241m=\u001b[39m\u001b[38;5;124m\"\u001b[39m\u001b[38;5;124mhelvetica\u001b[39m\u001b[38;5;124m\"\u001b[39m,\n\u001b[0;32m    758\u001b[0m ):\n\u001b[0;32m    759\u001b[0m \u001b[38;5;250m    \u001b[39m\u001b[38;5;124;03m\"\"\"Export a decision tree in DOT format.\u001b[39;00m\n\u001b[0;32m    760\u001b[0m \n\u001b[0;32m    761\u001b[0m \u001b[38;5;124;03m    This function generates a GraphViz representation of the decision tree,\u001b[39;00m\n\u001b[1;32m   (...)\u001b[0m\n\u001b[0;32m    856\u001b[0m \u001b[38;5;124;03m    'digraph Tree {...\u001b[39;00m\n\u001b[0;32m    857\u001b[0m \u001b[38;5;124;03m    \"\"\"\u001b[39;00m\n\u001b[1;32m--> 859\u001b[0m     check_is_fitted(decision_tree)\n\u001b[0;32m    860\u001b[0m     own_file \u001b[38;5;241m=\u001b[39m \u001b[38;5;28;01mFalse\u001b[39;00m\n\u001b[0;32m    861\u001b[0m     return_string \u001b[38;5;241m=\u001b[39m \u001b[38;5;28;01mFalse\u001b[39;00m\n",
      "File \u001b[1;32m~\\anaconda3\\Lib\\site-packages\\sklearn\\utils\\validation.py:1376\u001b[0m, in \u001b[0;36mcheck_is_fitted\u001b[1;34m(estimator, attributes, msg, all_or_any)\u001b[0m\n\u001b[0;32m   1370\u001b[0m     msg \u001b[38;5;241m=\u001b[39m (\n\u001b[0;32m   1371\u001b[0m         \u001b[38;5;124m\"\u001b[39m\u001b[38;5;124mThis \u001b[39m\u001b[38;5;132;01m%(name)s\u001b[39;00m\u001b[38;5;124m instance is not fitted yet. Call \u001b[39m\u001b[38;5;124m'\u001b[39m\u001b[38;5;124mfit\u001b[39m\u001b[38;5;124m'\u001b[39m\u001b[38;5;124m with \u001b[39m\u001b[38;5;124m\"\u001b[39m\n\u001b[0;32m   1372\u001b[0m         \u001b[38;5;124m\"\u001b[39m\u001b[38;5;124mappropriate arguments before using this estimator.\u001b[39m\u001b[38;5;124m\"\u001b[39m\n\u001b[0;32m   1373\u001b[0m     )\n\u001b[0;32m   1375\u001b[0m \u001b[38;5;28;01mif\u001b[39;00m \u001b[38;5;129;01mnot\u001b[39;00m \u001b[38;5;28mhasattr\u001b[39m(estimator, \u001b[38;5;124m\"\u001b[39m\u001b[38;5;124mfit\u001b[39m\u001b[38;5;124m\"\u001b[39m):\n\u001b[1;32m-> 1376\u001b[0m     \u001b[38;5;28;01mraise\u001b[39;00m \u001b[38;5;167;01mTypeError\u001b[39;00m(\u001b[38;5;124m\"\u001b[39m\u001b[38;5;132;01m%s\u001b[39;00m\u001b[38;5;124m is not an estimator instance.\u001b[39m\u001b[38;5;124m\"\u001b[39m \u001b[38;5;241m%\u001b[39m (estimator))\n\u001b[0;32m   1378\u001b[0m \u001b[38;5;28;01mif\u001b[39;00m attributes \u001b[38;5;129;01mis\u001b[39;00m \u001b[38;5;129;01mnot\u001b[39;00m \u001b[38;5;28;01mNone\u001b[39;00m:\n\u001b[0;32m   1379\u001b[0m     \u001b[38;5;28;01mif\u001b[39;00m \u001b[38;5;129;01mnot\u001b[39;00m \u001b[38;5;28misinstance\u001b[39m(attributes, (\u001b[38;5;28mlist\u001b[39m, \u001b[38;5;28mtuple\u001b[39m)):\n",
      "\u001b[1;31mTypeError\u001b[0m:        Gender  Onboard Wifi Service  \\\n0           1                     1   \n1           1                     1   \n2           1                     3   \n3           2                     5   \n4           2                     2   \n...       ...                   ...   \n94870       1                     0   \n94871       1                     1   \n94872       1                     0   \n94873       0                     0   \n94874       0                     3   \n\n       Embarkation/Disembarkation time convenient  Ease of Online booking  \\\n0                                        3.000000                 5.00000   \n1                                        3.000000                 5.00000   \n2                                        1.000000                 1.00000   \n3                                        3.000000                 4.00000   \n4                                        4.000000                 2.00000   \n...                                           ...                     ...   \n94870                                    5.000000                 2.78026   \n94871                                    1.218130                 1.21813   \n94872                                    2.000000                 2.00000   \n94873                                    4.780803                 2.00000   \n94874                                    1.000000                 1.00000   \n\n       Gate location  Onboard Dining Service  Online Check-in  Cabin Comfort  \\\n0           2.000000                       5         5.000000       3.000000   \n1           1.000000                       0         5.000000       2.000000   \n2           1.000000                       0         4.000000       3.000000   \n3           3.000000                       0         4.000000       3.000000   \n4           3.000000                       5         4.000000       4.000000   \n...              ...                     ...              ...            ...   \n94870       3.560519                       2         2.000000       1.878962   \n94871       1.218130                       0         2.000000       2.000000   \n94872       2.850503                       3         2.000000       1.000000   \n94873       4.000000                       3         2.109599       1.000000   \n94874       3.279792                       5         1.000000       4.000000   \n\n       Onboard Entertainment  Cabin service  ...  Port Check-in Service  \\\n0                          5       3.000000  ...               4.000000   \n1                          0       3.000000  ...               2.000000   \n2                          2       4.000000  ...               5.000000   \n3                          0       5.000000  ...               3.000000   \n4                          2       2.000000  ...               4.000000   \n...                      ...            ...  ...                    ...   \n94870                      2       4.780260  ...               3.439481   \n94871                      0       1.000000  ...               4.563740   \n94872                      3       4.149497  ...               3.000000   \n94873                      3       1.109599  ...               1.219197   \n94874                      5       1.279792  ...               3.160623   \n\n       Onboard Service  Cleanliness  Cruise Name  Dining  Source  Traffic  \\\n0             4.000000     4.000000            0       0       1        3   \n1             2.000000     2.000000            0       0       1        3   \n2             4.000000     3.000000            0       0       0        1   \n3             4.000000     2.000000            1       1       0        0   \n4             2.000000     5.000000            1       1       0        1   \n...                ...          ...          ...     ...     ...      ...   \n94870         4.780260     3.439481            1       0       0        1   \n94871         2.109065     2.109065            0       0       0        0   \n94872         4.000000     1.000000            0       0       1        3   \n94873         3.219197     2.780803            1       0       0        0   \n94874         2.000000     4.000000            0       0       1        2   \n\n          Distance  Dist_Metrics  Age  \n0      1813.730688             0   27  \n1       984.918528             0   23  \n2       593.847936             0   52  \n3        450.61632             0   53  \n4      1369.551744             0   61  \n...            ...           ...  ...  \n94870   2207.66633             0   45  \n94871   951.122304             0   41  \n94872  1824.755505             0   20  \n94873   593.671554             0   31  \n94874  2095.174104             0   29  \n\n[94875 rows x 21 columns] is not an estimator instance."
     ]
    }
   ],
   "source": [
    "dtc = Decision_Tree(fe.get_dataframe())\n",
    "X, y = dtc.prepare_data(TARGET_VARIABLE)\n",
    "hyperparameter_dict = {\n",
    "}\n",
    "dtc.model_processing(X, y, TEST_SIZE, RANDOM_STATE, hyperparameter_dict, IS_NOTEBOOK)"
   ]
  },
  {
   "cell_type": "code",
   "execution_count": null,
   "id": "884df4da",
   "metadata": {},
   "outputs": [],
   "source": [
    "\n",
    "# columns = X_train.columns\n",
    "# os_data_X,os_data_y=os.fit_resample(X_train, y_train)\n",
    "# os_data_X = pd.DataFrame(data=os_data_X,columns=columns )\n",
    "# os_data_y= pd.DataFrame(data=os_data_y,columns=['y'])\n"
   ]
  },
  {
   "cell_type": "code",
   "execution_count": null,
   "id": "659e569b",
   "metadata": {
    "scrolled": false
   },
   "outputs": [],
   "source": []
  },
  {
   "cell_type": "markdown",
   "id": "477378f8",
   "metadata": {},
   "source": [
    "# Model Evaluation"
   ]
  },
  {
   "cell_type": "code",
   "execution_count": null,
   "id": "0c21863a",
   "metadata": {},
   "outputs": [],
   "source": []
  }
 ],
 "metadata": {
  "kernelspec": {
   "display_name": "Python 3 (ipykernel)",
   "language": "python",
   "name": "python3"
  },
  "language_info": {
   "codemirror_mode": {
    "name": "ipython",
    "version": 3
   },
   "file_extension": ".py",
   "mimetype": "text/x-python",
   "name": "python",
   "nbconvert_exporter": "python",
   "pygments_lexer": "ipython3",
   "version": "3.11.5"
  }
 },
 "nbformat": 4,
 "nbformat_minor": 5
}
