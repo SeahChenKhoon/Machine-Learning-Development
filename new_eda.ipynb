{
 "cells": [
  {
   "cell_type": "code",
   "execution_count": 1,
   "id": "a2ea04a8",
   "metadata": {},
   "outputs": [],
   "source": [
    "from sklearn.model_selection import train_test_split\n",
    "from sklearn.linear_model import LogisticRegression\n",
    "from sklearn.ensemble import RandomForestClassifier\n",
    "from sklearn.metrics import confusion_matrix\n",
    "from sklearn.metrics import classification_report\n",
    "import numpy as np\n",
    "import pandas as pd\n",
    "import yaml\n",
    "import ast"
   ]
  },
  {
   "cell_type": "code",
   "execution_count": 2,
   "id": "cae6a79e",
   "metadata": {},
   "outputs": [],
   "source": [
    "%run ./src/database.py\n",
    "%run ./src/util.py\n",
    "%run ./src/data_preprocessing.py\n",
    "%run ./src/feature_engineering.py\n",
    "%run ./src/visualisation.py"
   ]
  },
  {
   "cell_type": "code",
   "execution_count": 3,
   "id": "18d550f5",
   "metadata": {},
   "outputs": [],
   "source": [
    "YAML_FILEPATHNAME = \"./config.yaml\"\n",
    "PRE_CRUISE_DB = 0\n",
    "POST_CRUISE_DB = 1"
   ]
  },
  {
   "cell_type": "markdown",
   "id": "bd7be908",
   "metadata": {},
   "source": [
    "# Read yaml config and data"
   ]
  },
  {
   "cell_type": "code",
   "execution_count": 4,
   "id": "9c49f404",
   "metadata": {},
   "outputs": [],
   "source": [
    "# Read YAML file\n",
    "yaml_data = read_yaml(YAML_FILEPATHNAME)\n",
    "DISPLAY_STUB = yaml_data['display_stub']\n",
    "DATA_PATH = yaml_data['data_path']\n",
    "TEST_SIZE = yaml_data['test_size']\n",
    "RANDOM_STATE = yaml_data['random_state']\n",
    "TARGET_VARIABLE = yaml_data['target_variable']\n",
    "DB_INFO = yaml_data['databases']\n",
    "COMPOSITE_FIELD_INFO = yaml_data['composite_fields_to_split']\n",
    "ID_FIELDS = ast.literal_eval(yaml_data['ID_columns'])\n",
    "DATETIME_FIELD_INFO = yaml_data['convert_obj_datetime']\n",
    "NUMERIC_FIELD_INFO = yaml_data['convert_obj_numeric']\n",
    "MISSING_VAL_THRESHOLD =  yaml_data['pct_missing_threshold']\n",
    "CONTINUOUS_VARIABLE = ast.literal_eval(yaml_data['continuous_variables'])\n",
    "DIRTY_DATA_INFO = yaml_data['dirty_data_setting']\n",
    "VALID_DATA_INFO = yaml_data['valid_data_setting']\n",
    "NON_NUMERIC_COL = yaml_data['non_numeric_cols']\n",
    "DATE_YYYY_INFO = yaml_data['convert_date_yyyy']"
   ]
  },
  {
   "cell_type": "code",
   "execution_count": 5,
   "id": "a7145d81",
   "metadata": {},
   "outputs": [],
   "source": [
    "# Read Pre_cruise data\n",
    "df_pre_cruise = db_read(DATA_PATH, DB_INFO[PRE_CRUISE_DB])"
   ]
  },
  {
   "cell_type": "code",
   "execution_count": 6,
   "id": "36ae8754",
   "metadata": {},
   "outputs": [],
   "source": [
    "# Read Post_cruise data\n",
    "df_post_cruise = db_read(DATA_PATH, DB_INFO[POST_CRUISE_DB])"
   ]
  },
  {
   "cell_type": "markdown",
   "id": "75a38112",
   "metadata": {},
   "source": [
    "# Preprocessing"
   ]
  },
  {
   "cell_type": "code",
   "execution_count": 7,
   "id": "a019ce5e",
   "metadata": {},
   "outputs": [],
   "source": [
    "# Merge Pre_cruise and Post_cruise to form df_cruise with Index as the key\n",
    "df_cruise = db_merge_db (df_pre_cruise, df_post_cruise)"
   ]
  },
  {
   "cell_type": "code",
   "execution_count": 8,
   "id": "c5b1ea73",
   "metadata": {},
   "outputs": [],
   "source": [
    "dp = DataProcessing(df_cruise, DISPLAY_STUB)"
   ]
  },
  {
   "cell_type": "code",
   "execution_count": 9,
   "id": "4e9185dc",
   "metadata": {},
   "outputs": [],
   "source": [
    "# Replace all np.nan to None\n",
    "dp.replace_nan_none()"
   ]
  },
  {
   "cell_type": "code",
   "execution_count": 10,
   "id": "87af409d",
   "metadata": {},
   "outputs": [],
   "source": [
    "# Split composite field\n",
    "dp.split_composite_field(COMPOSITE_FIELD_INFO)"
   ]
  },
  {
   "cell_type": "code",
   "execution_count": 11,
   "id": "b34e1617",
   "metadata": {},
   "outputs": [],
   "source": [
    "# Remove IDs columns as in general they will have no predictive power\n",
    "dp.rm_id_cols(ID_FIELDS)"
   ]
  },
  {
   "cell_type": "code",
   "execution_count": 12,
   "id": "5508517d",
   "metadata": {},
   "outputs": [],
   "source": [
    "# Column pruning due to high missing values.\n",
    "dp.rm_cols_high_missing(MISSING_VAL_THRESHOLD)"
   ]
  },
  {
   "cell_type": "code",
   "execution_count": 13,
   "id": "8229eaa0",
   "metadata": {},
   "outputs": [],
   "source": [
    "# Convert fields from Object to Datetime\n",
    "dp.obj_to_datetime(DATETIME_FIELD_INFO)"
   ]
  },
  {
   "cell_type": "code",
   "execution_count": 14,
   "id": "1688a198",
   "metadata": {},
   "outputs": [
    {
     "name": "stdout",
     "output_type": "stream",
     "text": [
      "hello i am here\n"
     ]
    }
   ],
   "source": [
    "# Convert fields from Object to Numeric \n",
    "dp.numeric_conversion(NUMERIC_FIELD_INFO)"
   ]
  },
  {
   "cell_type": "code",
   "execution_count": 15,
   "id": "fadb00d4",
   "metadata": {},
   "outputs": [],
   "source": [
    "# Remove of rows from Target Variable \n",
    "dp.rm_rows_target_var(TARGET_VARIABLE)"
   ]
  },
  {
   "cell_type": "code",
   "execution_count": 16,
   "id": "9a1a27a4",
   "metadata": {},
   "outputs": [],
   "source": [
    "# Removal of rows from Continuous variable which has missing value \n",
    "dp.remove_missing(CONTINUOUS_VARIABLE)"
   ]
  },
  {
   "cell_type": "code",
   "execution_count": 17,
   "id": "5c0b6f4b",
   "metadata": {
    "scrolled": false
   },
   "outputs": [],
   "source": [
    "# Dirty Data Cleansing\n",
    "dp.dirty_data_processing(DIRTY_DATA_INFO)"
   ]
  },
  {
   "cell_type": "code",
   "execution_count": 18,
   "id": "c2c893f1",
   "metadata": {
    "scrolled": false
   },
   "outputs": [],
   "source": [
    "# Restriction of Column vales\n",
    "dp.valid_data_processing(VALID_DATA_INFO)"
   ]
  },
  {
   "cell_type": "code",
   "execution_count": 19,
   "id": "3a99832b",
   "metadata": {},
   "outputs": [],
   "source": [
    "# Label encode non-numeric categorical columns to get numeric values\n",
    "dp.label_encoder(NON_NUMERIC_COL)"
   ]
  },
  {
   "cell_type": "code",
   "execution_count": 20,
   "id": "1ed7150e",
   "metadata": {},
   "outputs": [],
   "source": [
    "# Derive year from date column to enhance model efficiency, mitigate noise\n",
    "dp.yyyy_from_date(DATE_YYYY_INFO)"
   ]
  },
  {
   "cell_type": "code",
   "execution_count": 21,
   "id": "f2cd11d4",
   "metadata": {},
   "outputs": [],
   "source": [
    "# Get Dataframe\n",
    "df_cruise = dp.get_dataframe()"
   ]
  },
  {
   "cell_type": "markdown",
   "id": "94663609",
   "metadata": {},
   "source": [
    "# Feature Engineering"
   ]
  },
  {
   "cell_type": "code",
   "execution_count": 22,
   "id": "84deea0e",
   "metadata": {},
   "outputs": [
    {
     "name": "stdout",
     "output_type": "stream",
     "text": [
      "<class 'pandas.core.frame.DataFrame'>\n",
      "Index: 82634 entries, 3 to 133745\n",
      "Data columns (total 23 columns):\n",
      " #   Column                                      Non-Null Count  Dtype  \n",
      "---  ------                                      --------------  -----  \n",
      " 0   Gender                                      82634 non-null  int32  \n",
      " 1   Onboard Wifi Service                        82634 non-null  int32  \n",
      " 2   Embarkation/Disembarkation time convenient  69338 non-null  object \n",
      " 3   Ease of Online booking                      68164 non-null  object \n",
      " 4   Gate location                               71979 non-null  object \n",
      " 5   Onboard Dining Service                      82634 non-null  int32  \n",
      " 6   Online Check-in                             71227 non-null  object \n",
      " 7   Cabin Comfort                               70096 non-null  object \n",
      " 8   Onboard Entertainment                       82634 non-null  int32  \n",
      " 9   Cabin service                               74097 non-null  object \n",
      " 10  Baggage handling                            70018 non-null  object \n",
      " 11  Port Check-in Service                       73780 non-null  object \n",
      " 12  Onboard Service                             71249 non-null  object \n",
      " 13  Cleanliness                                 71285 non-null  object \n",
      " 14  Cruise Name                                 82634 non-null  int32  \n",
      " 15  Ticket Type                                 82634 non-null  int32  \n",
      " 16  Dining                                      82634 non-null  int64  \n",
      " 17  Source                                      82634 non-null  int32  \n",
      " 18  Traffic                                     82634 non-null  int32  \n",
      " 19  Distance                                    82634 non-null  Float64\n",
      " 20  Dist_Metrics                                82634 non-null  int32  \n",
      " 21  Year of Birth                               82634 non-null  int32  \n",
      " 22  Year of Logging                             82634 non-null  int32  \n",
      "dtypes: Float64(1), int32(11), int64(1), object(10)\n",
      "memory usage: 11.7+ MB\n"
     ]
    }
   ],
   "source": [
    "df_cruise.info()"
   ]
  },
  {
   "cell_type": "code",
   "execution_count": 23,
   "id": "5ac88f8c",
   "metadata": {},
   "outputs": [],
   "source": [
    "fe = feature_engineering(df_cruise)"
   ]
  },
  {
   "cell_type": "code",
   "execution_count": 24,
   "id": "8d494c24",
   "metadata": {},
   "outputs": [],
   "source": [
    "# Standardise distance by converting Mile to KM\n",
    "fe.convert_miles_to_KM(\"Distance\")"
   ]
  },
  {
   "cell_type": "code",
   "execution_count": 25,
   "id": "0dc2ab00",
   "metadata": {},
   "outputs": [],
   "source": [
    "# Derive Age from Year of Birth and Year of Logging\n",
    "fe.calc_year_diff('Year of Logging', 'Year of Birth', 'Age')"
   ]
  },
  {
   "cell_type": "code",
   "execution_count": 26,
   "id": "01580603",
   "metadata": {},
   "outputs": [
    {
     "name": "stdout",
     "output_type": "stream",
     "text": [
      "['Embarkation/Disembarkation time convenient_missing', 'Ease of Online booking_missing', 'Gate location_missing', 'Online Check-in_missing', 'Cabin Comfort_missing', 'Cabin service_missing', 'Baggage handling_missing', 'Port Check-in Service_missing', 'Onboard Service_missing', 'Cleanliness_missing']\n"
     ]
    }
   ],
   "source": [
    "# Compute number of column\n",
    "fe.denote_missing_col()"
   ]
  },
  {
   "cell_type": "markdown",
   "id": "cec43961",
   "metadata": {},
   "source": [
    "#### Gender"
   ]
  },
  {
   "cell_type": "code",
   "execution_count": 27,
   "id": "db7c5079",
   "metadata": {},
   "outputs": [],
   "source": [
    "fe.impute_missing_value(impute_type=\"random\", col_list=['Gender'], none_val=2)"
   ]
  },
  {
   "cell_type": "code",
   "execution_count": 29,
   "id": "053b4b4b",
   "metadata": {},
   "outputs": [],
   "source": [
    "fe.impute_missing_value(impute_type=\"mean\")"
   ]
  },
  {
   "cell_type": "markdown",
   "id": "13eff9bb",
   "metadata": {},
   "source": [
    "# Model Building"
   ]
  },
  {
   "cell_type": "code",
   "execution_count": 31,
   "id": "f391d0d5",
   "metadata": {},
   "outputs": [],
   "source": [
    "X = df_cruise.drop([TARGET_VARIABLE],axis=1)\n",
    "y = df_cruise[TARGET_VARIABLE]"
   ]
  },
  {
   "cell_type": "code",
   "execution_count": 32,
   "id": "e2749322",
   "metadata": {},
   "outputs": [
    {
     "data": {
      "image/png": "[encoded data removed]",
      "text/plain": [
       "<Figure size 400x400 with 1 Axes>"
      ]
     },
     "metadata": {},
     "output_type": "display_data"
    }
   ],
   "source": [
    "y = pd.DataFrame(y)\n",
    "vs_pieplot(y, TARGET_VARIABLE)"
   ]
  },
  {
   "cell_type": "code",
   "execution_count": 33,
   "id": "52ca4b59",
   "metadata": {},
   "outputs": [],
   "source": [
    "# Perform SMOTE\n",
    "X, y = fe.SMOTE(X, y, RANDOM_STATE)"
   ]
  },
  {
   "cell_type": "code",
   "execution_count": 34,
   "id": "05d92c9f",
   "metadata": {},
   "outputs": [
    {
     "data": {
      "image/png": "[encoded data removed]",
      "text/plain": [
       "<Figure size 400x400 with 1 Axes>"
      ]
     },
     "metadata": {},
     "output_type": "display_data"
    }
   ],
   "source": [
    "y = pd.DataFrame(y)\n",
    "vs_pieplot(y, TARGET_VARIABLE)"
   ]
  },
  {
   "cell_type": "code",
   "execution_count": 35,
   "id": "6312df15",
   "metadata": {},
   "outputs": [],
   "source": [
    "X_train, X_test, y_train, y_test = train_test_split(X, y, test_size=TEST_SIZE , random_state=RANDOM_STATE)\n",
    "y_train = y_train.values.ravel()"
   ]
  },
  {
   "cell_type": "code",
   "execution_count": 36,
   "id": "3b174500",
   "metadata": {},
   "outputs": [],
   "source": [
    "log_regression = LogisticRegression(random_state=RANDOM_STATE, max_iter=10000)\n",
    "log_regression.fit(X_train, y_train)\n",
    "y_train_pred_log = log_regression.predict(X_train)\n",
    "y_test_pred_log = log_regression.predict(X_test)"
   ]
  },
  {
   "cell_type": "code",
   "execution_count": 38,
   "id": "8c2aed6d",
   "metadata": {},
   "outputs": [],
   "source": [
    "# random_forest = RandomForestClassifier()\n",
    "# random_forest.fit(X_train, y_train)\n",
    "# y_train_pred_rf = random_forest.predict(X_train)\n",
    "# y_test_pred_rf = random_forest.predict(X_test)"
   ]
  },
  {
   "cell_type": "markdown",
   "id": "477378f8",
   "metadata": {},
   "source": [
    "# Model Evaluation"
   ]
  },
  {
   "cell_type": "code",
   "execution_count": 37,
   "id": "bb59a3b5",
   "metadata": {},
   "outputs": [
    {
     "name": "stdout",
     "output_type": "stream",
     "text": [
      "Classification report - Train\n",
      "              precision    recall  f1-score   support\n",
      "\n",
      "           0       0.61      0.72      0.66     31600\n",
      "           1       0.73      0.68      0.70     31501\n",
      "           2       0.61      0.54      0.57     31624\n",
      "\n",
      "    accuracy                           0.64     94725\n",
      "   macro avg       0.65      0.64      0.64     94725\n",
      "weighted avg       0.65      0.64      0.64     94725\n",
      "\n",
      "Classification report - Test\n",
      "              precision    recall  f1-score   support\n",
      "\n",
      "           0       0.60      0.72      0.65      7869\n",
      "           1       0.73      0.66      0.70      7968\n",
      "           2       0.60      0.54      0.57      7845\n",
      "\n",
      "    accuracy                           0.64     23682\n",
      "   macro avg       0.64      0.64      0.64     23682\n",
      "weighted avg       0.64      0.64      0.64     23682\n",
      "\n",
      " \n",
      "Classification report - Test\n",
      "[[22612  3274  5714]\n",
      " [ 4851 21270  5380]\n",
      " [ 9771  4724 17129]]\n",
      "Confusion Matrix - Test\n",
      "[[5656  837 1376]\n",
      " [1235 5298 1435]\n",
      " [2514 1127 4204]]\n",
      " \n",
      "Train Accuracy:  0.6441\n",
      "Test Accuracy: 0.6401\n",
      "\n"
     ]
    }
   ],
   "source": [
    "from sklearn import metrics\n",
    "print(\"Classification report - Train\")\n",
    "print(classification_report(y_train, y_train_pred_log))\n",
    "print(\"Classification report - Test\")\n",
    "print(classification_report(y_test, y_test_pred_log))\n",
    "print(\" \")\n",
    "print(\"Classification report - Test\")\n",
    "print(confusion_matrix(y_train, y_train_pred_log))\n",
    "print(\"Confusion Matrix - Test\")\n",
    "print(confusion_matrix(y_test, y_test_pred_log))\n",
    "print(\" \")\n",
    "print(\"Train Accuracy: \",format(metrics.accuracy_score(y_train, y_train_pred_log), '.4f'))\n",
    "# print(\"Train Precision: \",format(metrics.precision_score(y_train, y_train_pred_log, average='micro'), '.4f'))\n",
    "# print(\"Train Recall:\",format(metrics.recall_score(y_train, y_train_pred_log,average='micro'), '.4f'))\n",
    "# print(\" \")\n",
    "print(\"Test Accuracy:\",format(metrics.accuracy_score(y_test, y_test_pred_log), '.4f'))\n",
    "# print(\"Test Precision:\",format(metrics.precision_score(y_test, y_test_pred_log,average='micro'), '.4f'))\n",
    "# print(\"Test Recall:\",format(metrics.recall_score(y_test, y_test_pred_log,average='micro'), '.4f'))\n",
    "\n",
    "print(\"\")\n"
   ]
  },
  {
   "cell_type": "code",
   "execution_count": 39,
   "id": "34f65d98",
   "metadata": {},
   "outputs": [
    {
     "name": "stdout",
     "output_type": "stream",
     "text": [
      "Classification report - Train\n",
      "              precision    recall  f1-score   support\n",
      "\n",
      "           0       1.00      1.00      1.00     31600\n",
      "           1       1.00      1.00      1.00     31501\n",
      "           2       1.00      1.00      1.00     31624\n",
      "\n",
      "    accuracy                           1.00     94725\n",
      "   macro avg       1.00      1.00      1.00     94725\n",
      "weighted avg       1.00      1.00      1.00     94725\n",
      "\n",
      "Classification report - Test\n",
      "              precision    recall  f1-score   support\n",
      "\n",
      "           0       0.93      0.85      0.89      7869\n",
      "           1       0.90      0.86      0.88      7968\n",
      "           2       0.76      0.86      0.81      7845\n",
      "\n",
      "    accuracy                           0.86     23682\n",
      "   macro avg       0.86      0.86      0.86     23682\n",
      "weighted avg       0.86      0.86      0.86     23682\n",
      "\n",
      " \n",
      "Classification report - Test\n",
      "[[31600     0     0]\n",
      " [    0 31501     0]\n",
      " [    0     0 31624]]\n",
      "Confusion Matrix - Test\n",
      "[[6693  154 1022]\n",
      " [  24 6832 1112]\n",
      " [ 446  645 6754]]\n",
      " \n",
      "Train Accuracy:  1.0000\n",
      "Test Accuracy: 0.8563\n",
      "\n"
     ]
    }
   ],
   "source": [
    "# from sklearn import metrics\n",
    "# print(\"Classification report - Train\")\n",
    "# print(classification_report(y_train, y_train_pred_rf))\n",
    "# print(\"Classification report - Test\")\n",
    "# print(classification_report(y_test, y_test_pred_rf))\n",
    "# print(\" \")\n",
    "# print(\"Classification report - Test\")\n",
    "# print(confusion_matrix(y_train, y_train_pred_rf))\n",
    "# print(\"Confusion Matrix - Test\")\n",
    "# print(confusion_matrix(y_test, y_test_pred_rf))\n",
    "# print(\" \")\n",
    "# print(\"Train Accuracy: \",format(metrics.accuracy_score(y_train, y_train_pred_rf), '.4f'))\n",
    "# # print(\"Train Precision: \",format(metrics.precision_score(y_train, y_train_pred_log, average='micro'), '.4f'))\n",
    "# # print(\"Train Recall:\",format(metrics.recall_score(y_train, y_train_pred_log,average='micro'), '.4f'))\n",
    "# # print(\" \")\n",
    "# print(\"Test Accuracy:\",format(metrics.accuracy_score(y_test, y_test_pred_rf), '.4f'))\n",
    "# # print(\"Test Precision:\",format(metrics.precision_score(y_test, y_test_pred_log,average='micro'), '.4f'))\n",
    "# # print(\"Test Recall:\",format(metrics.recall_score(y_test, y_test_pred_log,average='micro'), '.4f'))\n",
    "\n",
    "# print(\"\")\n"
   ]
  }
 ],
 "metadata": {
  "kernelspec": {
   "display_name": "Python 3 (ipykernel)",
   "language": "python",
   "name": "python3"
  },
  "language_info": {
   "codemirror_mode": {
    "name": "ipython",
    "version": 3
   },
   "file_extension": ".py",
   "mimetype": "text/x-python",
   "name": "python",
   "nbconvert_exporter": "python",
   "pygments_lexer": "ipython3",
   "version": "3.11.5"
  }
 },
 "nbformat": 4,
 "nbformat_minor": 5
}
