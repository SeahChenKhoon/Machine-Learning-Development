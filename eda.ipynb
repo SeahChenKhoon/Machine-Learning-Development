{
 "cells": [
  {
   "cell_type": "markdown",
   "id": "f281bc30",
   "metadata": {},
   "source": [
    "# Libraries 📖"
   ]
  },
  {
   "cell_type": "code",
   "execution_count": 1,
   "id": "4e56bd05",
   "metadata": {},
   "outputs": [],
   "source": [
    "import yaml"
   ]
  },
  {
   "cell_type": "code",
   "execution_count": null,
   "id": "e9d14722",
   "metadata": {},
   "outputs": [],
   "source": [
    "import matplotlib.pyplot as plt\n",
    "import seaborn as sns\n",
    "import numpy as np\n",
    "from sklearn.linear_model import LogisticRegression\n",
    "from sklearn.preprocessing import MinMaxScaler\n",
    "from sklearn.preprocessing import StandardScaler\n",
    "from sklearn.decomposition import PCA\n",
    "from sklearn.model_selection import train_test_split, cross_val_score\n"
   ]
  },
  {
   "cell_type": "code",
   "execution_count": null,
   "id": "f2964d2e",
   "metadata": {},
   "outputs": [],
   "source": [
    "%run ./src/data_preprocessing.py"
   ]
  },
  {
   "cell_type": "markdown",
   "id": "ad6e0203",
   "metadata": {},
   "source": [
    "# Load data 📁"
   ]
  },
  {
   "cell_type": "code",
   "execution_count": null,
   "id": "5d5b19e6",
   "metadata": {},
   "outputs": [],
   "source": [
    "with open('./config.yaml', 'r') as yaml_file:\n",
    "    config_data = yaml.safe_load(yaml_file)"
   ]
  },
  {
   "cell_type": "code",
   "execution_count": null,
   "id": "5755dd19",
   "metadata": {},
   "outputs": [],
   "source": [
    "dp = DataPreprocessing()\n",
    "dp.load_data(config_data['yaml_path'], config_data['databases'])\n",
    "cruise_data = dp.get_merged_data()"
   ]
  },
  {
   "cell_type": "code",
   "execution_count": null,
   "id": "4aaecf29",
   "metadata": {},
   "outputs": [],
   "source": [
    "TARGET_VARIABLE = config_data['target_variable']\n",
    "TEST_SIZE=0.25\n",
    "RANDOM_STATE=42"
   ]
  },
  {
   "cell_type": "markdown",
   "id": "2924e8bf",
   "metadata": {},
   "source": [
    "# Exploratory Data Analysis 📊"
   ]
  },
  {
   "cell_type": "markdown",
   "id": "79714cd8",
   "metadata": {},
   "source": [
    "### Exploratory on Overall Shape of Dataset"
   ]
  },
  {
   "cell_type": "code",
   "execution_count": null,
   "id": "8f76bb27",
   "metadata": {},
   "outputs": [],
   "source": [
    "cruise_data.shape"
   ]
  },
  {
   "cell_type": "markdown",
   "id": "2f99015a",
   "metadata": {},
   "source": [
    "<div style=\"border-radius: 10px; border: #0ea5e9 solid; padding: 15px; background-color: #ffffff00; font-size: 100%; text-align: left;\"> Observation 01:\n",
    "    <li>There are a relative big dataset of 401261 rows with 25 columns<ul>\n",
    "</div>\n"
   ]
  },
  {
   "cell_type": "code",
   "execution_count": null,
   "id": "2f16337d",
   "metadata": {},
   "outputs": [],
   "source": [
    "cruise_data.info()"
   ]
  },
  {
   "cell_type": "markdown",
   "id": "8dcd379b",
   "metadata": {},
   "source": [
    "<div style=\"border-radius: 10px; border: #0ea5e9 solid; padding: 15px; background-color: #ffffff00; font-size: 100%; text-align: left;\"> Observation 02:\n",
    "    <li>With reference to above and that of Observation 01 of 401261 rows, there are missing values in the following variables. These missing values needed to be imputed.\n",
    "        <ul>\n",
    "            <li>Gender</li>\n",
    "            <li>Date of Birth</li>\n",
    "            <li>Onboard Wifi Service</li>\n",
    "            <li>Embarkation/Disembarkation time convenient</li>\n",
    "            <li>Ease of Online booking</li>\n",
    "            <li>Gate location</li>\n",
    "            <li>Onboard Dining Service</li>\n",
    "            <li>Online Check-in</li>\n",
    "            <li>Cabin Comfort</li>\n",
    "            <li>Onboard Entertainment</li>\n",
    "            <li>Cabin service</li>\n",
    "            <li>Baggage handling</li>\n",
    "            <li>Port Check-in Service</li>\n",
    "            <li>Onboard Service</li>\n",
    "            <li>Cleanliness</li>\n",
    "            <li>Cruise Name</li>\n",
    "            <li>Ticket Type</li>\n",
    "            <li>Cruise Distance</li>\n",
    "            <li>WiFi</li>\n",
    "            <li>Entertainment</li>\n",
    "        </ul>\n",
    "    </li>\n",
    "</div>"
   ]
  },
  {
   "cell_type": "code",
   "execution_count": null,
   "id": "496983c9",
   "metadata": {},
   "outputs": [],
   "source": [
    "def print_missing_value(dataframe):\n",
    "    print('Column' +' '*(45 -len(\"Column\")) + \"Number (Percentage)\")\n",
    "    for column in dataframe.columns:\n",
    "        missing_values_count = dataframe[column].isnull().sum()\n",
    "        missing_value_percent = missing_values_count/dataframe.shape[0] * 100\n",
    "        if missing_values_count !=0:\n",
    "            print('{}'.format(column) +' '*(45 -len(column)) + \"{} ({:.2f}%)\".format(missing_values_count, missing_value_percent))    "
   ]
  },
  {
   "cell_type": "code",
   "execution_count": null,
   "id": "0be591bc",
   "metadata": {},
   "outputs": [],
   "source": [
    "# I like to know the percentage of missing data over the total number of rows\n",
    "print_missing_value(cruise_data)"
   ]
  },
  {
   "cell_type": "markdown",
   "id": "236111c5",
   "metadata": {},
   "source": [
    "<div style=\"border-radius: 10px; border: #0ea5e9 solid; padding: 15px; background-color: #ffffff00; font-size: 100%; text-align: left;\"> Observation 03:\n",
    "    <li>With reference to above\n",
    "        <ul>\n",
    "            <li>Most of the missing values ranging upon 10 above percent</li>\n",
    "            <li>There are 2 columns (WiFi and Entertainment) more than 40%, I will be removing them.</li>\n",
    "        </ul>\n",
    "    </li>\n",
    "</div>"
   ]
  },
  {
   "cell_type": "code",
   "execution_count": null,
   "id": "0b9017de",
   "metadata": {},
   "outputs": [],
   "source": [
    "# Removal of Wifi and Entertainment\n",
    "cruise_data = cruise_data.drop(['WiFi', 'Entertainment'], axis=1)"
   ]
  },
  {
   "cell_type": "code",
   "execution_count": null,
   "id": "f3391107",
   "metadata": {},
   "outputs": [],
   "source": [
    "# import util as utl\n",
    "# output_csv = utl.output_csv(\"./data/\", cruise_data,\"data.csv\")"
   ]
  },
  {
   "cell_type": "code",
   "execution_count": null,
   "id": "519464e7",
   "metadata": {},
   "outputs": [],
   "source": [
    "pd.set_option('display.max_columns', None)\n",
    "cruise_data.head(5)"
   ]
  },
  {
   "cell_type": "code",
   "execution_count": null,
   "id": "ba2b7deb",
   "metadata": {},
   "outputs": [],
   "source": [
    "cruise_data.tail(1000)"
   ]
  },
  {
   "cell_type": "markdown",
   "id": "07c5174d",
   "metadata": {},
   "source": [
    "<div style=\"border-radius: 10px; border: #0ea5e9 solid; padding: 15px; background-color: #ffffff00; font-size: 100%; text-align: left;\"> Observation 04: Different category of Data Variables\n",
    "    <li><b>Composite Value - Need to split up the Variable further</b><ul>\n",
    "            <li>Source of Traffic</li>\n",
    "            <li>Cruise Distance</li>        \n",
    "        </ul>\n",
    "    </li>\n",
    "    <li><b>Continuous Value</b><ul>\n",
    "            <li>Date of Birth</li>\n",
    "            <li>Logging</li>\n",
    "        </ul>\n",
    "    </li>\n",
    "    <li><b>Non-numeric Nominal Value</b><ul>\n",
    "            <li>Gender</li>\n",
    "            <li>Cruise Name</li>\n",
    "        </ul>\n",
    "    </li>\n",
    "    <li><b>Non-numeric Ordinal Value</b><ul>\n",
    "            <li>Company Website</li>\n",
    "            <li>Onboard Dining Service</li>\n",
    "            <li>Onboard Entertainment</li>\n",
    "            <li>Ticket Type</li>\n",
    "            <li>Ext_Intcode_x</li>        \n",
    "        </ul>\n",
    "    </li>\n",
    "    <li><b>Numeric Nominal Value</b><ul>\n",
    "            <li>Dining</li>\n",
    "        </ul>\n",
    "    </li>\n",
    "    <li><b>Numeric Ordinal Value</b><ul>\n",
    "            <li>Embarkation/Disembarkation time convenient</li>\n",
    "            <li>Gate location</li>\n",
    "            <li>Cabin Comfort</li>\n",
    "            <li>Cabin service</li>\n",
    "            <li>Baggage handling</li>\n",
    "            <li>Port Check-in Service</li>\n",
    "            <li>Onboard Service</li>\n",
    "            <li>Cleanliness</li>\n",
    "        </ul>\n",
    "    </li>\n",
    "</div>"
   ]
  },
  {
   "cell_type": "code",
   "execution_count": null,
   "id": "95a81d87",
   "metadata": {},
   "outputs": [],
   "source": [
    "# Split up composite field Source of Traffic into Category and Source\n",
    "# Remove Source of Traffic from dataset\n",
    "cruise_data[['Category', 'Source']] = cruise_data['Source of Traffic'].str.split(' - ', expand=True)\n",
    "cruise_data.drop('Source of Traffic', axis=1, inplace=True)"
   ]
  },
  {
   "cell_type": "code",
   "execution_count": null,
   "id": "53e83bf3",
   "metadata": {},
   "outputs": [],
   "source": [
    "# Split up composite field Source of Traffic into Category and Source\n",
    "# Remove Cruise Distance from dataset\n",
    "cruise_data[['Distance', 'Unit']] = cruise_data['Cruise Distance'].str.split(' ', expand=True)\n",
    "cruise_data.drop('Cruise Distance', axis=1, inplace=True)"
   ]
  },
  {
   "cell_type": "code",
   "execution_count": null,
   "id": "27477c7a",
   "metadata": {},
   "outputs": [],
   "source": [
    "# List these newly created for data classification\n",
    "cruise_data[['Category', 'Source','Distance', 'Unit']].info()"
   ]
  },
  {
   "cell_type": "code",
   "execution_count": null,
   "id": "026dbad8",
   "metadata": {},
   "outputs": [],
   "source": [
    "cruise_data[['Category', 'Source','Distance', 'Unit']].head()"
   ]
  },
  {
   "cell_type": "markdown",
   "id": "a7849349",
   "metadata": {},
   "source": [
    "<div style=\"border-radius: 10px; border: #0ea5e9 solid; padding: 15px; background-color: #ffffff00; font-size: 100%; text-align: left;\"> Observation 05: Update of category of Data Variables\n",
    "    <li><b>Continuous Value</b><ul>\n",
    "            <li>Date of Birth</li>\n",
    "            <li>Logging</li>\n",
    "            <li>Distance</li>\n",
    "        </ul>\n",
    "    </li>\n",
    "    <li><b>Non-numeric Nominal Value</b><ul>\n",
    "            <li>Gender</li>\n",
    "            <li>Cruise Name</li>\n",
    "            <li>Category</li>\n",
    "            <li>Source</li>\n",
    "            <li>Unit</li>\n",
    "        </ul>\n",
    "    </li>\n",
    "    <li><b>Non-numeric Ordinal Value</b><ul>\n",
    "            <li>Company Website</li>\n",
    "            <li>Onboard Dining Service</li>\n",
    "            <li>Onboard Entertainment</li>\n",
    "            <li>Ticket Type</li>\n",
    "            <li>Ext_Intcode_x</li>        \n",
    "        </ul>\n",
    "    </li>\n",
    "    <li><b>Numeric Nominal Value</b><ul>\n",
    "            <li>Dining</li>\n",
    "        </ul>\n",
    "    </li>\n",
    "    <li><b>Numeric Ordinal Value</b><ul>\n",
    "            <li>Embarkation/Disembarkation time convenient</li>\n",
    "            <li>Gate location</li>\n",
    "            <li>Cabin Comfort</li>\n",
    "            <li>Cabin service</li>\n",
    "            <li>Baggage handling</li>\n",
    "            <li>Port Check-in Service</li>\n",
    "            <li>Onboard Service</li>\n",
    "            <li>Cleanliness</li>\n",
    "        </ul>\n",
    "    </li>\n",
    "</div>"
   ]
  },
  {
   "cell_type": "code",
   "execution_count": null,
   "id": "bffba9c5",
   "metadata": {},
   "outputs": [],
   "source": [
    "cruise_data[\"Date of Birth\"].head(20)"
   ]
  },
  {
   "cell_type": "code",
   "execution_count": null,
   "id": "b55fcc80",
   "metadata": {},
   "outputs": [],
   "source": [
    "cruise_data['Formatted Date of Birth'].info()"
   ]
  },
  {
   "cell_type": "code",
   "execution_count": null,
   "id": "3abaad86",
   "metadata": {},
   "outputs": [],
   "source": [
    "# Create a new column call Formatted Date of Birth which convert Date of Birth to Date format\n",
    "cruise_data['Formatted Date of Birth'] = pd.to_datetime(cruise_data['Date of Birth'], format='%d/%m/%Y', errors=\"coerce\")\n",
    "# Display sample those records to verify the invalid rows in Date of Birth\n",
    "cruise_data[(cruise_data['Date of Birth'].notnull()) & (cruise_data['Formatted Date of Birth'].isnull())][['Formatted Date of Birth', 'Date of Birth']]"
   ]
  },
  {
   "cell_type": "code",
   "execution_count": null,
   "id": "ba4ad0d8",
   "metadata": {},
   "outputs": [],
   "source": [
    "df_formatted_dob = pd.DataFrame(cruise_data[\"Formatted Date of Birth\"])\n",
    "print_missing_value(df_formatted_dob)"
   ]
  },
  {
   "cell_type": "code",
   "execution_count": null,
   "id": "43bfb73f",
   "metadata": {},
   "outputs": [],
   "source": [
    "cruise_data[[\"Date of Birth\",\"Formatted Date of Birth\"]].info()"
   ]
  },
  {
   "cell_type": "markdown",
   "id": "b1b555d1",
   "metadata": {},
   "source": [
    "<div style=\"border-radius: 10px; border: #0ea5e9 solid; padding: 15px; background-color: #ffffff00; font-size: 100%; text-align: left;\"> Observation 06: Date of Birth\n",
    "    <li>From the above, we can see that all the invalid Date of Birth are those with YYYY-MM-DD and that the year of these dates are seems to be invalid.</li>\n",
    "    <li>Therefore I propose a removal of those rows with invalid or empty DOB because: <ul>\n",
    "        <li>Date of Birth is an important source which plays an important role in a person purchase habit. Without this data, the records will not be helpful in prediction. Any imputation will cause the prediction to be inaccurate.</li>\n",
    "        <li>The missing and invalid data contributes to 15% of the data</li>\n",
    "</div>"
   ]
  },
  {
   "cell_type": "code",
   "execution_count": null,
   "id": "1fd4c201",
   "metadata": {},
   "outputs": [],
   "source": [
    "# Remove Date of Birth with Formatted Date of Birth\n",
    "cruise_data[\"Date of Birth\"] = cruise_data[\"Formatted Date of Birth\"]\n",
    "cruise_data = cruise_data.drop(['Formatted Date of Birth'], axis=1)"
   ]
  },
  {
   "cell_type": "code",
   "execution_count": null,
   "id": "d9e16dd9",
   "metadata": {},
   "outputs": [],
   "source": [
    "cruise_data.info()"
   ]
  },
  {
   "cell_type": "markdown",
   "id": "13410da7",
   "metadata": {},
   "source": [
    "<div style=\"border-radius: 10px; border: #0ea5e9 solid; padding: 15px; background-color: #ffffff00; font-size: 100%; text-align: left;\"> Observation 07: Date of Birth\n",
    "    <li>Ensure that the Date of Birth is replaced successfully</li>\n",
    "    <li>Its datatype is of DateTime format</li>\n",
    "</div>"
   ]
  },
  {
   "cell_type": "code",
   "execution_count": null,
   "id": "19b12939",
   "metadata": {},
   "outputs": [],
   "source": [
    "import util as utl\n",
    "output_csv = utl.output_csv(\"./data/\", cruise_data,\"data.csv\")"
   ]
  },
  {
   "cell_type": "markdown",
   "id": "b0b4ff3f",
   "metadata": {},
   "source": [
    "## Data Profiling "
   ]
  },
  {
   "cell_type": "markdown",
   "id": "b13a02e1",
   "metadata": {},
   "source": [
    "#### This stage I would like to have an idea of combined dataset"
   ]
  },
  {
   "cell_type": "code",
   "execution_count": null,
   "id": "1b29789d",
   "metadata": {},
   "outputs": [],
   "source": [
    "# Get a rough idea on the number of rows for the dataframe\n",
    "dataframe.shape"
   ]
  },
  {
   "cell_type": "code",
   "execution_count": null,
   "id": "6e4857e4",
   "metadata": {},
   "outputs": [],
   "source": [
    "# Following are the first 5 rows of Pre_cruise as sample to ensure \n",
    "dataframe.head(5)"
   ]
  },
  {
   "cell_type": "code",
   "execution_count": null,
   "id": "20718853",
   "metadata": {},
   "outputs": [],
   "source": [
    "dataframe.info()"
   ]
  },
  {
   "cell_type": "code",
   "execution_count": null,
   "id": "82a1bd40",
   "metadata": {},
   "outputs": [],
   "source": [
    "dataframe.describe().T"
   ]
  },
  {
   "cell_type": "code",
   "execution_count": null,
   "id": "c582536b",
   "metadata": {},
   "outputs": [],
   "source": [
    "dataframe.isna().sum()"
   ]
  },
  {
   "cell_type": "markdown",
   "id": "ff908afc",
   "metadata": {},
   "source": [
    "#### From the above, I quickly inspecting the structure and content of a DataFrame\n",
    "#### Looking at the above huge missing data is my concern. Given that there are 133,746 records, with 20,293 missing data in Baggage handling that is 15.1%.\n",
    "#### WiFi & Entertainment contribute to 52% of missing data, I suggest not to use these columns during modelling\n",
    "#### I notice there are 2 Ext_Intcodes from each dataset. If they are the same then drop one.\n",
    "#### DOB is an object datatype rather than a datetime.\n",
    "#### Cruise Duration contain both KM and Miles which need to standardise urgently before proceeding into any visualisation which can cause inaccuracy."
   ]
  },
  {
   "cell_type": "markdown",
   "id": "908df50c",
   "metadata": {},
   "source": [
    "## Data Understanding"
   ]
  },
  {
   "cell_type": "code",
   "execution_count": null,
   "id": "35efe0ac",
   "metadata": {},
   "outputs": [],
   "source": [
    "def plot_hists_from_dataframe(dataframe: pd.core.frame.DataFrame, dependent_features: list):\n",
    "    \"\"\"\n",
    "        This function will produce a histogram of the each of the element found in the dependent_features that resides in\n",
    "        DataFrame. The significance of this function is to list out the count of every value in dependent_features. From the\n",
    "        the bar, we can lookout for dirty data and perform data cleansing.\n",
    " \n",
    "        Args:\n",
    "            dataframe (Dataframe): The dataframe which contain the column to be examined.\n",
    "            dependent_features (list): The column name to plot the histogram.\n",
    " \n",
    "        Returns:\n",
    "            NIL.\n",
    "    \"\"\"\n",
    "    for col_name in dependent_features:\n",
    "        value_counts = dataframe[col_name].value_counts()\n",
    "        plt.figure(figsize=(10, 5))\n",
    "        bars = plt.bar(value_counts.index, value_counts.values)\n",
    "        plt.title(f'Distribution of {col_name}')\n",
    "        plt.xlabel(col_name)\n",
    "        plt.ylabel('Count')\n",
    "        plt.xticks(rotation=90)  \n",
    "        for bar, count in zip(bars, value_counts.values):\n",
    "            plt.text(bar.get_x() + bar.get_width() / 2, count, str(count), ha='center', va='bottom')\n",
    "\n",
    "        plt.tight_layout()\n",
    "        plt.show()"
   ]
  },
  {
   "cell_type": "markdown",
   "id": "edece1ae",
   "metadata": {},
   "source": [
    "#### This stage, I like to see the dirty data that existed in each Categorical data and their count"
   ]
  },
  {
   "cell_type": "code",
   "execution_count": null,
   "id": "e415292c",
   "metadata": {
    "scrolled": false
   },
   "outputs": [],
   "source": [
    "# # Visualise a histogram on the every value in each feature in the list  \n",
    "# column_names = dataframe.columns.tolist()\n",
    "# # Omit IDs, working and continuous variables from the list \n",
    "# elements_to_remove = [\"Date of Birth\",\"Ext_Intcode\",\"Logging\",\"Distance in KM\",\"Ticket Type\",\"Age\"] \n",
    "# column_names = list(filter(lambda x: x not in elements_to_remove, column_names))\n",
    "# plot_hists_from_dataframe(dataframe, column_names)"
   ]
  },
  {
   "cell_type": "markdown",
   "id": "cb53a0e8",
   "metadata": {},
   "source": [
    "<div style=\"background-color: #f0f9ff; border-left: 6px solid #0ea5e9; font-size: 100%; padding: 10px;\">\n",
    "    <h3 style=\"color: #27374D; font-size: 18px; margin-top: 0; margin-bottom: 10px;\">📉  Observation: </h3>\n",
    "    <ul>\n",
    "        <li>Gender\n",
    "            <ul>\n",
    "                <li>non-numeric Binary variable. Need transform for Male to 1 and Female to 0.</li>\n",
    "                <li>Male is slightly more than Female, I prefer to use random so not to in create distortion.</li>\n",
    "                <li>If I impute to Male, because it is more than female, it distorts the distribution</li>\n",
    "            </ul>\n",
    "        </li>\n",
    "        <li>Date Of Birth\n",
    "            <ul>\n",
    "                <li>This field transforms to Age. Age is a numeric Continuous variable</li>\n",
    "                <li>For missing age, I use median.</li>\n",
    "                <li>I consider to use bin to categorise, as the older the passenger is, the better ticket typehe purchase</li>\n",
    "            </ul>\n",
    "        </li>\n",
    "        <li>Source of Traffic\n",
    "            <ul>\n",
    "                <li>non-numeric nominal variable - Need to use One Hot Key Encoder</li>\n",
    "                <li>No missing value.</li>\n",
    "            </ul>\n",
    "        </li>\n",
    "        <li>Onboard Wifi Service\n",
    "            <ul>\n",
    "                <li>This is an non-numeric ordinal variable. So need to use ordinal Encoder.</li>\n",
    "                <li>Since majority thought that Wifi is between \"A little impt\" and \"Somewhat impt\", if, I impute to mode, which is \"A little impt\", it should not distort the distribution much.</li>\n",
    "            </ul>\n",
    "        </li>\n",
    "        <li>Embarkation/Disembarkation time convenient\n",
    "            <ul>\n",
    "                <li>This is an numeric ordinal variable. No further action required.</li>                    \n",
    "                <li>Since slight higher trend towards is very important and extreme impt , I impute missing value with mode.</li>\n",
    "            </ul>\n",
    "        </li>       \n",
    "        <li>Ease of Online booking\n",
    "            <ul>\n",
    "                <li>This is an numeric ordinal variable. No further action required.</li>\n",
    "                <li>Since slight higher trend towards is a little impt and somewhat impt, I impute missing value with mode.</li>\n",
    "            </ul>\n",
    "        </li>\n",
    "        <li>Gate location\n",
    "            <ul>\n",
    "                <li>This is an numeric ordinal variable. No further action required.</li>\n",
    "                <li>Since slight higher trend towards is a somewhat impt and very impt, I impute missing value with mode.</li>\n",
    "            </ul>\n",
    "        </li>\n",
    "        <li>Onboard Dining Service\n",
    "            <ul>\n",
    "                <li>This is an non-numeric ordinal variable. So need to use ordinal Encoder.</li>\n",
    "                <li>Since slight higher trend towards is a Very impt and extremely impt, I impute missing value with mode.</li>\n",
    "            </ul>\n",
    "        </li> \n",
    "        <li>Online Check-in\n",
    "            <ul>\n",
    "                <li>This is an numeric ordinal variable. No further action required.</li>\n",
    "                <li>Since slight higher trend towards is a Very impt, I impute missing value with mode.</li>\n",
    "            </ul>\n",
    "        </li>\n",
    "        <li>Cabin Comfort\n",
    "            <ul>\n",
    "                <li>This is an numeric ordinal variable. No further action required.</li>\n",
    "                <li>Since slight higher trend towards is a Very impt, I impute missing value with mode.</li>\n",
    "            </ul>\n",
    "        </li>\n",
    "        <li>Onboard Entertainment\n",
    "            <ul>\n",
    "                <li>This is an non-numeric ordinal variable. So need to use ordinal Encoder.</li>\n",
    "                <li>Since slight higher trend towards is a Very impt and extremely impt, I impute missing value with mode.</li>\n",
    "            </ul>\n",
    "        </li>\n",
    "        <li>Cabin service\n",
    "            <ul>\n",
    "                <li>This is an numeric ordinal variable. No further action required.</li>\n",
    "                <li>Since slight higher trend towards is a Very impt and extremely impt, I impute missing value with mode.</li>\n",
    "            </ul>\n",
    "        </li>\n",
    "        <li>Baggage handling\n",
    "            <ul>\n",
    "                <li>This is an numeric ordinal variable. No further action required.</li>\n",
    "                <li>Since slight higher trend towards is a Very impt, I impute missing value with mode.</li>\n",
    "            </ul>\n",
    "        </li>\n",
    "        <li>Port Check-in Service\n",
    "            <ul>\n",
    "                <li>This is an numeric ordinal variable. No further action required.</li>\n",
    "                <li>Since slight higher trend towards is a somewhat impt and Very impt, I impute missing value with mode.</li>\n",
    "            </ul>\n",
    "        </li>\n",
    "        <li>Onboard Service\n",
    "            <ul>\n",
    "                <li>This is an numeric ordinal variable. No further action required.</li>\n",
    "                <li>Since slight higher trend towards is a Very impt and Extremely impt, I impute missing value with mode.</li>\n",
    "            </ul>\n",
    "        </li>\n",
    "        <li>Cleanliness\n",
    "            <ul>\n",
    "                <li>This is an numeric ordinal variable. No further action required.</li>\n",
    "                <li>Since slight higher trend towards is a Very impt and somewhat impt, I impute missing value with mode.</li>\n",
    "            </ul>\n",
    "        </li>\n",
    "        <li>Cruise Name\n",
    "            <ul>\n",
    "                <li>Group blast, blast0ise, blastoise under Blastoise</li>\n",
    "                <li>Group IAPRAS, lap, lapras under Lapras</li>\n",
    "                <li>All missing value group under Blastoise since most taking Blastoise</li>\n",
    "                <li>non-numeric Binary variable. Need transform for Blastoise to 1 and Lapras to 0.</li>\n",
    "            </ul>\n",
    "        </li>\n",
    "        <li>Ticket Type\n",
    "            <ul>\n",
    "                <li>Since this is the dependent variable, any missing value should be removed.</li>\n",
    "                <li>Need to use Label encoder since it is the Dependent variable</li>                    \n",
    "            </ul>\n",
    "        </li>\n",
    "        <li>WiFi, Entertainment\n",
    "            <ul>\n",
    "                <li>I like to exclude these features from modelling as there are too many missing values. </li>            \n",
    "            </ul>\n",
    "        </li>\n",
    "        <li>Cruise Distance\n",
    "            <ul>\n",
    "                <li>Standard to Distance in KM</li>\n",
    "                <li>Impute missing to Mean.\n",
    "                </li>\n",
    "            </ul>\n",
    "        </li>        \n",
    "</div>\n"
   ]
  },
  {
   "cell_type": "code",
   "execution_count": null,
   "id": "4f423905",
   "metadata": {},
   "outputs": [],
   "source": [
    "def plt_axis_name(x_column,y_column, dataframe):  \n",
    "    plt.title(f'Relationship between {x_column} and {y_column}')\n",
    "    plt.xlabel(x_column)\n",
    "    plt.ylabel(y_column)"
   ]
  },
  {
   "cell_type": "code",
   "execution_count": null,
   "id": "7a944322",
   "metadata": {},
   "outputs": [],
   "source": [
    "def volin_plot(x_column, y_column, dataframe):\n",
    "    plt.figure(figsize=(8, 6))     \n",
    "    sns.violinplot(x=x_column, y=y_column, data=dataframe)\n",
    "    plt_axis_name(x_column,y_column, dataframe)       \n",
    "    plt.show()"
   ]
  },
  {
   "cell_type": "code",
   "execution_count": null,
   "id": "4104387e",
   "metadata": {},
   "outputs": [],
   "source": [
    "def box_plot(x_column, y_column, dataframe):\n",
    "    plt.figure(figsize=(8, 6))\n",
    "    sns.boxplot(x=x_column, y=y_column, data=dataframe)\n",
    "    plt_axis_name(x_column,y_column, dataframe)\n",
    "    plt.show()"
   ]
  },
  {
   "cell_type": "code",
   "execution_count": null,
   "id": "9735c069",
   "metadata": {},
   "outputs": [],
   "source": [
    "volin_plot('Distance in KM','Ticket Type', dataframe)"
   ]
  },
  {
   "cell_type": "code",
   "execution_count": null,
   "id": "bb01f681",
   "metadata": {},
   "outputs": [],
   "source": []
  },
  {
   "cell_type": "markdown",
   "id": "23a1d024",
   "metadata": {},
   "source": [
    "#### From the above volin plot, I can gather that\n",
    "1. Less people travel using Luxury as compared to Standard and Deluxe.\n",
    "2. For longer distance, people choose Standard and Deluxe over Luxury. "
   ]
  },
  {
   "cell_type": "code",
   "execution_count": null,
   "id": "5b45931d",
   "metadata": {},
   "outputs": [],
   "source": [
    "box_plot('Age','Ticket Type', dataframe)"
   ]
  },
  {
   "cell_type": "markdown",
   "id": "5ac4d880",
   "metadata": {},
   "source": [
    "#### From the above boxplot, I can gather that\n",
    "1. As the older you are the more you can afford higher class. This can be seen by the mean of Luxury higher than Deluxe which is in turn higher than Standard. \n",
    "2. Some outliners in Luxury class"
   ]
  },
  {
   "cell_type": "code",
   "execution_count": null,
   "id": "9b563993",
   "metadata": {
    "scrolled": false
   },
   "outputs": [],
   "source": [
    "## Correlation table\n",
    "corr = round(dataframe.corr(numeric_only=True),3)\n",
    "mask = np.triu(np.ones_like(corr, dtype=bool))\n",
    "plt.figure(figsize=(20,10))\n",
    "sns.heatmap(corr, annot=True, cmap=\"coolwarm\", mask=mask, square=True)\n",
    "plt.title('Correlation Heatmap')\n",
    "plt.show()"
   ]
  },
  {
   "cell_type": "code",
   "execution_count": null,
   "id": "efe5e26e",
   "metadata": {},
   "outputs": [],
   "source": [
    "%run ./src/feature_engineering.py\n",
    "feature_engineering = FeatureEngineer(dataframe)\n",
    "dataframe = feature_engineering.fix_typo_error()\n",
    "dataframe = feature_engineering.drop_ID_cols()\n",
    "dataframe = feature_engineering.convert_features_to_numeric()\n",
    "dataframe = feature_engineering.process_impute_missing_data()"
   ]
  },
  {
   "cell_type": "code",
   "execution_count": null,
   "id": "8c86589f",
   "metadata": {},
   "outputs": [],
   "source": [
    "df_cruise.info()"
   ]
  },
  {
   "cell_type": "code",
   "execution_count": null,
   "id": "be3c686e",
   "metadata": {},
   "outputs": [],
   "source": []
  },
  {
   "cell_type": "code",
   "execution_count": null,
   "id": "2292e733",
   "metadata": {},
   "outputs": [],
   "source": []
  },
  {
   "cell_type": "code",
   "execution_count": null,
   "id": "fcbb31f4",
   "metadata": {},
   "outputs": [],
   "source": []
  },
  {
   "cell_type": "code",
   "execution_count": null,
   "id": "004b2d05",
   "metadata": {},
   "outputs": [],
   "source": [
    "# Define Class as Target Variable, and the rest as feature variable\n",
    "X = df_data.drop(\"class\", axis=1)     # everything except 'class' column\n",
    "y = df_data['class']\n",
    "\n",
    "# Define the train dataset as 70% and test dataset as 30%\n",
    "X_train, X_test, Y_train, Y_test = train_test_split(X, y, test_size=0.3, random_state = 1)\n",
    "\n",
    "# Confirm that the records returned for Train is about 70% and Test is about 30%\n",
    "print(f\"'X' shape: {X_train.shape}\")\n",
    "print(f\"'y' shape: {X_test.shape}\")"
   ]
  }
 ],
 "metadata": {
  "kernelspec": {
   "display_name": "Python 3 (ipykernel)",
   "language": "python",
   "name": "python3"
  },
  "language_info": {
   "codemirror_mode": {
    "name": "ipython",
    "version": 3
   },
   "file_extension": ".py",
   "mimetype": "text/x-python",
   "name": "python",
   "nbconvert_exporter": "python",
   "pygments_lexer": "ipython3",
   "version": "3.11.5"
  }
 },
 "nbformat": 4,
 "nbformat_minor": 5
}
