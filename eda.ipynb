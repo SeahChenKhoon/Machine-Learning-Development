{
 "cells": [
  {
   "cell_type": "markdown",
   "id": "f281bc30",
   "metadata": {},
   "source": [
    "# Libraries 📖"
   ]
  },
  {
   "cell_type": "code",
   "execution_count": 1,
   "id": "4e56bd05",
   "metadata": {},
   "outputs": [],
   "source": [
    "import pandas as pd\n",
    "import matplotlib.pyplot as plt\n",
    "import seaborn as sns"
   ]
  },
  {
   "cell_type": "markdown",
   "id": "ad6e0203",
   "metadata": {},
   "source": [
    "# Load data 📁"
   ]
  },
  {
   "cell_type": "code",
   "execution_count": 2,
   "id": "4aaecf29",
   "metadata": {},
   "outputs": [],
   "source": [
    "# Read data into dataframe\n",
    "%run ./src/data_preprocessing.py\n",
    "datapath = \"./data/\"\n",
    "read_data = ReadData(datapath)\n",
    "df_cruise = read_data.read_data()"
   ]
  },
  {
   "cell_type": "markdown",
   "id": "2924e8bf",
   "metadata": {},
   "source": [
    "# Exploratory Data Analysis 📊"
   ]
  },
  {
   "cell_type": "code",
   "execution_count": 3,
   "id": "53e83bf3",
   "metadata": {},
   "outputs": [
    {
     "name": "stderr",
     "output_type": "stream",
     "text": [
      "C:\\Users\\chenk\\JupyterNotebook\\Machine-Learning-Development\\src\\data_preprocessing.py:109: SettingWithCopyWarning: \n",
      "A value is trying to be set on a copy of a slice from a DataFrame.\n",
      "Try using .loc[row_indexer,col_indexer] = value instead\n",
      "\n",
      "See the caveats in the documentation: https://pandas.pydata.org/pandas-docs/stable/user_guide/indexing.html#returning-a-view-versus-a-copy\n",
      "  dataframe[[\"Distance in KM\", \"UOM\"]] = dataframe[\"Cruise Distance\"].str.split(pat=' ', n=1, expand=True)\n",
      "C:\\Users\\chenk\\JupyterNotebook\\Machine-Learning-Development\\src\\data_preprocessing.py:109: SettingWithCopyWarning: \n",
      "A value is trying to be set on a copy of a slice from a DataFrame.\n",
      "Try using .loc[row_indexer,col_indexer] = value instead\n",
      "\n",
      "See the caveats in the documentation: https://pandas.pydata.org/pandas-docs/stable/user_guide/indexing.html#returning-a-view-versus-a-copy\n",
      "  dataframe[[\"Distance in KM\", \"UOM\"]] = dataframe[\"Cruise Distance\"].str.split(pat=' ', n=1, expand=True)\n",
      "C:\\Users\\chenk\\JupyterNotebook\\Machine-Learning-Development\\src\\data_preprocessing.py:149: SettingWithCopyWarning: \n",
      "A value is trying to be set on a copy of a slice from a DataFrame.\n",
      "Try using .loc[row_indexer,col_indexer] = value instead\n",
      "\n",
      "See the caveats in the documentation: https://pandas.pydata.org/pandas-docs/stable/user_guide/indexing.html#returning-a-view-versus-a-copy\n",
      "  dataframe[feature] = pd.to_numeric(dataframe[feature], errors='coerce')\n",
      "C:\\Users\\chenk\\JupyterNotebook\\Machine-Learning-Development\\src\\data_preprocessing.py:162: SettingWithCopyWarning: \n",
      "A value is trying to be set on a copy of a slice from a DataFrame\n",
      "\n",
      "See the caveats in the documentation: https://pandas.pydata.org/pandas-docs/stable/user_guide/indexing.html#returning-a-view-versus-a-copy\n",
      "  dataframe.drop(col_name,axis=1,inplace=True)\n",
      "C:\\Users\\chenk\\JupyterNotebook\\Machine-Learning-Development\\src\\data_preprocessing.py:162: SettingWithCopyWarning: \n",
      "A value is trying to be set on a copy of a slice from a DataFrame\n",
      "\n",
      "See the caveats in the documentation: https://pandas.pydata.org/pandas-docs/stable/user_guide/indexing.html#returning-a-view-versus-a-copy\n",
      "  dataframe.drop(col_name,axis=1,inplace=True)\n",
      "C:\\Users\\chenk\\JupyterNotebook\\Machine-Learning-Development\\src\\data_preprocessing.py:94: SettingWithCopyWarning: \n",
      "A value is trying to be set on a copy of a slice from a DataFrame\n",
      "\n",
      "See the caveats in the documentation: https://pandas.pydata.org/pandas-docs/stable/user_guide/indexing.html#returning-a-view-versus-a-copy\n",
      "  dataframe.dropna(subset=[col_name], inplace=True)\n",
      "C:\\Users\\chenk\\JupyterNotebook\\Machine-Learning-Development\\src\\data_preprocessing.py:79: SettingWithCopyWarning: \n",
      "A value is trying to be set on a copy of a slice from a DataFrame.\n",
      "Try using .loc[row_indexer,col_indexer] = value instead\n",
      "\n",
      "See the caveats in the documentation: https://pandas.pydata.org/pandas-docs/stable/user_guide/indexing.html#returning-a-view-versus-a-copy\n",
      "  dataframe[\"Age\"] = current_year - dataframe[col_name].dt.year\n",
      "C:\\Users\\chenk\\JupyterNotebook\\Machine-Learning-Development\\src\\util.py:30: SettingWithCopyWarning: \n",
      "A value is trying to be set on a copy of a slice from a DataFrame\n",
      "\n",
      "See the caveats in the documentation: https://pandas.pydata.org/pandas-docs/stable/user_guide/indexing.html#returning-a-view-versus-a-copy\n",
      "  dataframe.drop(col_name, axis=1,inplace=True)\n"
     ]
    }
   ],
   "source": [
    "data_preprocessing = DataPreprocessing()\n",
    "df_cruise = data_preprocessing.process_data_preprocessing(df_cruise)"
   ]
  },
  {
   "cell_type": "markdown",
   "id": "b0b4ff3f",
   "metadata": {},
   "source": [
    "## Data Profiling "
   ]
  },
  {
   "cell_type": "markdown",
   "id": "b13a02e1",
   "metadata": {},
   "source": [
    "#### This stage I would like to have an idea of combined dataset"
   ]
  },
  {
   "cell_type": "code",
   "execution_count": 4,
   "id": "1b29789d",
   "metadata": {},
   "outputs": [
    {
     "data": {
      "text/plain": [
       "(102806, 24)"
      ]
     },
     "execution_count": 4,
     "metadata": {},
     "output_type": "execute_result"
    }
   ],
   "source": [
    "# Get a rough idea on the number of rows for the dataframe\n",
    "df_cruise.shape"
   ]
  },
  {
   "cell_type": "code",
   "execution_count": null,
   "id": "6e4857e4",
   "metadata": {},
   "outputs": [],
   "source": [
    "# Following are the first 5 rows of Pre_cruise as sample to ensure \n",
    "df_cruise.head(5)"
   ]
  },
  {
   "cell_type": "code",
   "execution_count": null,
   "id": "20718853",
   "metadata": {},
   "outputs": [],
   "source": [
    "df_cruise.info()"
   ]
  },
  {
   "cell_type": "code",
   "execution_count": null,
   "id": "82a1bd40",
   "metadata": {},
   "outputs": [],
   "source": [
    "df_cruise.describe().T"
   ]
  },
  {
   "cell_type": "code",
   "execution_count": null,
   "id": "c582536b",
   "metadata": {},
   "outputs": [],
   "source": [
    "df_cruise_missing = df_cruise.isna()\n",
    "print(\"The following are the columns with the number of missing data\")\n",
    "df_cruise_missing.loc[:, df_cruise.any()].sum()"
   ]
  },
  {
   "cell_type": "markdown",
   "id": "ff908afc",
   "metadata": {},
   "source": [
    "#### From the above, I quickly inspecting the structure and content of a DataFrame\n",
    "#### Looking at the above huge missing data is my concern. Given that there are 133,746 records, with 20,293 missing data in Baggage handling that is 15.1%.\n",
    "#### WiFi & Entertainment contribute to 52% of missing data, I suggest not to use these columns during modelling\n",
    "#### I notice there are 2 Ext_Intcodes from each dataset. If they are the same then drop one.\n",
    "#### DOB is an object datatype rather than a datetime.\n",
    "#### Cruise Duration contain both KM and Miles which need to standardise urgently before proceeding into any visualisation which can cause inaccuracy."
   ]
  },
  {
   "cell_type": "markdown",
   "id": "908df50c",
   "metadata": {},
   "source": [
    "## Data Understanding"
   ]
  },
  {
   "cell_type": "code",
   "execution_count": 5,
   "id": "35efe0ac",
   "metadata": {},
   "outputs": [],
   "source": [
    "def plot_hists_from_dataframe(dataframe: pd.core.frame.DataFrame, dependent_features: list):\n",
    "    \"\"\"\n",
    "        This function will produce a histogram of the each of the element found in the dependent_features that resides in\n",
    "        DataFrame. The significance of this function is to list out the count of every value in dependent_features. From the\n",
    "        the bar, we can lookout for dirty data and perform data cleansing.\n",
    " \n",
    "        Args:\n",
    "            dataframe (Dataframe): The dataframe which contain the column to be examined.\n",
    "            dependent_features (list): The column name to plot the histogram.\n",
    " \n",
    "        Returns:\n",
    "            NIL.\n",
    "    \"\"\"\n",
    "    for col_name in dependent_features:\n",
    "        value_counts = dataframe[col_name].value_counts()\n",
    "        plt.figure(figsize=(10, 5))\n",
    "        bars = plt.bar(value_counts.index, value_counts.values)\n",
    "        plt.title(f'Distribution of {col_name}')\n",
    "        plt.xlabel(col_name)\n",
    "        plt.ylabel('Count')\n",
    "        plt.xticks(rotation=90)  \n",
    "        for bar, count in zip(bars, value_counts.values):\n",
    "            plt.text(bar.get_x() + bar.get_width() / 2, count, str(count), ha='center', va='bottom')\n",
    "\n",
    "        plt.tight_layout()\n",
    "        plt.show()"
   ]
  },
  {
   "cell_type": "markdown",
   "id": "edece1ae",
   "metadata": {},
   "source": [
    "#### This stage, I like to see the dirty data that existed in each Categorical data and their count"
   ]
  },
  {
   "cell_type": "code",
   "execution_count": null,
   "id": "e415292c",
   "metadata": {
    "scrolled": false
   },
   "outputs": [],
   "source": [
    "# # Visualise a histogram on the every value in each feature in the list  \n",
    "# column_names = df_cruise.columns.tolist()\n",
    "# # Omit IDs, working and continuous variables from the list \n",
    "# elements_to_remove = [\"Date of Birth\",\"Ext_Intcode\",\"Logging\",\"Distance in KM\",\"Ticket Type\",\"Age\"] \n",
    "# column_names = list(filter(lambda x: x not in elements_to_remove, column_names))\n",
    "# plot_hists_from_dataframe(df_cruise, column_names)"
   ]
  },
  {
   "cell_type": "markdown",
   "id": "cb53a0e8",
   "metadata": {},
   "source": [
    "<div style=\"background-color: #f0f9ff; border-left: 6px solid #0ea5e9; font-size: 100%; padding: 10px;\">\n",
    "    <h3 style=\"color: #27374D; font-size: 18px; margin-top: 0; margin-bottom: 10px;\">📉  Observation: </h3>\n",
    "    <ul>\n",
    "        <li>Gender\n",
    "            <ul>\n",
    "                <li>non-numeric Binary variable. Need transform for Male to 1 and Female to 0.</li>\n",
    "                <li>Male is slightly more than Female, I prefer to use random so not to in create distortion.</li>\n",
    "                <li>If I impute to Male, because it is more than female, it distorts the distribution</li>\n",
    "            </ul>\n",
    "        </li>\n",
    "        <li>Date Of Birth\n",
    "            <ul>\n",
    "                <li>This field transforms to Age. Age is a numeric Continuous variable</li>\n",
    "                <li>For missing age, I use median.</li>\n",
    "                <li>I consider to use bin to categorise, as the older the passenger is, the better ticket typehe purchase</li>\n",
    "            </ul>\n",
    "        </li>\n",
    "        <li>Source of Traffic\n",
    "            <ul>\n",
    "                <li>non-numeric nominal variable - Need to use One Hot Key Encoder</li>\n",
    "                <li>No missing value.</li>\n",
    "            </ul>\n",
    "        </li>\n",
    "        <li>Onboard Wifi Service\n",
    "            <ul>\n",
    "                <li>This is an non-numeric ordinal variable. So need to use ordinal Encoder.</li>\n",
    "                <li>Since majority thought that Wifi is between \"A little impt\" and \"Somewhat impt\", if, I impute to mode, which is \"A little impt\", it should not distort the distribution much.</li>\n",
    "            </ul>\n",
    "        </li>\n",
    "        <li>Embarkation/Disembarkation time convenient\n",
    "            <ul>\n",
    "                <li>This is an numeric ordinal variable. No further action required.</li>                    \n",
    "                <li>Since slight higher trend towards is very important and extreme impt , I impute missing value with mode.</li>\n",
    "            </ul>\n",
    "        </li>       \n",
    "        <li>Ease of Online booking\n",
    "            <ul>\n",
    "                <li>This is an numeric ordinal variable. No further action required.</li>\n",
    "                <li>Since slight higher trend towards is a little impt and somewhat impt, I impute missing value with mode.</li>\n",
    "            </ul>\n",
    "        </li>\n",
    "        <li>Gate location\n",
    "            <ul>\n",
    "                <li>This is an numeric ordinal variable. No further action required.</li>\n",
    "                <li>Since slight higher trend towards is a somewhat impt and very impt, I impute missing value with mode.</li>\n",
    "            </ul>\n",
    "        </li>\n",
    "        <li>Onboard Dining Service\n",
    "            <ul>\n",
    "                <li>This is an non-numeric ordinal variable. So need to use ordinal Encoder.</li>\n",
    "                <li>Since slight higher trend towards is a Very impt and extremely impt, I impute missing value with mode.</li>\n",
    "            </ul>\n",
    "        </li> \n",
    "        <li>Online Check-in\n",
    "            <ul>\n",
    "                <li>This is an numeric ordinal variable. No further action required.</li>\n",
    "                <li>Since slight higher trend towards is a Very impt, I impute missing value with mode.</li>\n",
    "            </ul>\n",
    "        </li>\n",
    "        <li>Cabin Comfort\n",
    "            <ul>\n",
    "                <li>This is an numeric ordinal variable. No further action required.</li>\n",
    "                <li>Since slight higher trend towards is a Very impt, I impute missing value with mode.</li>\n",
    "            </ul>\n",
    "        </li>\n",
    "        <li>Onboard Entertainment\n",
    "            <ul>\n",
    "                <li>This is an non-numeric ordinal variable. So need to use ordinal Encoder.</li>\n",
    "                <li>Since slight higher trend towards is a Very impt and extremely impt, I impute missing value with mode.</li>\n",
    "            </ul>\n",
    "        </li>\n",
    "        <li>Cabin service\n",
    "            <ul>\n",
    "                <li>This is an numeric ordinal variable. No further action required.</li>\n",
    "                <li>Since slight higher trend towards is a Very impt and extremely impt, I impute missing value with mode.</li>\n",
    "            </ul>\n",
    "        </li>\n",
    "        <li>Baggage handling\n",
    "            <ul>\n",
    "                <li>This is an numeric ordinal variable. No further action required.</li>\n",
    "                <li>Since slight higher trend towards is a Very impt, I impute missing value with mode.</li>\n",
    "            </ul>\n",
    "        </li>\n",
    "        <li>Port Check-in Service\n",
    "            <ul>\n",
    "                <li>This is an numeric ordinal variable. No further action required.</li>\n",
    "                <li>Since slight higher trend towards is a somewhat impt and Very impt, I impute missing value with mode.</li>\n",
    "            </ul>\n",
    "        </li>\n",
    "        <li>Onboard Service\n",
    "            <ul>\n",
    "                <li>This is an numeric ordinal variable. No further action required.</li>\n",
    "                <li>Since slight higher trend towards is a Very impt and Extremely impt, I impute missing value with mode.</li>\n",
    "            </ul>\n",
    "        </li>\n",
    "        <li>Cleanliness\n",
    "            <ul>\n",
    "                <li>This is an numeric ordinal variable. No further action required.</li>\n",
    "                <li>Since slight higher trend towards is a Very impt and somewhat impt, I impute missing value with mode.</li>\n",
    "            </ul>\n",
    "        </li>\n",
    "        <li>Cruise Name\n",
    "            <ul>\n",
    "                <li>Group blast, blast0ise, blastoise under Blastoise</li>\n",
    "                <li>Group IAPRAS, lap, lapras under Lapras</li>\n",
    "                <li>All missing value group under Blastoise since most taking Blastoise</li>\n",
    "                <li>non-numeric Binary variable. Need transform for Blastoise to 1 and Lapras to 0.</li>\n",
    "            </ul>\n",
    "        </li>\n",
    "        <li>Ticket Type\n",
    "            <ul>\n",
    "                <li>Since this is the dependent variable, any missing value should be removed.</li>\n",
    "                <li>Need to use Label encoder since it is the Dependent variable</li>                    \n",
    "            </ul>\n",
    "        </li>\n",
    "        <li>WiFi, Entertainment\n",
    "            <ul>\n",
    "                <li>I like to exclude these features from modelling as there are too many missing values. </li>            \n",
    "            </ul>\n",
    "        </li>\n",
    "        <li>Cruise Distance\n",
    "            <ul>\n",
    "                <li>Standard to Distance in KM</li>\n",
    "                <li>Impute missing to Mean.\n",
    "                </li>\n",
    "            </ul>\n",
    "        </li>        \n",
    "</div>\n"
   ]
  },
  {
   "cell_type": "code",
   "execution_count": 6,
   "id": "4f423905",
   "metadata": {},
   "outputs": [],
   "source": [
    "def plt_axis_name(x_column,y_column, dataframe):  \n",
    "    plt.title(f'Relationship between {x_column} and {y_column}')\n",
    "    plt.xlabel(x_column)\n",
    "    plt.ylabel(y_column)"
   ]
  },
  {
   "cell_type": "code",
   "execution_count": 7,
   "id": "7a944322",
   "metadata": {},
   "outputs": [],
   "source": [
    "def volin_plot(x_column, y_column, dataframe):\n",
    "    plt.figure(figsize=(8, 6))     \n",
    "    sns.violinplot(x=x_column, y=y_column, data=dataframe)\n",
    "    plt_axis_name(x_column,y_column, dataframe)       \n",
    "    plt.show()"
   ]
  },
  {
   "cell_type": "code",
   "execution_count": 8,
   "id": "4104387e",
   "metadata": {},
   "outputs": [],
   "source": [
    "def box_plot(x_column, y_column, dataframe):\n",
    "    plt.figure(figsize=(8, 6))\n",
    "    sns.boxplot(x=x_column, y=y_column, data=dataframe)\n",
    "    plt_axis_name(x_column,y_column, dataframe)\n",
    "    plt.show()"
   ]
  },
  {
   "cell_type": "code",
   "execution_count": 9,
   "id": "9735c069",
   "metadata": {},
   "outputs": [
    {
     "data": {
      "image/png": "[encoded data removed]",
      "text/plain": [
       "<Figure size 800x600 with 1 Axes>"
      ]
     },
     "metadata": {},
     "output_type": "display_data"
    }
   ],
   "source": [
    "volin_plot('Distance in KM','Ticket Type', df_cruise)"
   ]
  },
  {
   "cell_type": "markdown",
   "id": "23a1d024",
   "metadata": {},
   "source": [
    "#### From the above volin plot, I can gather that\n",
    "1. Less people travel using Luxury as compared to Standard and Deluxe.\n",
    "2. For longer distance, people choose Standard and Deluxe over Luxury. "
   ]
  },
  {
   "cell_type": "code",
   "execution_count": null,
   "id": "5b45931d",
   "metadata": {},
   "outputs": [],
   "source": [
    "box_plot('Age','Ticket Type', df_cruise)"
   ]
  },
  {
   "cell_type": "markdown",
   "id": "5ac4d880",
   "metadata": {},
   "source": [
    "#### From the above boxplot, I can gather that\n",
    "1. As the older you are the more you can afford higher class. This can be seen by the mean of Luxury higher than Deluxe which is in turn higher than Standard. \n",
    "2. Some outliners in Luxury class"
   ]
  },
  {
   "cell_type": "code",
   "execution_count": null,
   "id": "9b563993",
   "metadata": {
    "scrolled": false
   },
   "outputs": [],
   "source": [
    "## Correlation table\n",
    "corr = round(df_cruise.corr(numeric_only=True),3)\n",
    "mask = np.triu(np.ones_like(corr, dtype=bool))\n",
    "plt.figure(figsize=(20,10))\n",
    "sns.heatmap(corr, annot=True, cmap=\"coolwarm\", mask=mask, square=True)\n",
    "plt.title('Correlation Heatmap')\n",
    "plt.show()"
   ]
  },
  {
   "cell_type": "code",
   "execution_count": null,
   "id": "efe5e26e",
   "metadata": {},
   "outputs": [],
   "source": [
    "%run ./src/feature_engineering.py\n",
    "fe = ImputeMissingValue()\n",
    "fe.impute_missing_data(df_cruise)"
   ]
  },
  {
   "cell_type": "code",
   "execution_count": null,
   "id": "8c86589f",
   "metadata": {},
   "outputs": [],
   "source": [
    "df_cruise.info()"
   ]
  },
  {
   "cell_type": "code",
   "execution_count": null,
   "id": "be3c686e",
   "metadata": {},
   "outputs": [],
   "source": []
  },
  {
   "cell_type": "code",
   "execution_count": null,
   "id": "2292e733",
   "metadata": {},
   "outputs": [],
   "source": []
  },
  {
   "cell_type": "code",
   "execution_count": null,
   "id": "fcbb31f4",
   "metadata": {},
   "outputs": [],
   "source": []
  },
  {
   "cell_type": "code",
   "execution_count": null,
   "id": "004b2d05",
   "metadata": {},
   "outputs": [],
   "source": [
    "# Define Class as Target Variable, and the rest as feature variable\n",
    "X = df_data.drop(\"class\", axis=1)     # everything except 'class' column\n",
    "y = df_data['class']\n",
    "\n",
    "# Define the train dataset as 70% and test dataset as 30%\n",
    "X_train, X_test, Y_train, Y_test = train_test_split(X, y, test_size=0.3, random_state = 1)\n",
    "\n",
    "# Confirm that the records returned for Train is about 70% and Test is about 30%\n",
    "print(f\"'X' shape: {X_train.shape}\")\n",
    "print(f\"'y' shape: {X_test.shape}\")"
   ]
  }
 ],
 "metadata": {
  "kernelspec": {
   "display_name": "Python 3 (ipykernel)",
   "language": "python",
   "name": "python3"
  },
  "language_info": {
   "codemirror_mode": {
    "name": "ipython",
    "version": 3
   },
   "file_extension": ".py",
   "mimetype": "text/x-python",
   "name": "python",
   "nbconvert_exporter": "python",
   "pygments_lexer": "ipython3",
   "version": "3.11.4"
  }
 },
 "nbformat": 4,
 "nbformat_minor": 5
}
